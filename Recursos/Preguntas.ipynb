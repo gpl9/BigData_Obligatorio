{
 "cells": [
  {
   "cell_type": "code",
   "execution_count": null,
   "id": "5f533675-79d6-423d-bfe0-b7ebaa85c9be",
   "metadata": {},
   "outputs": [],
   "source": [
    "%pip install --user bokeh pandas-bokeh\n",
    "%pip install --user matplotlib\n",
    "%pip install --user seaborn"
   ]
  },
  {
   "cell_type": "code",
   "execution_count": null,
   "id": "b70d90f1-f584-4032-92f6-b901fa69eca9",
   "metadata": {},
   "outputs": [],
   "source": [
    "import pyspark\n",
    "from pyspark.sql.functions import *\n",
    "from pyspark.sql.window import Window\n",
    "sc = pyspark.SparkContext('local[*]')"
   ]
  },
  {
   "cell_type": "code",
   "execution_count": null,
   "id": "5c6578b7-cee6-4d59-a22b-78c160ad7ddd",
   "metadata": {},
   "outputs": [],
   "source": [
    "from pyspark.sql.functions import *"
   ]
  },
  {
   "cell_type": "code",
   "execution_count": null,
   "id": "922bc954-9f86-49db-8065-08d0056d7d49",
   "metadata": {},
   "outputs": [],
   "source": [
    "# import findspark\n",
    "# findspark.init()\n",
    "import pyspark\n",
    "from pyspark.sql import SparkSession\n",
    "spark = SparkSession.builder \\\n",
    "    .appName(\"QueryHiveTable\") \\\n",
    "    .config(\"spark.sql.catalogImplementation\", \"hive\") \\\n",
    "    .enableHiveSupport() \\\n",
    "    .getOrCreate()"
   ]
  },
  {
   "cell_type": "code",
   "execution_count": null,
   "id": "ec18b129-b616-44ef-af33-492bbf2e55ee",
   "metadata": {},
   "outputs": [],
   "source": [
    "import pandas_bokeh\n",
    "from bokeh.plotting import *\n",
    "from bokeh.io import *\n",
    "from bokeh.palettes import Category10 as colors\n",
    "from bokeh.models import *\n",
    "\n",
    "import seaborn as sns\n",
    "import pandas as pd\n",
    "import matplotlib.pyplot as plt"
   ]
  },
  {
   "cell_type": "code",
   "execution_count": null,
   "id": "939676d5-29b0-40b7-888c-9755dbba51b3",
   "metadata": {
    "scrolled": true
   },
   "outputs": [],
   "source": [
    "spark.sql(\"USE obligatorio\")"
   ]
  },
  {
   "cell_type": "markdown",
   "id": "d07221c8-41dc-4053-9a46-3baed902b20f",
   "metadata": {},
   "source": [
    "Preguntas\n",
    "\n",
    "1) Top 10 conjuntos de productos que más se venden juntos."
   ]
  },
  {
   "cell_type": "code",
   "execution_count": null,
   "id": "5509913d-6e5c-4671-b82d-d85fa9cadc32",
   "metadata": {},
   "outputs": [],
   "source": [
    "set_products = spark.sql(\"\"\"\n",
    "                            SELECT fo.product_id AS product_1, fo2.product_id AS product_2, COUNT(*) AS pair_count\n",
    "                            FROM fact_order fo\n",
    "                            JOIN fact_order fo2 ON fo2.order_id = fo.order_id AND fo2.product_id < fo.product_id\n",
    "                            GROUP BY fo.product_id, fo2.product_id\n",
    "                            ORDER BY pair_count DESC\n",
    "                            LIMIT 10\n",
    "                        \"\"\")"
   ]
  },
  {
   "cell_type": "code",
   "execution_count": null,
   "id": "9b108a91-5ddc-4936-86a7-46a57a6f3c7a",
   "metadata": {},
   "outputs": [],
   "source": [
    "set_products.show(truncate=False)"
   ]
  },
  {
   "cell_type": "markdown",
   "id": "453baf47-9366-4d7a-9cb5-cc534bf4ff1a",
   "metadata": {},
   "source": [
    "Mapa de calor"
   ]
  },
  {
   "cell_type": "code",
   "execution_count": null,
   "id": "5fb4d4c2-8e78-45d3-b807-e1b91409b212",
   "metadata": {},
   "outputs": [],
   "source": [
    "set_products_df = set_products.toPandas()"
   ]
  },
  {
   "cell_type": "code",
   "execution_count": null,
   "id": "16a949cd-4b14-4ad4-a22b-985a90391500",
   "metadata": {},
   "outputs": [],
   "source": [
    "heatmap_data = set_products_df.pivot_table(index='product_1', columns='product_2', values='pair_count', fill_value=0)\n",
    "\n",
    "plt.figure(figsize=(10, 6))\n",
    "sns.heatmap(heatmap_data, annot=True, cmap='YlGnBu', fmt='g', cbar_kws={'label': 'Pair Count'})\n",
    "plt.title('Top 10 conjuntos de productos que más se venden juntos')\n",
    "plt.show()"
   ]
  },
  {
   "cell_type": "markdown",
   "id": "cfd29416-3df2-4dc5-934f-1756bddf1717",
   "metadata": {},
   "source": [
    "Scatter Plot"
   ]
  },
  {
   "cell_type": "code",
   "execution_count": null,
   "id": "455bf91e-24f5-4645-be3d-5d8506a858c5",
   "metadata": {},
   "outputs": [],
   "source": [
    "set_products_df = set_products.toPandas()"
   ]
  },
  {
   "cell_type": "code",
   "execution_count": null,
   "id": "ef608dab-16b8-4556-bde1-f63c710bbfd0",
   "metadata": {},
   "outputs": [],
   "source": [
    "plt.figure(figsize=(10, 6))\n",
    "sns.scatterplot(data=set_products_df, x='product_1', y='product_2', size='pair_count', hue='pair_count', palette='coolwarm', sizes=(20, 200))\n",
    "plt.xticks(rotation=90)\n",
    "plt.title('Top 10 conjuntos de productos que más se venden juntos')\n",
    "plt.show()"
   ]
  },
  {
   "cell_type": "markdown",
   "id": "29f5e8ed-3da5-4766-9ff3-1a687835bde5",
   "metadata": {},
   "source": [
    "2) Top 5 productos más vendidos por ciudad."
   ]
  },
  {
   "cell_type": "code",
   "execution_count": null,
   "id": "04456558-bdc6-4ebc-9f14-7707c3e165c2",
   "metadata": {},
   "outputs": [],
   "source": [
    "ranked_products = spark.sql(\"\"\"\n",
    "                                WITH ranked_products AS (\n",
    "                                    SELECT dc.customer_city AS city, fo.product_id, COUNT(fo.product_id) AS product_count,\n",
    "                                        ROW_NUMBER() OVER (PARTITION BY dc.customer_city ORDER BY COUNT(fo.product_id) DESC) AS rank\n",
    "                                    FROM fact_order fo\n",
    "                                    JOIN dim_customers dc ON dc.customer_id = fo.customer_id\n",
    "                                    GROUP BY dc.customer_city, fo.product_id\n",
    "                                )\n",
    "                                SELECT city, product_id, product_count, rank\n",
    "                                FROM ranked_products\n",
    "                                WHERE rank <= 5\n",
    "                                ORDER BY city, rank;\n",
    "                            \"\"\")"
   ]
  },
  {
   "cell_type": "code",
   "execution_count": null,
   "id": "f523eba5-bdb5-41e0-a8b7-ee7282b1f3bd",
   "metadata": {},
   "outputs": [],
   "source": [
    "ranked_products.show(500, truncate=False)"
   ]
  },
  {
   "cell_type": "markdown",
   "id": "431dacfd-6eba-4c1e-8913-a3b30c3a1712",
   "metadata": {},
   "source": [
    "3) ¿Qué días del mes se vende más?"
   ]
  },
  {
   "cell_type": "code",
   "execution_count": null,
   "id": "7d14f483-978a-4dd9-bad7-7444534cb59d",
   "metadata": {},
   "outputs": [],
   "source": [
    "fact_order = spark.table(\"fact_order\")"
   ]
  },
  {
   "cell_type": "code",
   "execution_count": null,
   "id": "76b69918-a63a-4b4c-b244-0d6567d517f0",
   "metadata": {},
   "outputs": [],
   "source": [
    "days_sales = fact_order.select(\n",
    "    dayofmonth(col(\"order_purchase_timestamp\")).alias(\"day_of_month\"),\n",
    "    col(\"total_items\")\n",
    ").groupBy(\"day_of_month\").agg(\n",
    "    sum(\"total_items\").alias(\"total_products_sold\")\n",
    ")"
   ]
  },
  {
   "cell_type": "code",
   "execution_count": null,
   "id": "783c0bb5-0026-401a-84ca-66dcfff75b2a",
   "metadata": {},
   "outputs": [],
   "source": [
    "most_sold_day = days_sales.filter(col(\"total_products_sold\").isNotNull()) \\\n",
    "                          .orderBy(col(\"total_products_sold\").desc())"
   ]
  },
  {
   "cell_type": "code",
   "execution_count": null,
   "id": "508571b3-69b0-46c5-beae-4b1596ee0b68",
   "metadata": {},
   "outputs": [],
   "source": [
    "most_sold_day.show(31)"
   ]
  },
  {
   "cell_type": "markdown",
   "id": "64271872-e7e7-4d7b-9930-aa05852cf808",
   "metadata": {},
   "source": [
    "Gráfico de barras"
   ]
  },
  {
   "cell_type": "code",
   "execution_count": null,
   "id": "08e253ad-8422-4d7c-9777-e34200da3424",
   "metadata": {},
   "outputs": [],
   "source": [
    "most_sold_day_pd = most_sold_day.toPandas()"
   ]
  },
  {
   "cell_type": "code",
   "execution_count": null,
   "id": "81838555-f9b2-4ccb-a56a-21868d7d9c7e",
   "metadata": {},
   "outputs": [],
   "source": [
    "pandas_bokeh.output_notebook()\n",
    "\n",
    "most_sold_day_pd.plot(kind='bar', x='day_of_month', y='total_products_sold', title='¿Qué días del mes se vende más?', legend=False)"
   ]
  },
  {
   "cell_type": "markdown",
   "id": "44e103e8-c30b-48c7-b611-a3b272f6c681",
   "metadata": {},
   "source": [
    "Diagrama de líneas"
   ]
  },
  {
   "cell_type": "code",
   "execution_count": null,
   "id": "d380ee5f-bc7e-43da-9f55-168f810fe299",
   "metadata": {},
   "outputs": [],
   "source": [
    "sns.set(style=\"whitegrid\")\n",
    "\n",
    "plt.figure(figsize=(12, 6))\n",
    "sns.lineplot(\n",
    "    x=\"day_of_month\",\n",
    "    y=\"total_products_sold\",\n",
    "    data=most_sold_day_pd,\n",
    "    marker=\"o\",\n",
    "    color=\"b\"\n",
    ")\n",
    "\n",
    "plt.xticks(most_sold_day_pd[\"day_of_month\"], rotation=45)\n",
    "plt.xlabel(\"Día del mes\", fontsize=12)\n",
    "plt.ylabel(\"Total ventas\", fontsize=12)\n",
    "plt.title(\"¿Qué días del mes se vende más?\", fontsize=16)\n",
    "\n",
    "plt.grid(color='gray', linestyle='--', linewidth=0.5)\n",
    "\n",
    "plt.show()"
   ]
  },
  {
   "cell_type": "markdown",
   "id": "0a260297-bfe2-4659-8840-93ccef0cb8dd",
   "metadata": {},
   "source": [
    "4) ¿Qué proporción de pedidos recibe cada calificación en las reseñas (de 1 a 5)?"
   ]
  },
  {
   "cell_type": "code",
   "execution_count": null,
   "id": "499e484c-6b08-482c-ad51-85bc933b1457",
   "metadata": {},
   "outputs": [],
   "source": [
    "total_reviews = spark.sql(\"\"\"\n",
    "                            SELECT COUNT(*) AS total_reviews\n",
    "                            FROM fact_order fo\n",
    "                            JOIN dim_reviews dr ON dr.order_id = fo.order_id\n",
    "                          \"\"\").collect()[0][0]"
   ]
  },
  {
   "cell_type": "code",
   "execution_count": null,
   "id": "85522604-3c9e-42f9-bc5c-ea006410dad2",
   "metadata": {},
   "outputs": [],
   "source": [
    "review_counts = spark.sql(\"\"\"\n",
    "                            SELECT review_score, COUNT(*) AS review_count\n",
    "                            FROM fact_order fo\n",
    "                            JOIN dim_reviews dr ON dr.order_id = fo.order_id\n",
    "                            GROUP BY review_score\n",
    "                          \"\"\")"
   ]
  },
  {
   "cell_type": "code",
   "execution_count": null,
   "id": "f046d6e9-b139-46f9-b626-b55b2fd06653",
   "metadata": {},
   "outputs": [],
   "source": [
    "review_percentages = review_counts.withColumn(\"percentage\", round((col(\"review_count\") / total_reviews) * 100, 2))"
   ]
  },
  {
   "cell_type": "code",
   "execution_count": null,
   "id": "bb06323b-e44b-45e6-8423-9646fb124b83",
   "metadata": {},
   "outputs": [],
   "source": [
    "review_percentages.show()"
   ]
  },
  {
   "cell_type": "markdown",
   "id": "24152dd0-8b1a-4599-8b8f-420c4b476205",
   "metadata": {},
   "source": [
    "Gráfico circular"
   ]
  },
  {
   "cell_type": "code",
   "execution_count": null,
   "id": "62beeec3-7971-44d8-9289-4ef0fdfbc7d1",
   "metadata": {},
   "outputs": [],
   "source": [
    "review_percentages_pd = review_percentages.toPandas()"
   ]
  },
  {
   "cell_type": "code",
   "execution_count": null,
   "id": "bcf4b347-ebf9-4d17-b3d9-add6bdadc7bc",
   "metadata": {},
   "outputs": [],
   "source": [
    "pandas_bokeh.output_notebook()\n",
    "\n",
    "review_percentages_pd.plot(kind=\"pie\", y=\"percentage\", labels=review_percentages_pd[\"review_score\"], legend=False, title=\"¿Qué proporción de pedidos recibe cada calificación en las reseñas (de 1 a 5)?\")"
   ]
  },
  {
   "cell_type": "markdown",
   "id": "f49f0a7b-d1dd-4f4f-a5f0-56a410db23ed",
   "metadata": {},
   "source": [
    "Gráfico de barras"
   ]
  },
  {
   "cell_type": "code",
   "execution_count": null,
   "id": "bb896f56-a010-4744-a1e3-10232e7c5820",
   "metadata": {},
   "outputs": [],
   "source": [
    "review_scores = review_percentages_pd['review_score']\n",
    "percentages = review_percentages_pd['percentage']\n",
    "\n",
    "p = figure(title=\"¿Qué proporción de pedidos recibe cada calificación en las reseñas (de 1 a 5)?\", x_axis_label='Review Score', y_axis_label='Percentage', x_range=[str(x) for x in range(1, 6)])\n",
    "\n",
    "p.vbar(x=review_scores, top=percentages, width=0.8, color=colors[len(review_scores)])\n",
    "\n",
    "output_notebook()\n",
    "show(p)"
   ]
  },
  {
   "cell_type": "markdown",
   "id": "10effde7-0d0f-45bd-a4fa-11567860708c",
   "metadata": {},
   "source": [
    "5) ¿Cuál es el tiempo promedio entre la aprobación de un pedido y la entrega al cliente?"
   ]
  },
  {
   "cell_type": "code",
   "execution_count": null,
   "id": "db62e240-786c-4553-9906-ffa4da0467e6",
   "metadata": {},
   "outputs": [],
   "source": [
    "fact_order = spark.table(\"fact_order\")"
   ]
  },
  {
   "cell_type": "code",
   "execution_count": null,
   "id": "b99f4262-edab-4145-aa74-cd74d443667c",
   "metadata": {},
   "outputs": [],
   "source": [
    "avg_time = fact_order.agg(\n",
    "    count(\"*\").alias(\"total_orders\"),\n",
    "    round(avg(\"diff_order_delivered_customer_vs_order_approved_at\"), 2).alias(\"average_time (days)\")\n",
    "    )"
   ]
  },
  {
   "cell_type": "code",
   "execution_count": null,
   "id": "ed6def29-8814-478e-b4a0-7ef48b71de9f",
   "metadata": {},
   "outputs": [],
   "source": [
    "avg_time.show()"
   ]
  },
  {
   "cell_type": "code",
   "execution_count": null,
   "id": "e1eefff8-dda6-49ab-b66c-674c079ae20c",
   "metadata": {},
   "outputs": [],
   "source": []
  }
 ],
 "metadata": {
  "kernelspec": {
   "display_name": "Python 3 (ipykernel)",
   "language": "python",
   "name": "python3"
  },
  "language_info": {
   "codemirror_mode": {
    "name": "ipython",
    "version": 3
   },
   "file_extension": ".py",
   "mimetype": "text/x-python",
   "name": "python",
   "nbconvert_exporter": "python",
   "pygments_lexer": "ipython3",
   "version": "3.8.8"
  }
 },
 "nbformat": 4,
 "nbformat_minor": 5
}
