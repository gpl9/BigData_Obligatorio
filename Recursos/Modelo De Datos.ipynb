{
 "cells": [
  {
   "cell_type": "code",
   "execution_count": 1,
   "id": "cee1f910-a640-4811-ab77-fdbdcb39c985",
   "metadata": {},
   "outputs": [
    {
     "name": "stderr",
     "output_type": "stream",
     "text": [
      "Setting default log level to \"WARN\".\n",
      "To adjust logging level use sc.setLogLevel(newLevel). For SparkR, use setLogLevel(newLevel).\n"
     ]
    },
    {
     "name": "stdout",
     "output_type": "stream",
     "text": [
      "2024-12-07T20:31:06,114 WARN [Thread-4] org.apache.hadoop.util.NativeCodeLoader - Unable to load native-hadoop library for your platform... using builtin-java classes where applicable\n"
     ]
    }
   ],
   "source": [
    "import pyspark\n",
    "from pyspark.sql.functions import *\n",
    "sc = pyspark.SparkContext('local[*]')"
   ]
  },
  {
   "cell_type": "code",
   "execution_count": 2,
   "id": "e0bd032d-959f-4e21-849f-6b97197d0539",
   "metadata": {},
   "outputs": [],
   "source": [
    "from pyspark.sql.functions import *"
   ]
  },
  {
   "cell_type": "code",
   "execution_count": 3,
   "id": "fd439ca8-6a5d-46aa-8de5-eaddf08a05c7",
   "metadata": {},
   "outputs": [],
   "source": [
    "# import findspark\n",
    "# findspark.init()\n",
    "import pyspark\n",
    "from pyspark.sql import SparkSession\n",
    "spark = SparkSession.builder.getOrCreate()"
   ]
  },
  {
   "cell_type": "code",
   "execution_count": 4,
   "id": "0aa2720c-6945-4b8f-a87e-cbbbca70cd58",
   "metadata": {},
   "outputs": [
    {
     "name": "stderr",
     "output_type": "stream",
     "text": [
      "                                                                                \r"
     ]
    }
   ],
   "source": [
    "# 1\n",
    "cleaned_olist_customers_dataset = spark.read.csv(\"/obligatorio/data/cleaned/cleaned_olist_customers_dataset.csv\", header=True, inferSchema=True)\n",
    "# 2\n",
    "cleaned_olist_geolocation_dataset = spark.read.csv(\"/obligatorio/data/cleaned/cleaned_olist_geolocation_dataset.csv\", header=True, inferSchema=True)\n",
    "# 3\n",
    "cleaned_olist_order_items_dataset = spark.read.csv(\"/obligatorio/data/cleaned/cleaned_olist_order_items_dataset.csv\", header=True, inferSchema=True)\n",
    "# 4\n",
    "cleaned_olist_order_payments_dataset = spark.read.csv(\"/obligatorio/data/cleaned/cleaned_olist_order_payments_dataset.csv\", header=True, inferSchema=True)\n",
    "# 5\n",
    "cleaned_olist_order_reviews_dataset = spark.read.csv(\"/obligatorio/data/cleaned/cleaned_olist_order_reviews_dataset.csv\", header=True, inferSchema=True)\n",
    "# 6\n",
    "cleaned_olist_orders_dataset = spark.read.csv(\"/obligatorio/data/cleaned/cleaned_olist_orders_dataset.csv\", header=True, inferSchema=True)\n",
    "# 7\n",
    "cleaned_olist_products_dataset = spark.read.csv(\"/obligatorio/data/cleaned/cleaned_olist_products_dataset.csv\", header=True, inferSchema=True)\n",
    "# 8\n",
    "cleaned_olist_sellers_dataset = spark.read.csv(\"/obligatorio/data/cleaned/cleaned_olist_sellers_dataset.csv\", header=True, inferSchema=True)\n",
    "# 9\n",
    "cleaned_product_category_name_translation_dataset = spark.read.csv(\"/obligatorio/data/cleaned/cleaned_product_category_name_translation.csv\", header=True, inferSchema=True)"
   ]
  },
  {
   "cell_type": "markdown",
   "id": "3464af43-a5b2-49ce-afad-374729ddf041",
   "metadata": {},
   "source": [
    "Database Schema"
   ]
  },
  {
   "cell_type": "code",
   "execution_count": 6,
   "id": "54be7c3a-98ba-49c1-ba96-fefc217e062e",
   "metadata": {},
   "outputs": [],
   "source": [
    "# Products"
   ]
  },
  {
   "cell_type": "code",
   "execution_count": 7,
   "id": "fe21e138-8848-43b5-b6a4-5de2efcd8ec3",
   "metadata": {},
   "outputs": [
    {
     "name": "stdout",
     "output_type": "stream",
     "text": [
      "root\n",
      " |-- product_id: string (nullable = true)\n",
      " |-- product_category_name: string (nullable = true)\n",
      " |-- product_name_lenght: integer (nullable = true)\n",
      " |-- product_description_lenght: integer (nullable = true)\n",
      " |-- product_photos_qty: integer (nullable = true)\n",
      " |-- product_weight_g: integer (nullable = true)\n",
      " |-- product_length_cm: integer (nullable = true)\n",
      " |-- product_height_cm: integer (nullable = true)\n",
      " |-- product_width_cm: integer (nullable = true)\n",
      "\n"
     ]
    }
   ],
   "source": [
    "cleaned_olist_products_dataset.printSchema()"
   ]
  },
  {
   "cell_type": "code",
   "execution_count": 8,
   "id": "f8f49874-2827-48e4-9305-54e28ed0ad7f",
   "metadata": {},
   "outputs": [
    {
     "name": "stdout",
     "output_type": "stream",
     "text": [
      "root\n",
      " |-- product_category_name: string (nullable = true)\n",
      " |-- product_category_name_english: string (nullable = true)\n",
      "\n"
     ]
    }
   ],
   "source": [
    "cleaned_product_category_name_translation_dataset.printSchema()"
   ]
  },
  {
   "cell_type": "code",
   "execution_count": 9,
   "id": "5bca0a65-ad17-4e86-8a74-fec9f2559e10",
   "metadata": {},
   "outputs": [],
   "source": [
    "dim_products = cleaned_olist_products_dataset.join(\n",
    "    cleaned_product_category_name_translation_dataset,\n",
    "    \"product_category_name\",\n",
    "    \"left\"\n",
    ").select(\n",
    "    col(\"product_id\"),\n",
    "    col(\"product_category_name\"),\n",
    "    col(\"product_category_name_english\"),\n",
    "    col(\"product_weight_g\").alias(\"weight_g\"),\n",
    "    col(\"product_length_cm\").alias(\"length_cm\"),\n",
    "    col(\"product_height_cm\").alias(\"height_cm\"),\n",
    "    col(\"product_width_cm\").alias(\"width_cm\")\n",
    ")"
   ]
  },
  {
   "cell_type": "code",
   "execution_count": 10,
   "id": "f1e83081-bab8-482b-bcc6-35e70aac1df6",
   "metadata": {},
   "outputs": [
    {
     "name": "stdout",
     "output_type": "stream",
     "text": [
      "+--------------------+---------------------+-----------------------------+--------+---------+---------+--------+\n",
      "|          product_id|product_category_name|product_category_name_english|weight_g|length_cm|height_cm|width_cm|\n",
      "+--------------------+---------------------+-----------------------------+--------+---------+---------+--------+\n",
      "|7fdbc1ecf5fdf5c98...|        esporte_lazer|               sports_leisure|     213|       16|       10|      13|\n",
      "|42fe4aefc7e8a45dd...|           automotivo|                         auto|    1300|       20|       20|      20|\n",
      "|0d79e2972015716ed...|         market_place|                 market_place|    2150|       40|       25|      30|\n",
      "|a2f4e28e50f60566e...| instrumentos_musi...|          musical_instruments|    5850|       40|        9|     105|\n",
      "|b2cadfc2d6da74fba...| utilidades_domest...|                   housewares|     400|       16|        9|      12|\n",
      "+--------------------+---------------------+-----------------------------+--------+---------+---------+--------+\n",
      "only showing top 5 rows\n",
      "\n"
     ]
    }
   ],
   "source": [
    "dim_products.show(5)"
   ]
  },
  {
   "cell_type": "code",
   "execution_count": 11,
   "id": "50ff2e4a-2be8-4ffa-8d74-9a315bd07059",
   "metadata": {},
   "outputs": [
    {
     "name": "stdout",
     "output_type": "stream",
     "text": [
      "+--------------------+---------------------+-------------------+--------------------------+------------------+----------------+-----------------+-----------------+----------------+\n",
      "|          product_id|product_category_name|product_name_lenght|product_description_lenght|product_photos_qty|product_weight_g|product_length_cm|product_height_cm|product_width_cm|\n",
      "+--------------------+---------------------+-------------------+--------------------------+------------------+----------------+-----------------+-----------------+----------------+\n",
      "|7fdbc1ecf5fdf5c98...|        esporte_lazer|                 57|                       649|                 1|             213|               16|               10|              13|\n",
      "|42fe4aefc7e8a45dd...|           automotivo|                 59|                       162|                 1|            1300|               20|               20|              20|\n",
      "|0d79e2972015716ed...|         market_place|                 50|                       257|                 3|            2150|               40|               25|              30|\n",
      "|a2f4e28e50f60566e...| instrumentos_musi...|                 57|                       374|                 1|            5850|               40|                9|             105|\n",
      "|b2cadfc2d6da74fba...| utilidades_domest...|                 26|                       201|                 1|             400|               16|                9|              12|\n",
      "+--------------------+---------------------+-------------------+--------------------------+------------------+----------------+-----------------+-----------------+----------------+\n",
      "only showing top 5 rows\n",
      "\n"
     ]
    }
   ],
   "source": [
    "cleaned_olist_products_dataset.show(5)"
   ]
  },
  {
   "cell_type": "code",
   "execution_count": 12,
   "id": "d2c21a52-4af6-4520-95e5-0b44da9369d6",
   "metadata": {},
   "outputs": [
    {
     "name": "stdout",
     "output_type": "stream",
     "text": [
      "+---------------------+-----------------------------+\n",
      "|product_category_name|product_category_name_english|\n",
      "+---------------------+-----------------------------+\n",
      "|           automotivo|                         auto|\n",
      "|                  pcs|                    computers|\n",
      "|      eletroportateis|             small_appliances|\n",
      "|     moveis_decoracao|              furniture_decor|\n",
      "| fashion_roupa_mas...|         fashion_male_clot...|\n",
      "+---------------------+-----------------------------+\n",
      "only showing top 5 rows\n",
      "\n"
     ]
    }
   ],
   "source": [
    "cleaned_product_category_name_translation_dataset.show(5)"
   ]
  },
  {
   "cell_type": "code",
   "execution_count": 13,
   "id": "09c73d4d-64b8-4349-8531-7f06f4b96861",
   "metadata": {},
   "outputs": [],
   "source": [
    "# Reviews"
   ]
  },
  {
   "cell_type": "code",
   "execution_count": 14,
   "id": "85fff4de-d6dc-4657-96b6-f7eca816ec0e",
   "metadata": {},
   "outputs": [
    {
     "name": "stdout",
     "output_type": "stream",
     "text": [
      "root\n",
      " |-- review_id: string (nullable = true)\n",
      " |-- order_id: string (nullable = true)\n",
      " |-- review_score: string (nullable = true)\n",
      " |-- review_comment_title: string (nullable = true)\n",
      " |-- review_comment_message: string (nullable = true)\n",
      " |-- review_creation_date: string (nullable = true)\n",
      " |-- review_answer_timestamp: string (nullable = true)\n",
      "\n"
     ]
    }
   ],
   "source": [
    "cleaned_olist_order_reviews_dataset.printSchema()"
   ]
  },
  {
   "cell_type": "code",
   "execution_count": 15,
   "id": "0a114142-0e59-40bd-b31e-ec2856becb1c",
   "metadata": {},
   "outputs": [],
   "source": [
    "dim_reviews = cleaned_olist_order_reviews_dataset.select(\"*\")"
   ]
  },
  {
   "cell_type": "code",
   "execution_count": 16,
   "id": "092ca233-4d7c-435e-9835-b675c1ffd0dd",
   "metadata": {},
   "outputs": [
    {
     "name": "stdout",
     "output_type": "stream",
     "text": [
      "+--------------------+--------------------+------------+--------------------+----------------------+--------------------+-----------------------+\n",
      "|           review_id|            order_id|review_score|review_comment_title|review_comment_message|review_creation_date|review_answer_timestamp|\n",
      "+--------------------+--------------------+------------+--------------------+----------------------+--------------------+-----------------------+\n",
      "|8f9aa50ee40780ba3...|729c445f5f350f88d...|           5|           Muito bom|  Creme maravilhoso...| 2018-05-10 00:00:00|    2018-05-10 16:21:17|\n",
      "|38bcaf95057f842c3...|ca36cc19c0a413c8f...|           3|                null|  Só recebi um prod...| 2018-04-28 00:00:00|    2018-04-29 01:11:49|\n",
      "|08ee947fb131a0a99...|0666806082c797ed8...|           5|                null|  Produto lindo, ótimo| 2017-07-08 00:00:00|    2017-07-09 09:59:54|\n",
      "|1f0c5d31b49a18cc2...|f810273bc84ceae52...|           4|                null|  Entrega uma dia a...| 2018-03-11 00:00:00|    2018-03-14 16:54:17|\n",
      "|a0a4f80c0cae188dd...|fadc814c107804fcb...|           5|                null|                  null| 2017-09-05 00:00:00|    2017-09-06 00:23:45|\n",
      "+--------------------+--------------------+------------+--------------------+----------------------+--------------------+-----------------------+\n",
      "only showing top 5 rows\n",
      "\n"
     ]
    }
   ],
   "source": [
    "dim_reviews.show(5)"
   ]
  },
  {
   "cell_type": "code",
   "execution_count": 17,
   "id": "ea58c4e3-b02b-44bb-a038-8dfccb91797c",
   "metadata": {},
   "outputs": [
    {
     "name": "stdout",
     "output_type": "stream",
     "text": [
      "+--------------------+--------------------+------------+--------------------+----------------------+--------------------+-----------------------+\n",
      "|           review_id|            order_id|review_score|review_comment_title|review_comment_message|review_creation_date|review_answer_timestamp|\n",
      "+--------------------+--------------------+------------+--------------------+----------------------+--------------------+-----------------------+\n",
      "|8f9aa50ee40780ba3...|729c445f5f350f88d...|           5|           Muito bom|  Creme maravilhoso...| 2018-05-10 00:00:00|    2018-05-10 16:21:17|\n",
      "|38bcaf95057f842c3...|ca36cc19c0a413c8f...|           3|                null|  Só recebi um prod...| 2018-04-28 00:00:00|    2018-04-29 01:11:49|\n",
      "|08ee947fb131a0a99...|0666806082c797ed8...|           5|                null|  Produto lindo, ótimo| 2017-07-08 00:00:00|    2017-07-09 09:59:54|\n",
      "|1f0c5d31b49a18cc2...|f810273bc84ceae52...|           4|                null|  Entrega uma dia a...| 2018-03-11 00:00:00|    2018-03-14 16:54:17|\n",
      "|a0a4f80c0cae188dd...|fadc814c107804fcb...|           5|                null|                  null| 2017-09-05 00:00:00|    2017-09-06 00:23:45|\n",
      "+--------------------+--------------------+------------+--------------------+----------------------+--------------------+-----------------------+\n",
      "only showing top 5 rows\n",
      "\n"
     ]
    }
   ],
   "source": [
    "cleaned_olist_order_reviews_dataset.show(5)"
   ]
  },
  {
   "cell_type": "code",
   "execution_count": 18,
   "id": "80271274-79ea-456b-9fe5-edf3d56db535",
   "metadata": {},
   "outputs": [],
   "source": [
    "# Payments"
   ]
  },
  {
   "cell_type": "code",
   "execution_count": 19,
   "id": "bb305000-21b6-4397-b91a-7550bb278567",
   "metadata": {},
   "outputs": [
    {
     "name": "stdout",
     "output_type": "stream",
     "text": [
      "root\n",
      " |-- order_id: string (nullable = true)\n",
      " |-- payment_sequential: integer (nullable = true)\n",
      " |-- payment_type: string (nullable = true)\n",
      " |-- payment_installments: integer (nullable = true)\n",
      " |-- payment_value: double (nullable = true)\n",
      "\n"
     ]
    }
   ],
   "source": [
    "cleaned_olist_order_payments_dataset.printSchema()"
   ]
  },
  {
   "cell_type": "code",
   "execution_count": 20,
   "id": "3f81a64e-85dd-4c4c-a64c-e8a9adcee85a",
   "metadata": {},
   "outputs": [],
   "source": [
    "dim_payments = cleaned_olist_order_payments_dataset.select(\n",
    "    col(\"order_id\"),\n",
    "    col(\"payment_type\"),\n",
    "    col(\"payment_installments\"),\n",
    "    col(\"payment_value\")\n",
    ").withColumn(\"payment_id\", monotonically_increasing_id())"
   ]
  },
  {
   "cell_type": "code",
   "execution_count": 21,
   "id": "778d07da-caeb-44ad-a6db-9b16d9bc0fb8",
   "metadata": {},
   "outputs": [],
   "source": [
    "# Ordeno para que \"payment_id\" quede primera\n",
    "dim_payments = dim_payments.select(\n",
    "    col(\"payment_id\"),\n",
    "    col(\"order_id\"),\n",
    "    col(\"payment_type\"),\n",
    "    col(\"payment_installments\"),\n",
    "    col(\"payment_value\")\n",
    ")"
   ]
  },
  {
   "cell_type": "code",
   "execution_count": 22,
   "id": "0def0ba1-70ee-46a2-b12c-a4ea498a9252",
   "metadata": {},
   "outputs": [
    {
     "name": "stdout",
     "output_type": "stream",
     "text": [
      "+----------+--------------------+------------+--------------------+-------------+\n",
      "|payment_id|            order_id|payment_type|payment_installments|payment_value|\n",
      "+----------+--------------------+------------+--------------------+-------------+\n",
      "|         0|9389b64e7d922e3b0...| credit_card|                   4|       125.43|\n",
      "|         1|91e725244b1ed7224...| credit_card|                   3|       113.33|\n",
      "|         2|ad9447ca1bb7d23ed...|      boleto|                   1|       224.45|\n",
      "|         3|41b03a6bad9f1feda...| credit_card|                   1|       220.66|\n",
      "|         4|9378f7fb4dad9527f...| credit_card|                   1|       117.01|\n",
      "+----------+--------------------+------------+--------------------+-------------+\n",
      "only showing top 5 rows\n",
      "\n"
     ]
    }
   ],
   "source": [
    "dim_payments.show(5)"
   ]
  },
  {
   "cell_type": "code",
   "execution_count": 23,
   "id": "555d2b23-5854-4eec-9a2b-c4256df8b3c0",
   "metadata": {},
   "outputs": [
    {
     "name": "stdout",
     "output_type": "stream",
     "text": [
      "+--------------------+------------------+------------+--------------------+-------------+\n",
      "|            order_id|payment_sequential|payment_type|payment_installments|payment_value|\n",
      "+--------------------+------------------+------------+--------------------+-------------+\n",
      "|9389b64e7d922e3b0...|                 1| credit_card|                   4|       125.43|\n",
      "|91e725244b1ed7224...|                 1| credit_card|                   3|       113.33|\n",
      "|ad9447ca1bb7d23ed...|                 1|      boleto|                   1|       224.45|\n",
      "|41b03a6bad9f1feda...|                 1| credit_card|                   1|       220.66|\n",
      "|9378f7fb4dad9527f...|                 1| credit_card|                   1|       117.01|\n",
      "+--------------------+------------------+------------+--------------------+-------------+\n",
      "only showing top 5 rows\n",
      "\n"
     ]
    }
   ],
   "source": [
    "cleaned_olist_order_payments_dataset.show(5)"
   ]
  },
  {
   "cell_type": "code",
   "execution_count": 24,
   "id": "68f6c62b-67af-4007-b238-234cef45c156",
   "metadata": {},
   "outputs": [],
   "source": [
    "# Geolocalización"
   ]
  },
  {
   "cell_type": "code",
   "execution_count": 25,
   "id": "7299727c-0b80-4936-93f6-7b8e884076d7",
   "metadata": {},
   "outputs": [
    {
     "name": "stdout",
     "output_type": "stream",
     "text": [
      "root\n",
      " |-- geolocation_zip_code_prefix: integer (nullable = true)\n",
      " |-- geolocation_lat: double (nullable = true)\n",
      " |-- geolocation_lng: double (nullable = true)\n",
      " |-- geolocation_city: string (nullable = true)\n",
      " |-- geolocation_state: string (nullable = true)\n",
      "\n"
     ]
    }
   ],
   "source": [
    "cleaned_olist_geolocation_dataset.printSchema()"
   ]
  },
  {
   "cell_type": "code",
   "execution_count": 26,
   "id": "3fee6a32-4796-4c88-80bd-ac0dcddaefce",
   "metadata": {},
   "outputs": [],
   "source": [
    "dim_geolocation = cleaned_olist_geolocation_dataset.select(\"*\")"
   ]
  },
  {
   "cell_type": "code",
   "execution_count": 27,
   "id": "299dce6e-fc3d-401e-945d-0a5571559993",
   "metadata": {},
   "outputs": [
    {
     "name": "stdout",
     "output_type": "stream",
     "text": [
      "+---------------------------+-------------------+------------------+----------------+-----------------+\n",
      "|geolocation_zip_code_prefix|    geolocation_lat|   geolocation_lng|geolocation_city|geolocation_state|\n",
      "+---------------------------+-------------------+------------------+----------------+-----------------+\n",
      "|                       1001|-23.551426655288804|-46.63407394670785|       sao paulo|               SP|\n",
      "|                       1010|-23.545361513938836| -46.6346895341229|       sao paulo|               SP|\n",
      "|                       1048|-23.546871901465792|-46.63943652582367|       sao paulo|               SP|\n",
      "|                       1019|-23.552151883432384|-46.63080224715792|       são paulo|               SP|\n",
      "|                       1019|-23.551489508194305|-46.63140317736157|       sao paulo|               SP|\n",
      "+---------------------------+-------------------+------------------+----------------+-----------------+\n",
      "only showing top 5 rows\n",
      "\n"
     ]
    }
   ],
   "source": [
    "dim_geolocation.show(5)"
   ]
  },
  {
   "cell_type": "code",
   "execution_count": 28,
   "id": "b5c4b51c-9a63-4233-bbcf-81e3b8bce69a",
   "metadata": {},
   "outputs": [
    {
     "name": "stdout",
     "output_type": "stream",
     "text": [
      "+---------------------------+-------------------+------------------+----------------+-----------------+\n",
      "|geolocation_zip_code_prefix|    geolocation_lat|   geolocation_lng|geolocation_city|geolocation_state|\n",
      "+---------------------------+-------------------+------------------+----------------+-----------------+\n",
      "|                       1001|-23.551426655288804|-46.63407394670785|       sao paulo|               SP|\n",
      "|                       1010|-23.545361513938836| -46.6346895341229|       sao paulo|               SP|\n",
      "|                       1048|-23.546871901465792|-46.63943652582367|       sao paulo|               SP|\n",
      "|                       1019|-23.552151883432384|-46.63080224715792|       são paulo|               SP|\n",
      "|                       1019|-23.551489508194305|-46.63140317736157|       sao paulo|               SP|\n",
      "+---------------------------+-------------------+------------------+----------------+-----------------+\n",
      "only showing top 5 rows\n",
      "\n"
     ]
    }
   ],
   "source": [
    "cleaned_olist_geolocation_dataset.show(5)"
   ]
  },
  {
   "cell_type": "code",
   "execution_count": 29,
   "id": "c5b9d85f-d95f-44f0-be54-126369168d46",
   "metadata": {},
   "outputs": [],
   "source": [
    "# Seller"
   ]
  },
  {
   "cell_type": "code",
   "execution_count": 30,
   "id": "8f1607ea-d0c6-4ac2-be32-1d73d3e64ed2",
   "metadata": {},
   "outputs": [
    {
     "name": "stdout",
     "output_type": "stream",
     "text": [
      "root\n",
      " |-- seller_id: string (nullable = true)\n",
      " |-- seller_zip_code_prefix: integer (nullable = true)\n",
      " |-- seller_city: string (nullable = true)\n",
      " |-- seller_state: string (nullable = true)\n",
      "\n"
     ]
    }
   ],
   "source": [
    "cleaned_olist_sellers_dataset.printSchema()"
   ]
  },
  {
   "cell_type": "code",
   "execution_count": 31,
   "id": "b1dc6b5e-96d5-4383-9977-22f08f57aee7",
   "metadata": {},
   "outputs": [],
   "source": [
    "dim_sellers = cleaned_olist_sellers_dataset.join(\n",
    "    dim_geolocation,\n",
    "    cleaned_olist_sellers_dataset.seller_zip_code_prefix == dim_geolocation.geolocation_zip_code_prefix,\n",
    "    \"left\"\n",
    ").select(\n",
    "    col(\"seller_id\"),\n",
    "    col(\"seller_city\"),\n",
    "    col(\"seller_state\"),\n",
    "    col(\"geolocation_lat\"),\n",
    "    col(\"geolocation_lng\")\n",
    ")"
   ]
  },
  {
   "cell_type": "code",
   "execution_count": 32,
   "id": "8187a2ee-5833-4006-b0e6-3f44287a4f6d",
   "metadata": {},
   "outputs": [
    {
     "name": "stderr",
     "output_type": "stream",
     "text": [
      "[Stage 32:>                                                         (0 + 1) / 1]\r"
     ]
    },
    {
     "name": "stdout",
     "output_type": "stream",
     "text": [
      "+--------------------+-----------+------------+-------------------+-------------------+\n",
      "|           seller_id|seller_city|seller_state|    geolocation_lat|    geolocation_lng|\n",
      "+--------------------+-----------+------------+-------------------+-------------------+\n",
      "|f6122bc84774df1b3...|    barueri|          SP| -23.53282397861485|-46.890643148704044|\n",
      "|f6122bc84774df1b3...|    barueri|          SP|-23.538735009677385| -46.88406871524743|\n",
      "|f6122bc84774df1b3...|    barueri|          SP| -23.53617187717585|-46.885508757720494|\n",
      "|f6122bc84774df1b3...|    barueri|          SP|-23.537594046588353| -46.89183020500965|\n",
      "|f6122bc84774df1b3...|    barueri|          SP|-23.537057132120676| -46.89116185892949|\n",
      "+--------------------+-----------+------------+-------------------+-------------------+\n",
      "only showing top 5 rows\n",
      "\n"
     ]
    },
    {
     "name": "stderr",
     "output_type": "stream",
     "text": [
      "                                                                                \r"
     ]
    }
   ],
   "source": [
    "dim_sellers.show(5)"
   ]
  },
  {
   "cell_type": "code",
   "execution_count": 33,
   "id": "c5ec052e-c68e-4070-aadd-7b7f62ed3334",
   "metadata": {},
   "outputs": [
    {
     "name": "stdout",
     "output_type": "stream",
     "text": [
      "+--------------------+----------------------+-------------+------------+\n",
      "|           seller_id|seller_zip_code_prefix|  seller_city|seller_state|\n",
      "+--------------------+----------------------+-------------+------------+\n",
      "|f6122bc84774df1b3...|                  6436|      barueri|          SP|\n",
      "|8132b9bd16876e1b0...|                 88058|florianopolis|          SC|\n",
      "|a254c682cc01e119f...|                 16500|   cafelandia|          SP|\n",
      "|cb9fb4ca75d7ba843...|                  3551|    sao paulo|          SP|\n",
      "|c5ebe6598748b0aea...|                 95910|      lajeado|          RS|\n",
      "+--------------------+----------------------+-------------+------------+\n",
      "only showing top 5 rows\n",
      "\n"
     ]
    }
   ],
   "source": [
    "cleaned_olist_sellers_dataset.show(5)"
   ]
  },
  {
   "cell_type": "code",
   "execution_count": 34,
   "id": "dbae14a2-650c-48b2-8cc6-96343cc81c1e",
   "metadata": {},
   "outputs": [],
   "source": [
    "# Customer"
   ]
  },
  {
   "cell_type": "code",
   "execution_count": 35,
   "id": "b5c57669-2193-4e03-a674-814076dcece8",
   "metadata": {},
   "outputs": [
    {
     "name": "stdout",
     "output_type": "stream",
     "text": [
      "root\n",
      " |-- customer_id: string (nullable = true)\n",
      " |-- customer_unique_id: string (nullable = true)\n",
      " |-- customer_zip_code_prefix: integer (nullable = true)\n",
      " |-- customer_city: string (nullable = true)\n",
      " |-- customer_state: string (nullable = true)\n",
      "\n"
     ]
    }
   ],
   "source": [
    "cleaned_olist_customers_dataset.printSchema()"
   ]
  },
  {
   "cell_type": "code",
   "execution_count": 36,
   "id": "bdaf1987-aebd-4052-b311-296ce684b5ad",
   "metadata": {},
   "outputs": [],
   "source": [
    "dim_customers = cleaned_olist_customers_dataset.join(\n",
    "    dim_geolocation,\n",
    "    cleaned_olist_customers_dataset.customer_zip_code_prefix == dim_geolocation.geolocation_zip_code_prefix,\n",
    "    \"left\"\n",
    ").select(\n",
    "    col(\"customer_id\"),\n",
    "    col(\"customer_unique_id\"),\n",
    "    col(\"customer_city\"),\n",
    "    col(\"customer_state\"),\n",
    "    col(\"geolocation_lat\"),\n",
    "    col(\"geolocation_lng\")\n",
    ")"
   ]
  },
  {
   "cell_type": "code",
   "execution_count": 37,
   "id": "e5559b12-bb5f-418a-877c-540a3a338eef",
   "metadata": {},
   "outputs": [
    {
     "name": "stderr",
     "output_type": "stream",
     "text": [
      "[Stage 35:>                                                         (0 + 2) / 2]\r"
     ]
    },
    {
     "name": "stdout",
     "output_type": "stream",
     "text": [
      "+--------------------+--------------------+-------------+--------------+-------------------+-------------------+\n",
      "|         customer_id|  customer_unique_id|customer_city|customer_state|    geolocation_lat|    geolocation_lng|\n",
      "+--------------------+--------------------+-------------+--------------+-------------------+-------------------+\n",
      "|369708cabd9831ea6...|94b731a41867b47c3...|    sao paulo|            SP|-23.512254251563892| -46.50257041614536|\n",
      "|369708cabd9831ea6...|94b731a41867b47c3...|    sao paulo|            SP|-23.523337980058184| -46.53472451981566|\n",
      "|369708cabd9831ea6...|94b731a41867b47c3...|    sao paulo|            SP|-23.522752889668638|-46.524084427199654|\n",
      "|369708cabd9831ea6...|94b731a41867b47c3...|    sao paulo|            SP|-23.521909169859764| -46.52710027116393|\n",
      "|369708cabd9831ea6...|94b731a41867b47c3...|    sao paulo|            SP|-23.523158336112846| -46.53311089869581|\n",
      "+--------------------+--------------------+-------------+--------------+-------------------+-------------------+\n",
      "only showing top 5 rows\n",
      "\n"
     ]
    },
    {
     "name": "stderr",
     "output_type": "stream",
     "text": [
      "                                                                                \r"
     ]
    }
   ],
   "source": [
    "dim_customers.show(5)"
   ]
  },
  {
   "cell_type": "code",
   "execution_count": 38,
   "id": "48e2550a-9e67-443a-91c0-de92140fd0a8",
   "metadata": {},
   "outputs": [
    {
     "name": "stdout",
     "output_type": "stream",
     "text": [
      "+--------------------+--------------------+------------------------+-------------+--------------+\n",
      "|         customer_id|  customer_unique_id|customer_zip_code_prefix|customer_city|customer_state|\n",
      "+--------------------+--------------------+------------------------+-------------+--------------+\n",
      "|369708cabd9831ea6...|94b731a41867b47c3...|                    3636|    sao paulo|            SP|\n",
      "|cfffbb322333151f8...|0dc0731aafd565941...|                    5093|    sao paulo|            SP|\n",
      "|39592999581de2960...|3d7fb21a86fa49b9d...|                   35430|   ponte nova|            MG|\n",
      "|473e95fa97e4514de...|ee301c76bd2b939da...|                   24315|      niteroi|            RJ|\n",
      "|6419daa620ebb5a4d...|b9137cac4c1f714b3...|                   29285|        piuma|            ES|\n",
      "+--------------------+--------------------+------------------------+-------------+--------------+\n",
      "only showing top 5 rows\n",
      "\n"
     ]
    }
   ],
   "source": [
    "cleaned_olist_customers_dataset.show(5)"
   ]
  },
  {
   "cell_type": "code",
   "execution_count": 39,
   "id": "273f41eb-6aa8-4d2e-8db0-58018baf369e",
   "metadata": {},
   "outputs": [],
   "source": [
    "# Item"
   ]
  },
  {
   "cell_type": "code",
   "execution_count": 40,
   "id": "d0f7a3bf-06fc-41e6-af6f-3cd5b5393f00",
   "metadata": {},
   "outputs": [
    {
     "name": "stdout",
     "output_type": "stream",
     "text": [
      "root\n",
      " |-- order_id: string (nullable = true)\n",
      " |-- order_item_id: integer (nullable = true)\n",
      " |-- product_id: string (nullable = true)\n",
      " |-- seller_id: string (nullable = true)\n",
      " |-- shipping_limit_date: timestamp (nullable = true)\n",
      " |-- price: double (nullable = true)\n",
      " |-- freight_value: double (nullable = true)\n",
      "\n"
     ]
    }
   ],
   "source": [
    "cleaned_olist_order_items_dataset.printSchema()"
   ]
  },
  {
   "cell_type": "code",
   "execution_count": 41,
   "id": "62ac292d-3cd2-4546-99aa-ade822dbb265",
   "metadata": {},
   "outputs": [],
   "source": [
    "dim_items = cleaned_olist_order_items_dataset \\\n",
    "    .join(dim_products, \"product_id\", \"left\") \\\n",
    "    .join(dim_sellers, \"seller_id\", \"left\") \\\n",
    ".select(\n",
    "    col(\"order_id\"),\n",
    "    col(\"order_item_id\"),\n",
    "    col(\"product_id\"),\n",
    "    col(\"seller_id\"),\n",
    "    col(\"shipping_limit_date\"),\n",
    "    col(\"price\"),\n",
    "    col(\"freight_value\")\n",
    ")"
   ]
  },
  {
   "cell_type": "code",
   "execution_count": 42,
   "id": "0d07a42c-6323-41ec-a4a5-ed73d6890f1d",
   "metadata": {},
   "outputs": [
    {
     "name": "stderr",
     "output_type": "stream",
     "text": [
      "[Stage 46:>                                                         (0 + 1) / 1]\r"
     ]
    },
    {
     "name": "stdout",
     "output_type": "stream",
     "text": [
      "+--------------------+-------------+--------------------+--------------------+-------------------+-----+-------------+\n",
      "|            order_id|order_item_id|          product_id|           seller_id|shipping_limit_date|price|freight_value|\n",
      "+--------------------+-------------+--------------------+--------------------+-------------------+-----+-------------+\n",
      "|019636907d07b2433...|            1|2b0ee2d07306f7c9a...|1900267e848ceeba8...|2017-11-22 16:08:57|59.99|        12.76|\n",
      "|019636907d07b2433...|            1|2b0ee2d07306f7c9a...|1900267e848ceeba8...|2017-11-22 16:08:57|59.99|        12.76|\n",
      "|019636907d07b2433...|            1|2b0ee2d07306f7c9a...|1900267e848ceeba8...|2017-11-22 16:08:57|59.99|        12.76|\n",
      "|019636907d07b2433...|            1|2b0ee2d07306f7c9a...|1900267e848ceeba8...|2017-11-22 16:08:57|59.99|        12.76|\n",
      "|019636907d07b2433...|            1|2b0ee2d07306f7c9a...|1900267e848ceeba8...|2017-11-22 16:08:57|59.99|        12.76|\n",
      "+--------------------+-------------+--------------------+--------------------+-------------------+-----+-------------+\n",
      "only showing top 5 rows\n",
      "\n"
     ]
    },
    {
     "name": "stderr",
     "output_type": "stream",
     "text": [
      "                                                                                \r"
     ]
    }
   ],
   "source": [
    "dim_items.show(5)"
   ]
  },
  {
   "cell_type": "code",
   "execution_count": 43,
   "id": "d2b1c4d5-2447-4f33-8ea0-30fd3c696f42",
   "metadata": {},
   "outputs": [
    {
     "name": "stdout",
     "output_type": "stream",
     "text": [
      "+--------------------+-------------+--------------------+--------------------+-------------------+-----+-------------+\n",
      "|            order_id|order_item_id|          product_id|           seller_id|shipping_limit_date|price|freight_value|\n",
      "+--------------------+-------------+--------------------+--------------------+-------------------+-----+-------------+\n",
      "|0184d4ddb259e1a4c...|            1|aa8627a375771ab01...|e333046ce6517bd8b...|2017-09-07 22:31:42| 75.0|        16.16|\n",
      "|019636907d07b2433...|            1|2b0ee2d07306f7c9a...|1900267e848ceeba8...|2017-11-22 16:08:57|59.99|        12.76|\n",
      "|01ad4f241a16bff72...|            1|448f0791c4d2fc5d2...|a888faf2d1baececa...|2017-02-18 18:47:17|309.9|        17.38|\n",
      "|01b6d15407d425529...|            1|78c3942245093508f...|4830e40640734fc1c...|2018-03-19 15:35:37|29.99|        12.79|\n",
      "|02f4865eba77caf30...|            1|a50acd33ba7a8da8e...|8581055ce74af1dab...|2017-04-26 03:15:05|117.3|        22.29|\n",
      "+--------------------+-------------+--------------------+--------------------+-------------------+-----+-------------+\n",
      "only showing top 5 rows\n",
      "\n"
     ]
    }
   ],
   "source": [
    "cleaned_olist_order_items_dataset.show(5)"
   ]
  },
  {
   "cell_type": "code",
   "execution_count": 44,
   "id": "ba1dd19c-b0b5-4a61-836b-f397d0e82009",
   "metadata": {},
   "outputs": [],
   "source": [
    "# Order"
   ]
  },
  {
   "cell_type": "code",
   "execution_count": 45,
   "id": "e23603d0-eb82-4945-82c0-328df3fe4ae0",
   "metadata": {},
   "outputs": [
    {
     "name": "stdout",
     "output_type": "stream",
     "text": [
      "root\n",
      " |-- order_id: string (nullable = true)\n",
      " |-- customer_id: string (nullable = true)\n",
      " |-- order_status: string (nullable = true)\n",
      " |-- order_purchase_timestamp: timestamp (nullable = true)\n",
      " |-- order_approved_at: timestamp (nullable = true)\n",
      " |-- order_delivered_carrier_date: timestamp (nullable = true)\n",
      " |-- order_delivered_customer_date: timestamp (nullable = true)\n",
      " |-- order_estimated_delivery_date: timestamp (nullable = true)\n",
      "\n"
     ]
    }
   ],
   "source": [
    "cleaned_olist_orders_dataset.printSchema()"
   ]
  },
  {
   "cell_type": "code",
   "execution_count": null,
   "id": "ea51e145-49be-4bfe-accd-5799e1bfd3a3",
   "metadata": {},
   "outputs": [
    {
     "name": "stderr",
     "output_type": "stream",
     "text": [
      "                                                                                \r"
     ]
    }
   ],
   "source": [
    "# Unión de las tablas necesarias\n",
    "fact_order = cleaned_olist_orders_dataset.join(dim_items, \"order_id\") \\\n",
    "    .join(dim_reviews, \"order_id\", \"left\") \\\n",
    "    .join(dim_payments, \"order_id\", \"left\") \\\n",
    "    .join(dim_customers, \"customer_id\", \"left\") \\\n",
    "    .groupBy(\n",
    "        \"order_id\",\n",
    "        \"product_id\",\n",
    "        \"customer_id\",\n",
    "        \"seller_id\",\n",
    "        \"review_id\",\n",
    "        \"payment_id\",\n",
    "        \"order_purchase_timestamp\",\n",
    "        \"order_approved_at\",\n",
    "        \"order_delivered_carrier_date\",\n",
    "        \"order_delivered_customer_date\"\n",
    "    ).agg(\n",
    "        sum(\"price\").alias(\"total_price\"),\n",
    "        sum(\"freight_value\").alias(\"total_freight_value\"),\n",
    "        sum(\"payment_value\").alias(\"total_payment_value\"), \n",
    "        expr(\"datediff(order_delivered_customer_date, order_approved_at)\").alias(\"diff_order_delivered_customer_vs_order_approved_at\")\n",
    "    ).withColumn(\"total_items\", lit(dim_items.count()))"
   ]
  },
  {
   "cell_type": "code",
   "execution_count": 47,
   "id": "368b511a-89bc-4cac-8792-0da9f03b944d",
   "metadata": {},
   "outputs": [
    {
     "name": "stdout",
     "output_type": "stream",
     "text": [
      "root\n",
      " |-- order_id: string (nullable = true)\n",
      " |-- product_id: string (nullable = true)\n",
      " |-- customer_id: string (nullable = true)\n",
      " |-- seller_id: string (nullable = true)\n",
      " |-- review_id: string (nullable = true)\n",
      " |-- payment_id: long (nullable = true)\n",
      " |-- order_purchase_timestamp: timestamp (nullable = true)\n",
      " |-- order_approved_at: timestamp (nullable = true)\n",
      " |-- order_delivered_carrier_date: timestamp (nullable = true)\n",
      " |-- order_delivered_customer_date: timestamp (nullable = true)\n",
      " |-- total_price: double (nullable = true)\n",
      " |-- total_freight_value: double (nullable = true)\n",
      " |-- total_payment_value: double (nullable = true)\n",
      " |-- diff_order_delivered_customer_vs_order_approved_at: integer (nullable = true)\n",
      " |-- total_items: integer (nullable = false)\n",
      "\n"
     ]
    }
   ],
   "source": [
    "fact_order.printSchema()"
   ]
  },
  {
   "cell_type": "code",
   "execution_count": 48,
   "id": "9bd7ca3e-35ed-4624-8310-598eccb58702",
   "metadata": {},
   "outputs": [
    {
     "name": "stderr",
     "output_type": "stream",
     "text": [
      "[Stage 102:>                                                        (0 + 1) / 1]\r"
     ]
    },
    {
     "name": "stdout",
     "output_type": "stream",
     "text": [
      "2024-12-07T20:32:53,500 WARN [Executor task launch worker for task 0.0 in stage 102.0 (TID 93)] org.apache.spark.sql.catalyst.expressions.RowBasedKeyValueBatch - Calling spill() on RowBasedKeyValueBatch. Will not spill but return 0.\n",
      "2024-12-07T20:32:54,400 WARN [Executor task launch worker for task 0.0 in stage 102.0 (TID 93)] org.apache.spark.sql.catalyst.expressions.RowBasedKeyValueBatch - Calling spill() on RowBasedKeyValueBatch. Will not spill but return 0.\n",
      "2024-12-07T20:32:54,908 WARN [Executor task launch worker for task 0.0 in stage 102.0 (TID 93)] org.apache.spark.sql.catalyst.expressions.RowBasedKeyValueBatch - Calling spill() on RowBasedKeyValueBatch. Will not spill but return 0.\n",
      "2024-12-07T20:32:55,407 WARN [Executor task launch worker for task 0.0 in stage 102.0 (TID 93)] org.apache.spark.sql.catalyst.expressions.RowBasedKeyValueBatch - Calling spill() on RowBasedKeyValueBatch. Will not spill but return 0.\n",
      "2024-12-07T20:32:55,940 WARN [Executor task launch worker for task 0.0 in stage 102.0 (TID 93)] org.apache.spark.sql.catalyst.expressions.RowBasedKeyValueBatch - Calling spill() on RowBasedKeyValueBatch. Will not spill but return 0.\n",
      "2024-12-07T20:32:56,441 WARN [Executor task launch worker for task 0.0 in stage 102.0 (TID 93)] org.apache.spark.sql.catalyst.expressions.RowBasedKeyValueBatch - Calling spill() on RowBasedKeyValueBatch. Will not spill but return 0.\n",
      "2024-12-07T20:32:56,965 WARN [Executor task launch worker for task 0.0 in stage 102.0 (TID 93)] org.apache.spark.sql.catalyst.expressions.RowBasedKeyValueBatch - Calling spill() on RowBasedKeyValueBatch. Will not spill but return 0.\n",
      "2024-12-07T20:32:57,606 WARN [Executor task launch worker for task 0.0 in stage 102.0 (TID 93)] org.apache.spark.sql.catalyst.expressions.RowBasedKeyValueBatch - Calling spill() on RowBasedKeyValueBatch. Will not spill but return 0.\n",
      "2024-12-07T20:32:58,365 WARN [Executor task launch worker for task 0.0 in stage 102.0 (TID 93)] org.apache.spark.sql.catalyst.expressions.RowBasedKeyValueBatch - Calling spill() on RowBasedKeyValueBatch. Will not spill but return 0.\n"
     ]
    },
    {
     "name": "stderr",
     "output_type": "stream",
     "text": [
      "[Stage 102:>                                                        (0 + 1) / 1]\r"
     ]
    },
    {
     "name": "stdout",
     "output_type": "stream",
     "text": [
      "+--------------------+--------------------+--------------------+--------------------+--------------------+----------+------------------------+-------------------+----------------------------+-----------------------------+------------------+-------------------+--------------------+--------------------------------------------------+-----------+\n",
      "|            order_id|          product_id|         customer_id|           seller_id|           review_id|payment_id|order_purchase_timestamp|  order_approved_at|order_delivered_carrier_date|order_delivered_customer_date|       total_price|total_freight_value| total_payment_value|diff_order_delivered_customer_vs_order_approved_at|total_items|\n",
      "+--------------------+--------------------+--------------------+--------------------+--------------------+----------+------------------------+-------------------+----------------------------+-----------------------------+------------------+-------------------+--------------------+--------------------------------------------------+-----------+\n",
      "|a44895d095d7e0702...|84183944dc7cddca8...|000161a058600d590...|2a1348e9addc1af5a...|862cae301754fcafa...|8589969543|     2017-07-16 09:40:32|2017-07-16 09:55:12|         2017-07-19 19:09:37|          2017-07-25 18:57:33| 310459.5000000009|   70744.0500000013|   381203.5499999666|                                                 9|   12241964|\n",
      "|fa906f338cee30a98...|79ad39409fa4bcc36...|00050bf6e01e69d5c...|1da3aeb70d7989d1e...|d50791ccc55c7f5ff...|8589964233|     2017-09-17 16:04:44|2017-09-17 16:15:13|         2017-09-18 21:02:46|          2017-10-02 21:14:31| 854437.9199999081| 186049.91999998607|   1040487.839999844|                                                15|   12241964|\n",
      "|9b961b894e797f636...|c53feca3e87680403...|000598caf2ef41174...|6c6cc59a5c00cacc5...|f149a8ca142b2324f...|     20829|     2018-08-11 12:14:35|2018-08-11 12:25:08|         2018-08-13 14:41:00|          2018-08-20 18:18:41|        2.196288E7|  2950406.399999425|2.4913286400011536E7|                                                 9|   12241964|\n",
      "|263ba12390d0fbce3...|c5fff00bf5f821911...|0005aefbb696d34b3...|da8622b14eb17ae28...|67a928858fe0b837e...|     16137|     2018-06-20 09:46:53|2018-06-20 10:21:32|         2018-06-21 15:17:00|          2018-06-22 17:58:39| 448137.8000000241|  41292.46000000084|   489430.2600000151|                                                 2|   12241964|\n",
      "|048beca6ccda094fb...|994e65eb77f3501f4...|0009a69b72033b2d0...|79ed755314cfe6df0...|33885dadbb5e1363a...|     18010|     2017-04-28 13:36:30|2017-04-28 13:45:15|         2017-04-28 15:08:40|          2017-05-08 10:04:13|1119300.0000000666|  95899.99999998782|  1215199.9999999902|                                                10|   12241964|\n",
      "+--------------------+--------------------+--------------------+--------------------+--------------------+----------+------------------------+-------------------+----------------------------+-----------------------------+------------------+-------------------+--------------------+--------------------------------------------------+-----------+\n",
      "only showing top 5 rows\n",
      "\n"
     ]
    },
    {
     "name": "stderr",
     "output_type": "stream",
     "text": [
      "                                                                                \r"
     ]
    }
   ],
   "source": [
    "fact_order.show(5)"
   ]
  },
  {
   "cell_type": "code",
   "execution_count": 49,
   "id": "30efbd3e-0ecb-43be-b877-17fd0cfd6f61",
   "metadata": {},
   "outputs": [
    {
     "name": "stdout",
     "output_type": "stream",
     "text": [
      "+--------------------+--------------------+------------+------------------------+-------------------+----------------------------+-----------------------------+-----------------------------+\n",
      "|            order_id|         customer_id|order_status|order_purchase_timestamp|  order_approved_at|order_delivered_carrier_date|order_delivered_customer_date|order_estimated_delivery_date|\n",
      "+--------------------+--------------------+------------+------------------------+-------------------+----------------------------+-----------------------------+-----------------------------+\n",
      "|6514b8ad8028c9f2c...|9bdf08b4b3b52b552...|   delivered|     2017-05-16 13:10:30|2017-05-16 13:22:11|         2017-05-22 10:07:46|          2017-05-26 12:55:51|          2017-06-07 00:00:00|\n",
      "|d65c179a817be2297...|e20e5dab42cf2fc3a...|   delivered|     2017-08-09 21:43:53|2017-08-09 22:03:51|         2017-08-10 16:18:52|          2017-08-18 21:09:45|          2017-09-04 00:00:00|\n",
      "|f09942b1e1419e69f...|b40a130a36dc28cdb...|   delivered|     2017-12-16 13:51:18|2017-12-16 13:58:23|         2017-12-19 21:04:31|          2017-12-23 16:21:44|          2018-01-05 00:00:00|\n",
      "|acbe07f22f29ad7e5...|b4afeb58ac51bc903...|   delivered|     2017-11-18 14:33:04|2017-11-18 19:06:16|         2017-11-27 18:34:31|          2017-11-29 17:58:43|          2017-12-05 00:00:00|\n",
      "|6ccac061be472c84d...|ae2164e850f39dce4...|   delivered|     2017-12-11 07:50:11|2017-12-11 07:58:24|         2017-12-12 13:14:28|          2017-12-14 16:32:01|          2017-12-28 00:00:00|\n",
      "+--------------------+--------------------+------------+------------------------+-------------------+----------------------------+-----------------------------+-----------------------------+\n",
      "only showing top 5 rows\n",
      "\n"
     ]
    }
   ],
   "source": [
    "cleaned_olist_orders_dataset.show(5)"
   ]
  },
  {
   "cell_type": "code",
   "execution_count": 50,
   "id": "ef405128-8cd1-49d1-b9e6-028b4d6463c8",
   "metadata": {},
   "outputs": [],
   "source": [
    "directory_results = \"obligatorio/data/processed\""
   ]
  },
  {
   "cell_type": "code",
   "execution_count": 51,
   "id": "44da8bb6-619c-428f-91f0-4334ebb102a6",
   "metadata": {},
   "outputs": [
    {
     "data": {
      "text/plain": [
       "'hdfs://localhost:9000/obligatorio/data/processed/'"
      ]
     },
     "execution_count": 51,
     "metadata": {},
     "output_type": "execute_result"
    }
   ],
   "source": [
    "_path = f\"hdfs://localhost:9000/{directory_results}/\"\n",
    "_path"
   ]
  },
  {
   "cell_type": "code",
   "execution_count": null,
   "id": "1c2b49d3",
   "metadata": {},
   "outputs": [],
   "source": [
    "spark.conf.set(\"mapreduce.fileoutputcommitter.marksuccessfuljobs\", \"false\")"
   ]
  },
  {
   "cell_type": "code",
   "execution_count": 52,
   "id": "93a7964d-e994-4878-aa88-935d7e3d3f60",
   "metadata": {},
   "outputs": [
    {
     "name": "stderr",
     "output_type": "stream",
     "text": [
      "                                                                                \r"
     ]
    }
   ],
   "source": [
    "dim_products.write.csv(_path+\"/dim_products.csv\", header=True, mode=\"overwrite\")"
   ]
  },
  {
   "cell_type": "code",
   "execution_count": 53,
   "id": "a31c1bf4-9ff6-40ca-b787-b41da2155315",
   "metadata": {},
   "outputs": [
    {
     "name": "stderr",
     "output_type": "stream",
     "text": [
      "                                                                                \r"
     ]
    }
   ],
   "source": [
    "dim_reviews.write.csv(_path+\"/dim_reviews.csv\", header=True, mode=\"overwrite\")"
   ]
  },
  {
   "cell_type": "code",
   "execution_count": 54,
   "id": "97085a95-56b7-445e-91f7-080755563bbf",
   "metadata": {},
   "outputs": [
    {
     "name": "stderr",
     "output_type": "stream",
     "text": [
      "                                                                                \r"
     ]
    }
   ],
   "source": [
    "dim_payments.write.csv(_path+\"/dim_payments.csv\", header=True, mode=\"overwrite\")"
   ]
  },
  {
   "cell_type": "code",
   "execution_count": 56,
   "id": "21809d50-eed4-4487-9756-f644218a60ff",
   "metadata": {},
   "outputs": [
    {
     "name": "stderr",
     "output_type": "stream",
     "text": [
      "                                                                                \r"
     ]
    }
   ],
   "source": [
    "dim_sellers.write.csv(_path+\"/dim_sellers.csv\", header=True, mode=\"overwrite\")"
   ]
  },
  {
   "cell_type": "code",
   "execution_count": 57,
   "id": "2ca395a1-c065-41c1-b7a5-9f04e710366d",
   "metadata": {},
   "outputs": [
    {
     "name": "stderr",
     "output_type": "stream",
     "text": [
      "                                                                                \r"
     ]
    }
   ],
   "source": [
    "dim_customers.write.csv(_path+\"/dim_customers.csv\", header=True, mode=\"overwrite\")"
   ]
  },
  {
   "cell_type": "code",
   "execution_count": 58,
   "id": "a7446f6f-f86c-4db4-86db-a49f185b84cc",
   "metadata": {},
   "outputs": [
    {
     "name": "stderr",
     "output_type": "stream",
     "text": [
      "                                                                                \r"
     ]
    }
   ],
   "source": [
    "dim_items.write.csv(_path+\"/dim_items.csv\", header=True, mode=\"overwrite\")"
   ]
  },
  {
   "cell_type": "code",
   "execution_count": 59,
   "id": "2b35d4d3-9447-47d0-b647-71dd936b842e",
   "metadata": {},
   "outputs": [
    {
     "name": "stderr",
     "output_type": "stream",
     "text": [
      "[Stage 154:>                                                        (0 + 2) / 2]\r"
     ]
    },
    {
     "name": "stdout",
     "output_type": "stream",
     "text": [
      "2024-12-07T20:42:58,509 WARN [Executor task launch worker for task 1.0 in stage 162.0 (TID 152)] org.apache.spark.sql.catalyst.expressions.RowBasedKeyValueBatch - Calling spill() on RowBasedKeyValueBatch. Will not spill but return 0.\n",
      "2024-12-07T20:42:58,561 WARN [Executor task launch worker for task 0.0 in stage 162.0 (TID 151)] org.apache.spark.sql.catalyst.expressions.RowBasedKeyValueBatch - Calling spill() on RowBasedKeyValueBatch. Will not spill but return 0.\n"
     ]
    },
    {
     "name": "stderr",
     "output_type": "stream",
     "text": [
      "[Stage 162:>                                                        (0 + 2) / 2]\r"
     ]
    },
    {
     "name": "stdout",
     "output_type": "stream",
     "text": [
      "2024-12-07T20:42:58,854 WARN [Executor task launch worker for task 1.0 in stage 162.0 (TID 152)] org.apache.spark.sql.catalyst.expressions.RowBasedKeyValueBatch - Calling spill() on RowBasedKeyValueBatch. Will not spill but return 0.\n",
      "2024-12-07T20:42:58,927 WARN [Executor task launch worker for task 0.0 in stage 162.0 (TID 151)] org.apache.spark.sql.catalyst.expressions.RowBasedKeyValueBatch - Calling spill() on RowBasedKeyValueBatch. Will not spill but return 0.\n",
      "2024-12-07T20:42:59,288 WARN [Executor task launch worker for task 1.0 in stage 162.0 (TID 152)] org.apache.spark.sql.catalyst.expressions.RowBasedKeyValueBatch - Calling spill() on RowBasedKeyValueBatch. Will not spill but return 0.\n",
      "2024-12-07T20:42:59,293 WARN [Executor task launch worker for task 0.0 in stage 162.0 (TID 151)] org.apache.spark.sql.catalyst.expressions.RowBasedKeyValueBatch - Calling spill() on RowBasedKeyValueBatch. Will not spill but return 0.\n",
      "2024-12-07T20:42:59,634 WARN [Executor task launch worker for task 1.0 in stage 162.0 (TID 152)] org.apache.spark.sql.catalyst.expressions.RowBasedKeyValueBatch - Calling spill() on RowBasedKeyValueBatch. Will not spill but return 0.\n",
      "2024-12-07T20:42:59,644 WARN [Executor task launch worker for task 0.0 in stage 162.0 (TID 151)] org.apache.spark.sql.catalyst.expressions.RowBasedKeyValueBatch - Calling spill() on RowBasedKeyValueBatch. Will not spill but return 0.\n",
      "2024-12-07T20:42:59,977 WARN [Executor task launch worker for task 1.0 in stage 162.0 (TID 152)] org.apache.spark.sql.catalyst.expressions.RowBasedKeyValueBatch - Calling spill() on RowBasedKeyValueBatch. Will not spill but return 0.\n",
      "2024-12-07T20:42:59,993 WARN [Executor task launch worker for task 0.0 in stage 162.0 (TID 151)] org.apache.spark.sql.catalyst.expressions.RowBasedKeyValueBatch - Calling spill() on RowBasedKeyValueBatch. Will not spill but return 0.\n",
      "2024-12-07T20:43:00,357 WARN [Executor task launch worker for task 1.0 in stage 162.0 (TID 152)] org.apache.spark.sql.catalyst.expressions.RowBasedKeyValueBatch - Calling spill() on RowBasedKeyValueBatch. Will not spill but return 0.\n",
      "2024-12-07T20:43:00,396 WARN [Executor task launch worker for task 0.0 in stage 162.0 (TID 151)] org.apache.spark.sql.catalyst.expressions.RowBasedKeyValueBatch - Calling spill() on RowBasedKeyValueBatch. Will not spill but return 0.\n",
      "2024-12-07T20:43:00,693 WARN [Executor task launch worker for task 1.0 in stage 162.0 (TID 152)] org.apache.spark.sql.catalyst.expressions.RowBasedKeyValueBatch - Calling spill() on RowBasedKeyValueBatch. Will not spill but return 0.\n",
      "2024-12-07T20:43:00,743 WARN [Executor task launch worker for task 0.0 in stage 162.0 (TID 151)] org.apache.spark.sql.catalyst.expressions.RowBasedKeyValueBatch - Calling spill() on RowBasedKeyValueBatch. Will not spill but return 0.\n",
      "2024-12-07T20:43:01,079 WARN [Executor task launch worker for task 1.0 in stage 162.0 (TID 152)] org.apache.spark.sql.catalyst.expressions.RowBasedKeyValueBatch - Calling spill() on RowBasedKeyValueBatch. Will not spill but return 0.\n",
      "2024-12-07T20:43:01,365 WARN [Executor task launch worker for task 0.0 in stage 162.0 (TID 151)] org.apache.spark.sql.catalyst.expressions.RowBasedKeyValueBatch - Calling spill() on RowBasedKeyValueBatch. Will not spill but return 0.\n",
      "2024-12-07T20:43:01,505 WARN [Executor task launch worker for task 1.0 in stage 162.0 (TID 152)] org.apache.spark.sql.catalyst.expressions.RowBasedKeyValueBatch - Calling spill() on RowBasedKeyValueBatch. Will not spill but return 0.\n",
      "2024-12-07T20:43:01,814 WARN [Executor task launch worker for task 0.0 in stage 162.0 (TID 151)] org.apache.spark.sql.catalyst.expressions.RowBasedKeyValueBatch - Calling spill() on RowBasedKeyValueBatch. Will not spill but return 0.\n",
      "2024-12-07T20:43:02,009 WARN [Executor task launch worker for task 1.0 in stage 162.0 (TID 152)] org.apache.spark.sql.catalyst.expressions.RowBasedKeyValueBatch - Calling spill() on RowBasedKeyValueBatch. Will not spill but return 0.\n",
      "2024-12-07T20:43:02,168 WARN [Executor task launch worker for task 0.0 in stage 162.0 (TID 151)] org.apache.spark.sql.catalyst.expressions.RowBasedKeyValueBatch - Calling spill() on RowBasedKeyValueBatch. Will not spill but return 0.\n",
      "2024-12-07T20:43:02,498 WARN [Executor task launch worker for task 1.0 in stage 162.0 (TID 152)] org.apache.spark.sql.catalyst.expressions.RowBasedKeyValueBatch - Calling spill() on RowBasedKeyValueBatch. Will not spill but return 0.\n",
      "2024-12-07T20:43:02,542 WARN [Executor task launch worker for task 0.0 in stage 162.0 (TID 151)] org.apache.spark.sql.catalyst.expressions.RowBasedKeyValueBatch - Calling spill() on RowBasedKeyValueBatch. Will not spill but return 0.\n",
      "2024-12-07T20:43:02,889 WARN [Executor task launch worker for task 1.0 in stage 162.0 (TID 152)] org.apache.spark.sql.catalyst.expressions.RowBasedKeyValueBatch - Calling spill() on RowBasedKeyValueBatch. Will not spill but return 0.\n",
      "2024-12-07T20:43:02,944 WARN [Executor task launch worker for task 0.0 in stage 162.0 (TID 151)] org.apache.spark.sql.catalyst.expressions.RowBasedKeyValueBatch - Calling spill() on RowBasedKeyValueBatch. Will not spill but return 0.\n",
      "2024-12-07T20:43:03,257 WARN [Executor task launch worker for task 1.0 in stage 162.0 (TID 152)] org.apache.spark.sql.catalyst.expressions.RowBasedKeyValueBatch - Calling spill() on RowBasedKeyValueBatch. Will not spill but return 0.\n",
      "2024-12-07T20:43:03,333 WARN [Executor task launch worker for task 0.0 in stage 162.0 (TID 151)] org.apache.spark.sql.catalyst.expressions.RowBasedKeyValueBatch - Calling spill() on RowBasedKeyValueBatch. Will not spill but return 0.\n",
      "2024-12-07T20:43:03,655 WARN [Executor task launch worker for task 1.0 in stage 162.0 (TID 152)] org.apache.spark.sql.catalyst.expressions.RowBasedKeyValueBatch - Calling spill() on RowBasedKeyValueBatch. Will not spill but return 0.\n",
      "2024-12-07T20:43:03,709 WARN [Executor task launch worker for task 0.0 in stage 162.0 (TID 151)] org.apache.spark.sql.catalyst.expressions.RowBasedKeyValueBatch - Calling spill() on RowBasedKeyValueBatch. Will not spill but return 0.\n",
      "2024-12-07T20:43:04,005 WARN [Executor task launch worker for task 1.0 in stage 162.0 (TID 152)] org.apache.spark.sql.catalyst.expressions.RowBasedKeyValueBatch - Calling spill() on RowBasedKeyValueBatch. Will not spill but return 0.\n",
      "2024-12-07T20:43:04,068 WARN [Executor task launch worker for task 0.0 in stage 162.0 (TID 151)] org.apache.spark.sql.catalyst.expressions.RowBasedKeyValueBatch - Calling spill() on RowBasedKeyValueBatch. Will not spill but return 0.\n",
      "2024-12-07T20:43:04,367 WARN [Executor task launch worker for task 1.0 in stage 162.0 (TID 152)] org.apache.spark.sql.catalyst.expressions.RowBasedKeyValueBatch - Calling spill() on RowBasedKeyValueBatch. Will not spill but return 0.\n",
      "2024-12-07T20:43:04,433 WARN [Executor task launch worker for task 0.0 in stage 162.0 (TID 151)] org.apache.spark.sql.catalyst.expressions.RowBasedKeyValueBatch - Calling spill() on RowBasedKeyValueBatch. Will not spill but return 0.\n",
      "2024-12-07T20:43:04,766 WARN [Executor task launch worker for task 1.0 in stage 162.0 (TID 152)] org.apache.spark.sql.catalyst.expressions.RowBasedKeyValueBatch - Calling spill() on RowBasedKeyValueBatch. Will not spill but return 0.\n",
      "2024-12-07T20:43:04,814 WARN [Executor task launch worker for task 0.0 in stage 162.0 (TID 151)] org.apache.spark.sql.catalyst.expressions.RowBasedKeyValueBatch - Calling spill() on RowBasedKeyValueBatch. Will not spill but return 0.\n",
      "2024-12-07T20:43:05,107 WARN [Executor task launch worker for task 1.0 in stage 162.0 (TID 152)] org.apache.spark.sql.catalyst.expressions.RowBasedKeyValueBatch - Calling spill() on RowBasedKeyValueBatch. Will not spill but return 0.\n",
      "2024-12-07T20:43:05,327 WARN [Executor task launch worker for task 0.0 in stage 162.0 (TID 151)] org.apache.spark.sql.catalyst.expressions.RowBasedKeyValueBatch - Calling spill() on RowBasedKeyValueBatch. Will not spill but return 0.\n",
      "2024-12-07T20:43:05,950 WARN [Executor task launch worker for task 0.0 in stage 162.0 (TID 151)] org.apache.spark.sql.catalyst.expressions.RowBasedKeyValueBatch - Calling spill() on RowBasedKeyValueBatch. Will not spill but return 0.\n",
      "2024-12-07T20:43:05,959 WARN [Executor task launch worker for task 1.0 in stage 162.0 (TID 152)] org.apache.spark.sql.catalyst.expressions.RowBasedKeyValueBatch - Calling spill() on RowBasedKeyValueBatch. Will not spill but return 0.\n",
      "2024-12-07T20:43:07,344 WARN [Executor task launch worker for task 1.0 in stage 162.0 (TID 152)] org.apache.spark.sql.catalyst.expressions.RowBasedKeyValueBatch - Calling spill() on RowBasedKeyValueBatch. Will not spill but return 0.\n",
      "2024-12-07T20:43:07,350 WARN [Executor task launch worker for task 0.0 in stage 162.0 (TID 151)] org.apache.spark.sql.catalyst.expressions.RowBasedKeyValueBatch - Calling spill() on RowBasedKeyValueBatch. Will not spill but return 0.\n",
      "2024-12-07T20:43:08,248 WARN [Executor task launch worker for task 0.0 in stage 162.0 (TID 151)] org.apache.spark.sql.catalyst.expressions.RowBasedKeyValueBatch - Calling spill() on RowBasedKeyValueBatch. Will not spill but return 0.\n",
      "2024-12-07T20:43:08,255 WARN [Executor task launch worker for task 1.0 in stage 162.0 (TID 152)] org.apache.spark.sql.catalyst.expressions.RowBasedKeyValueBatch - Calling spill() on RowBasedKeyValueBatch. Will not spill but return 0.\n"
     ]
    },
    {
     "name": "stderr",
     "output_type": "stream",
     "text": [
      "                                                                                \r"
     ]
    }
   ],
   "source": [
    "fact_order.write.csv(_path+\"/fact_order.csv\", header=True, mode=\"overwrite\")"
   ]
  },
  {
   "cell_type": "code",
   "execution_count": 60,
   "id": "d34d8c25-5c4c-46ed-ad3a-d5b46f6d4cfb",
   "metadata": {},
   "outputs": [
    {
     "name": "stderr",
     "output_type": "stream",
     "text": [
      "                                                                                \r"
     ]
    },
    {
     "data": {
      "text/plain": [
       "105245"
      ]
     },
     "execution_count": 60,
     "metadata": {},
     "output_type": "execute_result"
    }
   ],
   "source": [
    "fact_order.count()"
   ]
  }
 ],
 "metadata": {
  "kernelspec": {
   "display_name": "Python 3 (ipykernel)",
   "language": "python",
   "name": "python3"
  },
  "language_info": {
   "codemirror_mode": {
    "name": "ipython",
    "version": 3
   },
   "file_extension": ".py",
   "mimetype": "text/x-python",
   "name": "python",
   "nbconvert_exporter": "python",
   "pygments_lexer": "ipython3",
   "version": "3.8.8"
  }
 },
 "nbformat": 4,
 "nbformat_minor": 5
}
