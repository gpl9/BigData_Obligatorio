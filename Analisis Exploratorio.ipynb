{
 "cells": [
  {
   "cell_type": "code",
   "execution_count": 1,
   "id": "aec7d2e0-f643-41f6-84f7-e65ecbb3c7ae",
   "metadata": {},
   "outputs": [
    {
     "name": "stderr",
     "output_type": "stream",
     "text": [
      "Setting default log level to \"WARN\".\n",
      "To adjust logging level use sc.setLogLevel(newLevel). For SparkR, use setLogLevel(newLevel).\n"
     ]
    },
    {
     "name": "stdout",
     "output_type": "stream",
     "text": [
      "2024-11-22T17:19:39,192 WARN [Thread-4] org.apache.hadoop.util.NativeCodeLoader - Unable to load native-hadoop library for your platform... using builtin-java classes where applicable\n"
     ]
    }
   ],
   "source": [
    "import pyspark\n",
    "from pyspark.sql.functions import *\n",
    "sc = pyspark.SparkContext('local[*]')"
   ]
  },
  {
   "cell_type": "code",
   "execution_count": 2,
   "id": "4edf9db2-88a3-4571-a6b3-2bc9b5347b74",
   "metadata": {},
   "outputs": [],
   "source": [
    "from pyspark.sql.functions import *"
   ]
  },
  {
   "cell_type": "code",
   "execution_count": 3,
   "id": "6b041485-c309-4e8c-b688-c2369ae33305",
   "metadata": {},
   "outputs": [],
   "source": [
    "# import findspark\n",
    "# findspark.init()\n",
    "import pyspark\n",
    "from pyspark.sql import SparkSession\n",
    "spark = SparkSession.builder.getOrCreate()"
   ]
  },
  {
   "cell_type": "markdown",
   "id": "d143c755-a1e5-4143-acea-283d61d06e95",
   "metadata": {},
   "source": [
    "Read Raw data"
   ]
  },
  {
   "cell_type": "code",
   "execution_count": 28,
   "id": "5a7c9c33-b7b2-4542-bfd5-fe5e0e6fb999",
   "metadata": {},
   "outputs": [
    {
     "name": "stderr",
     "output_type": "stream",
     "text": [
      "                                                                                \r"
     ]
    }
   ],
   "source": [
    "# 1\n",
    "raw_olist_customers_dataset = spark.read.csv(\"/obligatorio/data/raw/olist_customers_dataset.csv\", header=True, inferSchema=True)\n",
    "# 2\n",
    "raw_olist_geolocation_dataset = spark.read.csv(\"/obligatorio/data/raw/olist_geolocation_dataset.csv\", header=True, inferSchema=True)\n",
    "# 3\n",
    "raw_olist_order_items_dataset = spark.read.csv(\"/obligatorio/data/raw/olist_order_items_dataset.csv\", header=True, inferSchema=True)\n",
    "# 4\n",
    "raw_olist_order_payments_dataset = spark.read.csv(\"/obligatorio/data/raw/olist_order_payments_dataset.csv\", header=True, inferSchema=True)\n",
    "# 5\n",
    "raw_olist_order_reviews_dataset = spark.read.csv(\"/obligatorio/data/raw/olist_order_reviews_dataset.csv\", header=True, inferSchema=True)\n",
    "# 6\n",
    "raw_olist_orders_dataset = spark.read.csv(\"/obligatorio/data/raw/olist_orders_dataset.csv\", header=True, inferSchema=True)\n",
    "# 7\n",
    "raw_olist_products_dataset = spark.read.csv(\"/obligatorio/data/raw/olist_products_dataset.csv\", header=True, inferSchema=True)\n",
    "# 8\n",
    "raw_olist_sellers_dataset = spark.read.csv(\"/obligatorio/data/raw/olist_sellers_dataset.csv\", header=True, inferSchema=True)\n",
    "# 9\n",
    "raw_product_category_name_translation_dataset = spark.read.csv(\"/obligatorio/data/raw/product_category_name_translation.csv\", header=True, inferSchema=True)"
   ]
  },
  {
   "cell_type": "markdown",
   "id": "27f91312-657b-4597-a18b-850ce98268cb",
   "metadata": {},
   "source": [
    "Luego se deberá realizar un análisis exploratorio de los datos identificando \n",
    "-el tipo de datos que hay en cada columna y que significado tienen dentro del dominio de los datos. \n",
    "-- Dentro de un Jupyter notebook se mostrará,\n",
    "una vista previa de las primeras filas, cantidad de columnas de cada tabla, nombre de cada columna, descripción de\n",
    "los datos de cada tabla, cómo está compuesto el esquema de los datos, revisar valores nulos o faltantes y limpiarlos\n",
    "si es necesario. Revisar registros duplicados. Claves primarias únicas. Estos nuevos archivos se guardarán en el\n",
    "hdfs, en otra ubicación como la versión refinada de los datos. Para todo se debe utilizar únicamente spark."
   ]
  },
  {
   "cell_type": "code",
   "execution_count": 79,
   "id": "17b91c99-6481-4bab-99a4-a5fd78b76ba9",
   "metadata": {},
   "outputs": [],
   "source": [
    "def analisis_exploratorio(_raw_data, _columns_to_exlude = None):\n",
    "    print(\"### Vista inicial de los datos ###\")\n",
    "    _raw_data.show(10)\n",
    "    print(\"\")\n",
    "    print(\"##################################\")\n",
    "    columns = _raw_data.columns\n",
    "    print(f\"Nombres de las columnas: {columns}\")\n",
    "    \n",
    "    num_columns = len(_raw_data.columns)\n",
    "    num_rows = _raw_data.count()\n",
    "    print(f\"Cantidad de columnas: {num_columns}\")\n",
    "    print(f\"Cantidad de filas: {num_rows}\")\n",
    "    print(\"\")\n",
    "    print(\"##################################\")\n",
    "    print(\"### Schema ###\")\n",
    "    _raw_data.printSchema()\n",
    "    print(\"\")\n",
    "    print(\"##################################\")\n",
    "    print(\"### Valores null por columnas ###\")\n",
    "    null_counts = []\n",
    "    for column_name in _raw_data.columns:\n",
    "        data_type = _raw_data.schema[column_name].dataType.typeName()\n",
    "        condition = col(column_name).isNull()\n",
    "        if data_type in (\"float\", \"double\"):\n",
    "            condition = condition | isnan(col(column_name))\n",
    "        null_counts.append(\n",
    "            count(when(condition, column_name)).alias(column_name)\n",
    "        )\n",
    "    null_counts = _raw_data.select(null_counts)\n",
    "    null_counts.show()\n",
    "    \n",
    "    print(\"### Elimino valores null ###\")\n",
    "    if _columns_to_exlude:\n",
    "        columns_to_check = [c for c in _raw_data.columns if c not in _columns_to_exlude]\n",
    "        _raw_data = _raw_data.dropna(subset=columns_to_check)\n",
    "    else:\n",
    "        _raw_data = _raw_data.dropna()\n",
    "        \n",
    "    print(\"\")\n",
    "    print(\"##################################\")\n",
    "    print(\"### Valores duplicados por columnas ###\")\n",
    "    duplicates_count = (\n",
    "        _raw_data.groupBy(columns)\n",
    "        .agg(count(\"*\").alias(\"count\"))\n",
    "        .filter(\"count > 1\")\n",
    "    )\n",
    "    duplicates_count.show()\n",
    "    \n",
    "    total_duplicates = duplicates_count.agg({\"count\": \"sum\"}).collect()[0][0]\n",
    "    print(f\"Total de registros duplicados: {total_duplicates if total_duplicates else 0}\")\n",
    "    print(\"\")\n",
    "    print(\"### Elimino valores duplicados ###\")\n",
    "    _raw_data = _raw_data.dropDuplicates(columns)\n",
    "    print(\"\")\n",
    "    print(\"##################################\")\n",
    "    print(\"### Unicidad de claves primarias ###\")\n",
    "    _raw_data.groupBy(columns[0]).count().filter(\"count > 1\").show()\n",
    "\n",
    "    print(\"\")\n",
    "    print(\"##################################\")\n",
    "    print(\"### Cantidad de columnas curadas y listas para usar ###\")\n",
    "    num_rows = _raw_data.count()\n",
    "    print(f\"Cantidad de filas: {num_rows}\")\n",
    "    \n",
    "    return _raw_data"
   ]
  },
  {
   "cell_type": "code",
   "execution_count": null,
   "id": "833f1b23-f98c-4f6b-90f8-56c4c06665df",
   "metadata": {},
   "outputs": [],
   "source": []
  },
  {
   "cell_type": "code",
   "execution_count": 50,
   "id": "66df31f1-c137-42e1-a757-fa9aa1be5522",
   "metadata": {},
   "outputs": [],
   "source": [
    "########################################################################################################################################"
   ]
  },
  {
   "cell_type": "markdown",
   "id": "c4899864-1f52-4a9e-8334-fa6e854ebd05",
   "metadata": {},
   "source": [
    "Customer Datasets"
   ]
  },
  {
   "cell_type": "code",
   "execution_count": 51,
   "id": "4587a7f4-2661-4e73-a9a9-edd1e5bd5e1e",
   "metadata": {},
   "outputs": [
    {
     "name": "stdout",
     "output_type": "stream",
     "text": [
      "### Vista inicial de los datos ###\n",
      "+--------------------+--------------------+------------------------+--------------------+--------------+\n",
      "|         customer_id|  customer_unique_id|customer_zip_code_prefix|       customer_city|customer_state|\n",
      "+--------------------+--------------------+------------------------+--------------------+--------------+\n",
      "|06b8999e2fba1a1fb...|861eff4711a542e4b...|                   14409|              franca|            SP|\n",
      "|18955e83d337fd6b2...|290c77bc529b7ac93...|                    9790|sao bernardo do c...|            SP|\n",
      "|4e7b3e00288586ebd...|060e732b5b29e8181...|                    1151|           sao paulo|            SP|\n",
      "|b2b6027bc5c5109e5...|259dac757896d24d7...|                    8775|     mogi das cruzes|            SP|\n",
      "|4f2d8ab171c80ec83...|345ecd01c38d18a90...|                   13056|            campinas|            SP|\n",
      "|879864dab9bc30475...|4c93744516667ad3b...|                   89254|      jaragua do sul|            SC|\n",
      "|fd826e7cf63160e53...|addec96d2e059c80c...|                    4534|           sao paulo|            SP|\n",
      "|5e274e7a0c3809e14...|57b2a98a409812fe9...|                   35182|             timoteo|            MG|\n",
      "|5adf08e34b2e99398...|1175e95fb47ddff9d...|                   81560|            curitiba|            PR|\n",
      "|4b7139f34592b3a31...|9afe194fb833f79e3...|                   30575|      belo horizonte|            MG|\n",
      "+--------------------+--------------------+------------------------+--------------------+--------------+\n",
      "only showing top 10 rows\n",
      "\n",
      "\n",
      "##################################\n",
      "Nombres de las columnas: ['customer_id', 'customer_unique_id', 'customer_zip_code_prefix', 'customer_city', 'customer_state']\n",
      "Cantidad de columnas: 5\n",
      "Cantidad de filas: 99441\n",
      "\n",
      "##################################\n",
      "### Schema ###\n",
      "root\n",
      " |-- customer_id: string (nullable = true)\n",
      " |-- customer_unique_id: string (nullable = true)\n",
      " |-- customer_zip_code_prefix: integer (nullable = true)\n",
      " |-- customer_city: string (nullable = true)\n",
      " |-- customer_state: string (nullable = true)\n",
      "\n",
      "\n",
      "##################################\n",
      "### Valores null por columnas ###\n",
      "+-----------+------------------+------------------------+-------------+--------------+\n",
      "|customer_id|customer_unique_id|customer_zip_code_prefix|customer_city|customer_state|\n",
      "+-----------+------------------+------------------------+-------------+--------------+\n",
      "|          0|                 0|                       0|            0|             0|\n",
      "+-----------+------------------+------------------------+-------------+--------------+\n",
      "\n",
      "### Elimino valores null ###\n",
      "\n",
      "##################################\n",
      "### Valores duplicados por columnas ###\n",
      "+-----------+------------------+------------------------+-------------+--------------+-----+\n",
      "|customer_id|customer_unique_id|customer_zip_code_prefix|customer_city|customer_state|count|\n",
      "+-----------+------------------+------------------------+-------------+--------------+-----+\n",
      "+-----------+------------------+------------------------+-------------+--------------+-----+\n",
      "\n",
      "Total de registros duplicados: 0\n",
      "\n",
      "### Elimino valores duplicados ###\n",
      "\n",
      "##################################\n",
      "### Unicidad de claves primarias ###\n",
      "+-----------+-----+\n",
      "|customer_id|count|\n",
      "+-----------+-----+\n",
      "+-----------+-----+\n",
      "\n"
     ]
    }
   ],
   "source": [
    "cleaned_olist_customers_dataset = analisis_exploratorio(raw_olist_customers_dataset)"
   ]
  },
  {
   "cell_type": "code",
   "execution_count": 52,
   "id": "55cbf800-6a71-4da4-9045-069edc37f37a",
   "metadata": {},
   "outputs": [
    {
     "data": {
      "text/plain": [
       "'\\nDonde podemos ver:\\n\\ncustomer_id - ID del cliente\\ncustomer_unique_id - ID unico que identifica al cliente en otros datasets\\ncustomer_zip_code_prefix - Codigo prefijo del zip del cliente\\ncustomer_city - Ciudad\\ncustomer_state - Estado del cliente\\n'"
      ]
     },
     "execution_count": 52,
     "metadata": {},
     "output_type": "execute_result"
    }
   ],
   "source": [
    "\"\"\"\n",
    "Donde podemos ver:\n",
    "\n",
    "customer_id - ID del cliente\n",
    "customer_unique_id - ID unico que identifica al cliente en otros datasets\n",
    "customer_zip_code_prefix - Codigo prefijo del zip del cliente\n",
    "customer_city - Ciudad\n",
    "customer_state - Estado del cliente\n",
    "\"\"\""
   ]
  },
  {
   "cell_type": "code",
   "execution_count": 53,
   "id": "fef6cdcc-c5c6-4919-a716-cc13d751a2ee",
   "metadata": {},
   "outputs": [],
   "source": [
    "########################################################################################################################################"
   ]
  },
  {
   "cell_type": "markdown",
   "id": "fc53546d-cfd4-4143-b107-aca55dacefd0",
   "metadata": {},
   "source": [
    "Geolocalización Datasets"
   ]
  },
  {
   "cell_type": "code",
   "execution_count": 54,
   "id": "9cf01bd0-6ed2-495f-865a-f0b36f585b05",
   "metadata": {},
   "outputs": [
    {
     "name": "stdout",
     "output_type": "stream",
     "text": [
      "### Vista inicial de los datos ###\n",
      "+---------------------------+-------------------+------------------+----------------+-----------------+\n",
      "|geolocation_zip_code_prefix|    geolocation_lat|   geolocation_lng|geolocation_city|geolocation_state|\n",
      "+---------------------------+-------------------+------------------+----------------+-----------------+\n",
      "|                       1037| -23.54562128115268|-46.63929204800168|       sao paulo|               SP|\n",
      "|                       1046|-23.546081127035535|-46.64482029837157|       sao paulo|               SP|\n",
      "|                       1046| -23.54612896641469|-46.64295148361138|       sao paulo|               SP|\n",
      "|                       1041|  -23.5443921648681|-46.63949930627844|       sao paulo|               SP|\n",
      "|                       1035|-23.541577961711493|-46.64160722329613|       sao paulo|               SP|\n",
      "|                       1012|-23.547762303364266|-46.63536053788448|       são paulo|               SP|\n",
      "|                       1047|-23.546273112412678|-46.64122516971552|       sao paulo|               SP|\n",
      "|                       1013|-23.546923208436723| -46.6342636964915|       sao paulo|               SP|\n",
      "|                       1029|-23.543769055769133|-46.63427784085132|       sao paulo|               SP|\n",
      "|                       1011|-23.547639550320632|-46.63603162315495|       sao paulo|               SP|\n",
      "+---------------------------+-------------------+------------------+----------------+-----------------+\n",
      "only showing top 10 rows\n",
      "\n",
      "\n",
      "##################################\n",
      "Nombres de las columnas: ['geolocation_zip_code_prefix', 'geolocation_lat', 'geolocation_lng', 'geolocation_city', 'geolocation_state']\n",
      "Cantidad de columnas: 5\n",
      "Cantidad de filas: 1000163\n",
      "\n",
      "##################################\n",
      "### Schema ###\n",
      "root\n",
      " |-- geolocation_zip_code_prefix: integer (nullable = true)\n",
      " |-- geolocation_lat: double (nullable = true)\n",
      " |-- geolocation_lng: double (nullable = true)\n",
      " |-- geolocation_city: string (nullable = true)\n",
      " |-- geolocation_state: string (nullable = true)\n",
      "\n",
      "\n",
      "##################################\n",
      "### Valores null por columnas ###\n"
     ]
    },
    {
     "name": "stderr",
     "output_type": "stream",
     "text": [
      "                                                                                \r"
     ]
    },
    {
     "name": "stdout",
     "output_type": "stream",
     "text": [
      "+---------------------------+---------------+---------------+----------------+-----------------+\n",
      "|geolocation_zip_code_prefix|geolocation_lat|geolocation_lng|geolocation_city|geolocation_state|\n",
      "+---------------------------+---------------+---------------+----------------+-----------------+\n",
      "|                          0|              0|              0|               0|                0|\n",
      "+---------------------------+---------------+---------------+----------------+-----------------+\n",
      "\n",
      "### Elimino valores null ###\n",
      "\n",
      "##################################\n",
      "### Valores duplicados por columnas ###\n"
     ]
    },
    {
     "name": "stderr",
     "output_type": "stream",
     "text": [
      "                                                                                \r"
     ]
    },
    {
     "name": "stdout",
     "output_type": "stream",
     "text": [
      "+---------------------------+-------------------+-------------------+----------------+-----------------+-----+\n",
      "|geolocation_zip_code_prefix|    geolocation_lat|    geolocation_lng|geolocation_city|geolocation_state|count|\n",
      "+---------------------------+-------------------+-------------------+----------------+-----------------+-----+\n",
      "|                       1026| -23.53925652899767|-46.633440525535235|       sao paulo|               SP|    2|\n",
      "|                       1106|-23.531062064948905|-46.629505278925556|       sao paulo|               SP|    2|\n",
      "|                       1241|-23.545792634196992|  -46.6567234730798|       sao paulo|               SP|    3|\n",
      "|                       1226|-23.538190850683794|-46.651323227306854|       são paulo|               SP|    4|\n",
      "|                       1223|-23.543735510964265| -46.65415427699233|       sao paulo|               SP|    2|\n",
      "|                       1303|-23.551504721622702| -46.64945164585375|       sao paulo|               SP|    3|\n",
      "|                       1306|-23.554051920624367|  -46.6487385976975|       são paulo|               SP|    4|\n",
      "|                       1306|-23.554051920624367|  -46.6487385976975|       sao paulo|               SP|    6|\n",
      "|                       1332|-23.560667077990644| -46.65212849125743|       sao paulo|               SP|    2|\n",
      "|                       1404| -23.56708790175425|-46.654359318339246|       sao paulo|               SP|    7|\n",
      "|                       1433|-23.577661519562607| -46.67074707591319|       sao paulo|               SP|    2|\n",
      "|                       1441|-23.577709985861734| -46.69330789771487|       sao paulo|               SP|    4|\n",
      "|                       1415| -23.55150606272721|-46.654135569940564|       sao paulo|               SP|    2|\n",
      "|                       1532| -23.57418642936694|  -46.6357481924808|       são paulo|               SP|    3|\n",
      "|                       2013|-23.501039877603997|-46.637789893011686|       sao paulo|               SP|    2|\n",
      "|                       2022|   -23.503235899124| -46.63832674543861|       sao paulo|               SP|    3|\n",
      "|                       2077|-23.501848610046736| -46.59854287330482|       sao paulo|               SP|    4|\n",
      "|                       2180| -23.51796174271452| -46.56586340175424|       sao paulo|               SP|    3|\n",
      "|                       2168| -23.52218624279628| -46.57970414962962|       sao paulo|               SP|    2|\n",
      "|                       2121|-23.509798868168936|-46.592326749379616|       sao paulo|               SP|    2|\n",
      "+---------------------------+-------------------+-------------------+----------------+-----------------+-----+\n",
      "only showing top 20 rows\n",
      "\n"
     ]
    },
    {
     "name": "stderr",
     "output_type": "stream",
     "text": [
      "                                                                                \r"
     ]
    },
    {
     "name": "stdout",
     "output_type": "stream",
     "text": [
      "Total de registros duplicados: 390005\n",
      "\n",
      "### Elimino valores duplicados ###\n",
      "\n",
      "##################################\n",
      "### Unicidad de claves primarias ###\n"
     ]
    },
    {
     "name": "stderr",
     "output_type": "stream",
     "text": [
      "[Stage 297:============================>                            (1 + 1) / 2]\r"
     ]
    },
    {
     "name": "stdout",
     "output_type": "stream",
     "text": [
      "+---------------------------+-----+\n",
      "|geolocation_zip_code_prefix|count|\n",
      "+---------------------------+-----+\n",
      "|                       6654|  128|\n",
      "|                       7240|  138|\n",
      "|                      12940|  187|\n",
      "|                      13289|   48|\n",
      "|                      13285|   42|\n",
      "|                      13840|   97|\n",
      "|                      18800|  239|\n",
      "|                      20735|  160|\n",
      "|                      26087|   99|\n",
      "|                      28024|   84|\n",
      "|                       1238|   72|\n",
      "|                       2366|   18|\n",
      "|                      18051|  154|\n",
      "|                      21220|  176|\n",
      "|                       6397|   81|\n",
      "|                       6620|   50|\n",
      "|                       2866|   31|\n",
      "|                       4101|   28|\n",
      "|                       3175|   27|\n",
      "|                       5518|   25|\n",
      "+---------------------------+-----+\n",
      "only showing top 20 rows\n",
      "\n"
     ]
    },
    {
     "name": "stderr",
     "output_type": "stream",
     "text": [
      "                                                                                \r"
     ]
    }
   ],
   "source": [
    "cleaned_olist_geolocation_dataset = analisis_exploratorio(raw_olist_geolocation_dataset)"
   ]
  },
  {
   "cell_type": "code",
   "execution_count": 55,
   "id": "1ce113d2-b3ea-47f3-b0ac-a5059d71341d",
   "metadata": {},
   "outputs": [
    {
     "data": {
      "text/plain": [
       "'\\nLas claves de zipcode se encuentran duplicadas, realizando el analisis de variabilidad tenemos que corresponden a distintas geolocalizaciones. \\nPor esto, no es que esté mal la duplicación, sino que están asociados los codigos a distintas ubicaciones geográficas como se puede ver en geolocation_city. \\n'"
      ]
     },
     "execution_count": 55,
     "metadata": {},
     "output_type": "execute_result"
    }
   ],
   "source": [
    "\"\"\"\n",
    "Las claves de zipcode se encuentran duplicadas, realizando el analisis de variabilidad tenemos que corresponden a distintas geolocalizaciones. \n",
    "Por esto, no es que esté mal la duplicación, sino que están asociados los codigos a distintas ubicaciones geográficas como se puede ver en geolocation_city. \n",
    "\"\"\""
   ]
  },
  {
   "cell_type": "code",
   "execution_count": 56,
   "id": "f739813d-ec7b-43a2-96a6-99b237da0015",
   "metadata": {},
   "outputs": [
    {
     "name": "stderr",
     "output_type": "stream",
     "text": [
      "[Stage 305:>                                                        (0 + 2) / 2]\r"
     ]
    },
    {
     "name": "stdout",
     "output_type": "stream",
     "text": [
      "+---------------------------+--------------------+-----+\n",
      "|geolocation_zip_code_prefix|    geolocation_city|count|\n",
      "+---------------------------+--------------------+-----+\n",
      "|                       9181|         santo andre|   77|\n",
      "|                       9134|         santo andre|   25|\n",
      "|                       9407|      ribeirao pires|   20|\n",
      "|                      23016|      rio de janeiro|   48|\n",
      "|                       6145|              osasco|   25|\n",
      "|                      12093|             taubate|   17|\n",
      "|                      20251|      rio de janeiro|  126|\n",
      "|                      22050|      rio de janeiro|  107|\n",
      "|                       3141|           sao paulo|   19|\n",
      "|                       6783|     taboao da serra|   83|\n",
      "|                      12249|são francisco xavier|    1|\n",
      "|                      15850|              urupês|   12|\n",
      "|                       1324|           são paulo|    8|\n",
      "|                       2169|           sao paulo|   27|\n",
      "|                       2804|           sao paulo|   30|\n",
      "|                      13083|            campinas|   92|\n",
      "|                      18076|            sorocaba|  115|\n",
      "|                      28948| são pedro da aldeia|    3|\n",
      "|                       3716|           sao paulo|   27|\n",
      "|                       6362|         carapicuiba|   41|\n",
      "+---------------------------+--------------------+-----+\n",
      "only showing top 20 rows\n",
      "\n"
     ]
    },
    {
     "name": "stderr",
     "output_type": "stream",
     "text": [
      "                                                                                \r"
     ]
    }
   ],
   "source": [
    "cleaned_olist_geolocation_dataset.groupBy(\"geolocation_zip_code_prefix\", \"geolocation_city\").count().show()"
   ]
  },
  {
   "cell_type": "code",
   "execution_count": 57,
   "id": "198827dd-ae88-45ca-8a3a-dcb1f0348322",
   "metadata": {},
   "outputs": [
    {
     "data": {
      "text/plain": [
       "\"\\nDonde podemos ver:\\n\\nNombres de las columnas: ['geolocation_zip_code_prefix', 'geolocation_lat', 'geolocation_lng', 'geolocation_city', 'geolocation_state']\\n\\ngeolocation_zip_code_prefix - Codigo referente al zip\\ngeolocation_lat - Coordenada de latitud\\ngeolocation_lng - Coordenada de longitud\\ngeolocation_city - Ciudad\\ngeolocation_state - Estado\\n\""
      ]
     },
     "execution_count": 57,
     "metadata": {},
     "output_type": "execute_result"
    }
   ],
   "source": [
    "\"\"\"\n",
    "Donde podemos ver:\n",
    "\n",
    "Nombres de las columnas: ['geolocation_zip_code_prefix', 'geolocation_lat', 'geolocation_lng', 'geolocation_city', 'geolocation_state']\n",
    "\n",
    "geolocation_zip_code_prefix - Codigo referente al zip\n",
    "geolocation_lat - Coordenada de latitud\n",
    "geolocation_lng - Coordenada de longitud\n",
    "geolocation_city - Ciudad\n",
    "geolocation_state - Estado\n",
    "\"\"\""
   ]
  },
  {
   "cell_type": "markdown",
   "id": "766a30a2-5789-478b-a7af-643ef368f05c",
   "metadata": {},
   "source": [
    "Order Items Dataset"
   ]
  },
  {
   "cell_type": "code",
   "execution_count": 58,
   "id": "6568b9d3-19c1-4a82-aea6-57d676a5ab4d",
   "metadata": {},
   "outputs": [
    {
     "name": "stdout",
     "output_type": "stream",
     "text": [
      "### Vista inicial de los datos ###\n",
      "+--------------------+-------------+--------------------+--------------------+-------------------+------+-------------+\n",
      "|            order_id|order_item_id|          product_id|           seller_id|shipping_limit_date| price|freight_value|\n",
      "+--------------------+-------------+--------------------+--------------------+-------------------+------+-------------+\n",
      "|00010242fe8c5a6d1...|            1|4244733e06e7ecb49...|48436dade18ac8b2b...|2017-09-19 09:45:35|  58.9|        13.29|\n",
      "|00018f77f2f0320c5...|            1|e5f2d52b802189ee6...|dd7ddc04e1b6c2c61...|2017-05-03 11:05:13| 239.9|        19.93|\n",
      "|000229ec398224ef6...|            1|c777355d18b72b67a...|5b51032eddd242adc...|2018-01-18 14:48:30| 199.0|        17.87|\n",
      "|00024acbcdf0a6daa...|            1|7634da152a4610f15...|9d7a1d34a50524090...|2018-08-15 10:10:18| 12.99|        12.79|\n",
      "|00042b26cf59d7ce6...|            1|ac6c3623068f30de0...|df560393f3a51e745...|2017-02-13 13:57:51| 199.9|        18.14|\n",
      "|00048cc3ae777c65d...|            1|ef92defde845ab845...|6426d21aca402a131...|2017-05-23 03:55:27|  21.9|        12.69|\n",
      "|00054e8431b9d7675...|            1|8d4f2bb7e93e6710a...|7040e82f899a04d1b...|2017-12-14 12:10:31|  19.9|        11.85|\n",
      "|000576fe39319847c...|            1|557d850972a7d6f79...|5996cddab893a4652...|2018-07-10 12:30:45| 810.0|        70.75|\n",
      "|0005a1a1728c9d785...|            1|310ae3c140ff94b03...|a416b6a846a117243...|2018-03-26 18:31:29|145.95|        11.65|\n",
      "|0005f50442cb953dc...|            1|4535b0e1091c278df...|ba143b05f0110f0dc...|2018-07-06 14:10:56| 53.99|         11.4|\n",
      "+--------------------+-------------+--------------------+--------------------+-------------------+------+-------------+\n",
      "only showing top 10 rows\n",
      "\n",
      "\n",
      "##################################\n",
      "Nombres de las columnas: ['order_id', 'order_item_id', 'product_id', 'seller_id', 'shipping_limit_date', 'price', 'freight_value']\n",
      "Cantidad de columnas: 7\n",
      "Cantidad de filas: 112650\n",
      "\n",
      "##################################\n",
      "### Schema ###\n",
      "root\n",
      " |-- order_id: string (nullable = true)\n",
      " |-- order_item_id: integer (nullable = true)\n",
      " |-- product_id: string (nullable = true)\n",
      " |-- seller_id: string (nullable = true)\n",
      " |-- shipping_limit_date: timestamp (nullable = true)\n",
      " |-- price: double (nullable = true)\n",
      " |-- freight_value: double (nullable = true)\n",
      "\n",
      "\n",
      "##################################\n",
      "### Valores null por columnas ###\n",
      "+--------+-------------+----------+---------+-------------------+-----+-------------+\n",
      "|order_id|order_item_id|product_id|seller_id|shipping_limit_date|price|freight_value|\n",
      "+--------+-------------+----------+---------+-------------------+-----+-------------+\n",
      "|       0|            0|         0|        0|                  0|    0|            0|\n",
      "+--------+-------------+----------+---------+-------------------+-----+-------------+\n",
      "\n",
      "### Elimino valores null ###\n",
      "\n",
      "##################################\n",
      "### Valores duplicados por columnas ###\n"
     ]
    },
    {
     "name": "stderr",
     "output_type": "stream",
     "text": [
      "                                                                                \r"
     ]
    },
    {
     "name": "stdout",
     "output_type": "stream",
     "text": [
      "+--------+-------------+----------+---------+-------------------+-----+-------------+-----+\n",
      "|order_id|order_item_id|product_id|seller_id|shipping_limit_date|price|freight_value|count|\n",
      "+--------+-------------+----------+---------+-------------------+-----+-------------+-----+\n",
      "+--------+-------------+----------+---------+-------------------+-----+-------------+-----+\n",
      "\n"
     ]
    },
    {
     "name": "stderr",
     "output_type": "stream",
     "text": [
      "                                                                                \r"
     ]
    },
    {
     "name": "stdout",
     "output_type": "stream",
     "text": [
      "Total de registros duplicados: 0\n",
      "\n",
      "### Elimino valores duplicados ###\n",
      "\n",
      "##################################\n",
      "### Unicidad de claves primarias ###\n"
     ]
    },
    {
     "name": "stderr",
     "output_type": "stream",
     "text": [
      "[Stage 327:============================>                            (1 + 1) / 2]\r"
     ]
    },
    {
     "name": "stdout",
     "output_type": "stream",
     "text": [
      "+--------------------+-----+\n",
      "|            order_id|count|\n",
      "+--------------------+-----+\n",
      "|7a70b827ebc6ab85b...|    3|\n",
      "|873c916c2bff3ea61...|    2|\n",
      "|3e22c141d28618608...|    2|\n",
      "|5e57ff5e1c008db89...|    2|\n",
      "|0cb32545f515420d9...|    2|\n",
      "|99986880076491bbf...|    2|\n",
      "|118045506e1c1dda0...|    5|\n",
      "|2f5e702c70321e3f1...|    2|\n",
      "|5137d2621656ff029...|    2|\n",
      "|125e0c61fdbfc589f...|    4|\n",
      "|014405982914c2cde...|    2|\n",
      "|116debdd5705aaa51...|    2|\n",
      "|0baa56401ae212e30...|    2|\n",
      "|51a5a1d89c87180ca...|    2|\n",
      "|05afef1c185862cab...|    2|\n",
      "|078c2d9bb7e5905e8...|    2|\n",
      "|6386b8aabb7f032b7...|    2|\n",
      "|829f21ada22c20b2a...|    2|\n",
      "|7de7f006c92939fa5...|    2|\n",
      "|1c4a92d82c1b0dec1...|    3|\n",
      "+--------------------+-----+\n",
      "only showing top 20 rows\n",
      "\n"
     ]
    },
    {
     "name": "stderr",
     "output_type": "stream",
     "text": [
      "                                                                                \r"
     ]
    }
   ],
   "source": [
    "cleaned_olist_order_items_dataset = analisis_exploratorio(raw_olist_order_items_dataset)"
   ]
  },
  {
   "cell_type": "code",
   "execution_count": null,
   "id": "015ad5ad-aefc-4bcb-b4d7-a4eba0ff037e",
   "metadata": {},
   "outputs": [],
   "source": [
    "\"\"\"\n",
    "Podemos verificar que existen ordenes de items repetidas. Lo cual deberíamos verificar estas en que se diferencian.\n",
    "Filtramos uno random para obtener el valor de la orden e imprimimos el valor de las ordenes\n",
    "\"\"\""
   ]
  },
  {
   "cell_type": "code",
   "execution_count": 68,
   "id": "5a9304ce-f12c-4876-8a31-6852bddc9796",
   "metadata": {
    "scrolled": true
   },
   "outputs": [
    {
     "name": "stderr",
     "output_type": "stream",
     "text": [
      "                                                                                \r"
     ]
    },
    {
     "name": "stdout",
     "output_type": "stream",
     "text": [
      "+--------------------+-------------+--------------------+--------------------+-------------------+-----+-------------+\n",
      "|            order_id|order_item_id|          product_id|           seller_id|shipping_limit_date|price|freight_value|\n",
      "+--------------------+-------------+--------------------+--------------------+-------------------+-----+-------------+\n",
      "|7a70b827ebc6ab85b...|            2|2c3f424b5643b0366...|888faa8bfb0b159c3...|2018-08-13 17:50:09|335.9|         2.24|\n",
      "|7a70b827ebc6ab85b...|            3|39b146e69c32ffe0a...|0b35c634521043bf4...|2018-08-15 17:50:09| 99.9|         56.1|\n",
      "|7a70b827ebc6ab85b...|            1|39b146e69c32ffe0a...|0b35c634521043bf4...|2018-08-15 17:50:09| 99.9|         56.1|\n",
      "+--------------------+-------------+--------------------+--------------------+-------------------+-----+-------------+\n",
      "\n"
     ]
    }
   ],
   "source": [
    "order_duplicated_df = cleaned_olist_order_items_dataset.groupBy('order_id').count().filter(\"count > 1\")\n",
    "id_order_duplicated = order_duplicated_df.head(1)[0]['order_id']\n",
    "\n",
    "filtered_df = cleaned_olist_order_items_dataset.filter(cleaned_olist_order_items_dataset['order_id'] == id_order_duplicated)\n",
    "filtered_df.show()"
   ]
  },
  {
   "cell_type": "code",
   "execution_count": null,
   "id": "46de28f5-e4c2-43ad-9328-4272e5b55a04",
   "metadata": {},
   "outputs": [],
   "source": [
    "\"\"\"\n",
    "Concluimos que es normal debido a que los valores de las order_item_id son distintos. \n",
    "\"\"\""
   ]
  },
  {
   "cell_type": "code",
   "execution_count": 69,
   "id": "7b24cfa9-1d1f-4704-ab59-0843f87453dc",
   "metadata": {},
   "outputs": [
    {
     "data": {
      "text/plain": [
       "\"\\nDonde podemos ver:\\n\\n['order_id', 'order_item_id', 'product_id', 'seller_id', 'shipping_limit_date', 'price', 'freight_value']\\n\\norder_id - ID de orden\\norder_item_id - ID de la orden del item\\nseller_id - ID del vendedor\\ncustomer_city - Ciudad del cliente\\ncustomer_state - Estado del cliente\\n\""
      ]
     },
     "execution_count": 69,
     "metadata": {},
     "output_type": "execute_result"
    }
   ],
   "source": [
    "\"\"\"\n",
    "Donde podemos ver:\n",
    "\n",
    "['order_id', 'order_item_id', 'product_id', 'seller_id', 'shipping_limit_date', 'price', 'freight_value']\n",
    "\n",
    "order_id - ID de orden\n",
    "order_item_id - ID de la orden del item\n",
    "seller_id - ID del vendedor\n",
    "customer_city - Ciudad del cliente\n",
    "customer_state - Estado del cliente\n",
    "\"\"\""
   ]
  },
  {
   "cell_type": "markdown",
   "id": "bb652c5d-7ce9-419d-a68e-50b28fad345f",
   "metadata": {},
   "source": [
    "Order Payments Dataset"
   ]
  },
  {
   "cell_type": "code",
   "execution_count": 71,
   "id": "dc255442-158e-4cb8-8c11-c5a75b0571cc",
   "metadata": {},
   "outputs": [
    {
     "name": "stdout",
     "output_type": "stream",
     "text": [
      "### Vista inicial de los datos ###\n",
      "+--------------------+------------------+------------+--------------------+-------------+\n",
      "|            order_id|payment_sequential|payment_type|payment_installments|payment_value|\n",
      "+--------------------+------------------+------------+--------------------+-------------+\n",
      "|b81ef226f3fe1789b...|                 1| credit_card|                   8|        99.33|\n",
      "|a9810da82917af2d9...|                 1| credit_card|                   1|        24.39|\n",
      "|25e8ea4e93396b6fa...|                 1| credit_card|                   1|        65.71|\n",
      "|ba78997921bbcdc13...|                 1| credit_card|                   8|       107.78|\n",
      "|42fdf880ba16b47b5...|                 1| credit_card|                   2|       128.45|\n",
      "|298fcdf1f73eb413e...|                 1| credit_card|                   2|        96.12|\n",
      "|771ee386b001f0620...|                 1| credit_card|                   1|        81.16|\n",
      "|3d7239c394a212faa...|                 1| credit_card|                   3|        51.84|\n",
      "|1f78449c87a54faf9...|                 1| credit_card|                   6|       341.09|\n",
      "|0573b5e23cbd79800...|                 1|      boleto|                   1|        51.95|\n",
      "+--------------------+------------------+------------+--------------------+-------------+\n",
      "only showing top 10 rows\n",
      "\n",
      "\n",
      "##################################\n",
      "Nombres de las columnas: ['order_id', 'payment_sequential', 'payment_type', 'payment_installments', 'payment_value']\n",
      "Cantidad de columnas: 5\n",
      "Cantidad de filas: 103886\n",
      "\n",
      "##################################\n",
      "### Schema ###\n",
      "root\n",
      " |-- order_id: string (nullable = true)\n",
      " |-- payment_sequential: integer (nullable = true)\n",
      " |-- payment_type: string (nullable = true)\n",
      " |-- payment_installments: integer (nullable = true)\n",
      " |-- payment_value: double (nullable = true)\n",
      "\n",
      "\n",
      "##################################\n",
      "### Valores null por columnas ###\n",
      "+--------+------------------+------------+--------------------+-------------+\n",
      "|order_id|payment_sequential|payment_type|payment_installments|payment_value|\n",
      "+--------+------------------+------------+--------------------+-------------+\n",
      "|       0|                 0|           0|                   0|            0|\n",
      "+--------+------------------+------------+--------------------+-------------+\n",
      "\n",
      "### Elimino valores null ###\n",
      "\n",
      "##################################\n",
      "### Valores duplicados por columnas ###\n",
      "+--------+------------------+------------+--------------------+-------------+-----+\n",
      "|order_id|payment_sequential|payment_type|payment_installments|payment_value|count|\n",
      "+--------+------------------+------------+--------------------+-------------+-----+\n",
      "+--------+------------------+------------+--------------------+-------------+-----+\n",
      "\n",
      "Total de registros duplicados: 0\n",
      "\n",
      "### Elimino valores duplicados ###\n",
      "\n",
      "##################################\n",
      "### Unicidad de claves primarias ###\n",
      "+--------------------+-----+\n",
      "|            order_id|count|\n",
      "+--------------------+-----+\n",
      "|f44cb69655f8e4d13...|    2|\n",
      "|7a5472f7c8cecc2e1...|    2|\n",
      "|faf1a9a55f20bf036...|    2|\n",
      "|fee9afa24ed743a26...|    2|\n",
      "|1826d2a2eb6ba6e3e...|    2|\n",
      "|110f190bf49ab04f3...|    2|\n",
      "|41d85a7a138b7205e...|    2|\n",
      "|3f4f6a378519479cb...|    2|\n",
      "|6386b8aabb7f032b7...|    2|\n",
      "|251f0a3981c4a8cb8...|    5|\n",
      "|54066aeaaf3ac32e7...|    2|\n",
      "|8ca5bdac5ebe8f2d6...|    9|\n",
      "|b60cab8c479e1e804...|    2|\n",
      "|f63a31c3349b87273...|    2|\n",
      "|ac3b0c224349e4ca9...|    3|\n",
      "|5ded9a59e8920225f...|    2|\n",
      "|cd05a1fc2781f43f5...|    2|\n",
      "|8dd9758206f8d9c23...|    2|\n",
      "|a9b929204be626d61...|    2|\n",
      "|a1e28dc56f8cf4e56...|    2|\n",
      "+--------------------+-----+\n",
      "only showing top 20 rows\n",
      "\n"
     ]
    }
   ],
   "source": [
    "cleaned_olist_order_payments_dataset = analisis_exploratorio(raw_olist_order_payments_dataset)"
   ]
  },
  {
   "cell_type": "code",
   "execution_count": 73,
   "id": "92f7b9f2-2d6c-4006-a306-a8f74448b02c",
   "metadata": {},
   "outputs": [
    {
     "name": "stdout",
     "output_type": "stream",
     "text": [
      "+--------------------+------------------+------------+--------------------+-------------+\n",
      "|            order_id|payment_sequential|payment_type|payment_installments|payment_value|\n",
      "+--------------------+------------------+------------+--------------------+-------------+\n",
      "|f44cb69655f8e4d13...|                 1| credit_card|                   5|       146.32|\n",
      "|f44cb69655f8e4d13...|                 2|     voucher|                   1|         18.0|\n",
      "+--------------------+------------------+------------+--------------------+-------------+\n",
      "\n"
     ]
    }
   ],
   "source": [
    "order_order_payments_df = cleaned_olist_order_payments_dataset.groupBy('order_id').count().filter(\"count > 1\")\n",
    "id_order_payments_duplicated = order_order_payments_df.head(1)[0]['order_id']\n",
    "\n",
    "filtered_df = cleaned_olist_order_payments_dataset.filter(cleaned_olist_order_payments_dataset['order_id'] == id_order_payments_duplicated)\n",
    "filtered_df.show()"
   ]
  },
  {
   "cell_type": "code",
   "execution_count": null,
   "id": "899d1aff-ac61-4d80-b141-401ecebb3f12",
   "metadata": {},
   "outputs": [],
   "source": []
  },
  {
   "cell_type": "code",
   "execution_count": 74,
   "id": "015f0bca-0852-4d64-9ca3-7d174afe3782",
   "metadata": {},
   "outputs": [
    {
     "data": {
      "text/plain": [
       "'\\nDonde podemos ver:\\n\\nnota: Similar al caso anterior, las secuencias son distintas de pago y el payment type tambien. Es correcto estos registros.\\n\\nSimilar al anterior, \\norder_id - ID del Orden\\npayment_sequential - \\npayment_type - Tipo de pago\\npayment_installments - \\npayment_value - Valor del pago\\n'"
      ]
     },
     "execution_count": 74,
     "metadata": {},
     "output_type": "execute_result"
    }
   ],
   "source": [
    "\"\"\"\n",
    "Donde podemos ver:\n",
    "\n",
    "nota: Similar al caso anterior, las secuencias son distintas de pago y el payment type tambien. Es correcto estos registros.\n",
    "\n",
    "Similar al anterior, \n",
    "order_id - ID del Orden\n",
    "payment_sequential - \n",
    "payment_type - Tipo de pago\n",
    "payment_installments - \n",
    "payment_value - Valor del pago\n",
    "\"\"\""
   ]
  },
  {
   "cell_type": "markdown",
   "id": "39493667-3f23-443e-ad27-3a40032105ec",
   "metadata": {},
   "source": [
    "Order Reviews Dataset"
   ]
  },
  {
   "cell_type": "code",
   "execution_count": 80,
   "id": "8665f79c-ba28-4c96-b12d-d468c8ca0e1e",
   "metadata": {
    "scrolled": true
   },
   "outputs": [
    {
     "name": "stdout",
     "output_type": "stream",
     "text": [
      "### Vista inicial de los datos ###\n",
      "+--------------------+--------------------+------------+--------------------+----------------------+--------------------+-----------------------+\n",
      "|           review_id|            order_id|review_score|review_comment_title|review_comment_message|review_creation_date|review_answer_timestamp|\n",
      "+--------------------+--------------------+------------+--------------------+----------------------+--------------------+-----------------------+\n",
      "|7bc2406110b926393...|73fc7af87114b3971...|           4|                null|                  null| 2018-01-18 00:00:00|    2018-01-18 21:46:59|\n",
      "|80e641a11e56f04c1...|a548910a1c6147796...|           5|                null|                  null| 2018-03-10 00:00:00|    2018-03-11 03:05:13|\n",
      "|228ce5500dc1d8e02...|f9e4b658b201a9f2e...|           5|                null|                  null| 2018-02-17 00:00:00|    2018-02-18 14:36:24|\n",
      "|e64fb393e7b32834b...|658677c97b385a9be...|           5|                null|  Recebi bem antes ...| 2017-04-21 00:00:00|    2017-04-21 22:02:06|\n",
      "|f7c4243c7fe1938f1...|8e6bfb81e283fa7e4...|           5|                null|  Parabéns lojas la...| 2018-03-01 00:00:00|    2018-03-02 10:26:53|\n",
      "|15197aa66ff4d0650...|b18dcdf73be663668...|           1|                null|                  null| 2018-04-13 00:00:00|    2018-04-16 00:39:37|\n",
      "|07f9bee5d1b850860...|e48aa0d2dcec3a2e8...|           5|                null|                  null| 2017-07-16 00:00:00|    2017-07-18 19:30:34|\n",
      "|7c6400515c67679fb...|c31a859e34e3adac2...|           5|                null|                  null| 2018-08-14 00:00:00|    2018-08-14 21:36:06|\n",
      "|a3f6f7f6f433de0ae...|9c214ac970e842735...|           5|                null|                  null| 2017-05-17 00:00:00|    2017-05-18 12:05:37|\n",
      "|8670d52e15e00043a...|b9bf720beb4ab3728...|           4|           recomendo|  aparelho eficient...| 2018-05-22 00:00:00|    2018-05-23 16:45:47|\n",
      "+--------------------+--------------------+------------+--------------------+----------------------+--------------------+-----------------------+\n",
      "only showing top 10 rows\n",
      "\n",
      "\n",
      "##################################\n",
      "Nombres de las columnas: ['review_id', 'order_id', 'review_score', 'review_comment_title', 'review_comment_message', 'review_creation_date', 'review_answer_timestamp']\n",
      "Cantidad de columnas: 7\n",
      "Cantidad de filas: 104162\n",
      "\n",
      "##################################\n",
      "### Schema ###\n",
      "root\n",
      " |-- review_id: string (nullable = true)\n",
      " |-- order_id: string (nullable = true)\n",
      " |-- review_score: string (nullable = true)\n",
      " |-- review_comment_title: string (nullable = true)\n",
      " |-- review_comment_message: string (nullable = true)\n",
      " |-- review_creation_date: string (nullable = true)\n",
      " |-- review_answer_timestamp: string (nullable = true)\n",
      "\n",
      "\n",
      "##################################\n",
      "### Valores null por columnas ###\n",
      "+---------+--------+------------+--------------------+----------------------+--------------------+-----------------------+\n",
      "|review_id|order_id|review_score|review_comment_title|review_comment_message|review_creation_date|review_answer_timestamp|\n",
      "+---------+--------+------------+--------------------+----------------------+--------------------+-----------------------+\n",
      "|        1|    2236|        2380|               92157|                 63079|                8764|                   8785|\n",
      "+---------+--------+------------+--------------------+----------------------+--------------------+-----------------------+\n",
      "\n",
      "### Elimino valores null ###\n",
      "\n",
      "##################################\n",
      "### Valores duplicados por columnas ###\n"
     ]
    },
    {
     "name": "stderr",
     "output_type": "stream",
     "text": [
      "                                                                                \r"
     ]
    },
    {
     "name": "stdout",
     "output_type": "stream",
     "text": [
      "+---------+--------+------------+--------------------+----------------------+--------------------+-----------------------+-----+\n",
      "|review_id|order_id|review_score|review_comment_title|review_comment_message|review_creation_date|review_answer_timestamp|count|\n",
      "+---------+--------+------------+--------------------+----------------------+--------------------+-----------------------+-----+\n",
      "+---------+--------+------------+--------------------+----------------------+--------------------+-----------------------+-----+\n",
      "\n",
      "Total de registros duplicados: 0\n",
      "\n",
      "### Elimino valores duplicados ###\n",
      "\n",
      "##################################\n",
      "### Unicidad de claves primarias ###\n",
      "+--------------------+-----+\n",
      "|           review_id|count|\n",
      "+--------------------+-----+\n",
      "|f45e3373e177f5694...|    2|\n",
      "|fbb7c6f69326ad5bf...|    2|\n",
      "|70be3f25177bd0d08...|    2|\n",
      "|7168439a7228c5684...|    2|\n",
      "|23a008b7ae9704e3b...|    2|\n",
      "|58f1655df206a9a40...|    2|\n",
      "|471a7d853b152d77a...|    2|\n",
      "|56647f8fbe7430f42...|    2|\n",
      "|74090c1156e291923...|    2|\n",
      "|72906dc18cd7aaed2...|    2|\n",
      "|db90ab0ea5d97cbfa...|    2|\n",
      "|5683a7ab773b86997...|    2|\n",
      "|da8e936bc2f1b52ec...|    2|\n",
      "|8a90511249a72061a...|    2|\n",
      "|917cdadc1a5b4cf4c...|    2|\n",
      "|88dce7f8594f6d0a0...|    2|\n",
      "|9e25d6e3025e9b9a0...|    3|\n",
      "|a935b3d67f406bac4...|    2|\n",
      "|8090efcb22d6a077e...|    2|\n",
      "|3d0cc61574522a451...|    2|\n",
      "+--------------------+-----+\n",
      "only showing top 20 rows\n",
      "\n",
      "\n",
      "##################################\n",
      "### Cantidad de columnas curadas y listas para usar ###\n",
      "Cantidad de filas: 8918\n"
     ]
    }
   ],
   "source": [
    " cleaned_olist_order_reviews_dataset = analisis_exploratorio(raw_olist_order_reviews_dataset)"
   ]
  },
  {
   "cell_type": "code",
   "execution_count": 81,
   "id": "ef707053-2495-4f39-aa61-8d7a9015646c",
   "metadata": {},
   "outputs": [
    {
     "data": {
      "text/plain": [
       "'\\nHecha la limpieza, vemos que se reduce considerablemente el nro total, pero los valores son de columnas las cuales no deberían afectar y están bien que sean nulls.\\nColumnas como : review_comment_title|review_comment_message\\nSon validas nulls. Por lo cual debemos contemplar y exluir ese valor.\\n'"
      ]
     },
     "execution_count": 81,
     "metadata": {},
     "output_type": "execute_result"
    }
   ],
   "source": [
    "\"\"\"\n",
    "Hecha la limpieza, vemos que se reduce considerablemente el nro total, pero los valores son de columnas las cuales no deberían afectar y están bien que sean nulls.\n",
    "Columnas como : review_comment_title|review_comment_message\n",
    "Son validas nulls. Por lo cual debemos contemplar y exluir ese valor.\n",
    "\"\"\""
   ]
  },
  {
   "cell_type": "code",
   "execution_count": 82,
   "id": "398603e5-cf8c-4281-a0fa-af90a593c3b7",
   "metadata": {},
   "outputs": [
    {
     "name": "stdout",
     "output_type": "stream",
     "text": [
      "### Vista inicial de los datos ###\n",
      "+--------------------+--------------------+------------+--------------------+----------------------+--------------------+-----------------------+\n",
      "|           review_id|            order_id|review_score|review_comment_title|review_comment_message|review_creation_date|review_answer_timestamp|\n",
      "+--------------------+--------------------+------------+--------------------+----------------------+--------------------+-----------------------+\n",
      "|7bc2406110b926393...|73fc7af87114b3971...|           4|                null|                  null| 2018-01-18 00:00:00|    2018-01-18 21:46:59|\n",
      "|80e641a11e56f04c1...|a548910a1c6147796...|           5|                null|                  null| 2018-03-10 00:00:00|    2018-03-11 03:05:13|\n",
      "|228ce5500dc1d8e02...|f9e4b658b201a9f2e...|           5|                null|                  null| 2018-02-17 00:00:00|    2018-02-18 14:36:24|\n",
      "|e64fb393e7b32834b...|658677c97b385a9be...|           5|                null|  Recebi bem antes ...| 2017-04-21 00:00:00|    2017-04-21 22:02:06|\n",
      "|f7c4243c7fe1938f1...|8e6bfb81e283fa7e4...|           5|                null|  Parabéns lojas la...| 2018-03-01 00:00:00|    2018-03-02 10:26:53|\n",
      "|15197aa66ff4d0650...|b18dcdf73be663668...|           1|                null|                  null| 2018-04-13 00:00:00|    2018-04-16 00:39:37|\n",
      "|07f9bee5d1b850860...|e48aa0d2dcec3a2e8...|           5|                null|                  null| 2017-07-16 00:00:00|    2017-07-18 19:30:34|\n",
      "|7c6400515c67679fb...|c31a859e34e3adac2...|           5|                null|                  null| 2018-08-14 00:00:00|    2018-08-14 21:36:06|\n",
      "|a3f6f7f6f433de0ae...|9c214ac970e842735...|           5|                null|                  null| 2017-05-17 00:00:00|    2017-05-18 12:05:37|\n",
      "|8670d52e15e00043a...|b9bf720beb4ab3728...|           4|           recomendo|  aparelho eficient...| 2018-05-22 00:00:00|    2018-05-23 16:45:47|\n",
      "+--------------------+--------------------+------------+--------------------+----------------------+--------------------+-----------------------+\n",
      "only showing top 10 rows\n",
      "\n",
      "\n",
      "##################################\n",
      "Nombres de las columnas: ['review_id', 'order_id', 'review_score', 'review_comment_title', 'review_comment_message', 'review_creation_date', 'review_answer_timestamp']\n",
      "Cantidad de columnas: 7\n",
      "Cantidad de filas: 104162\n",
      "\n",
      "##################################\n",
      "### Schema ###\n",
      "root\n",
      " |-- review_id: string (nullable = true)\n",
      " |-- order_id: string (nullable = true)\n",
      " |-- review_score: string (nullable = true)\n",
      " |-- review_comment_title: string (nullable = true)\n",
      " |-- review_comment_message: string (nullable = true)\n",
      " |-- review_creation_date: string (nullable = true)\n",
      " |-- review_answer_timestamp: string (nullable = true)\n",
      "\n",
      "\n",
      "##################################\n",
      "### Valores null por columnas ###\n",
      "+---------+--------+------------+--------------------+----------------------+--------------------+-----------------------+\n",
      "|review_id|order_id|review_score|review_comment_title|review_comment_message|review_creation_date|review_answer_timestamp|\n",
      "+---------+--------+------------+--------------------+----------------------+--------------------+-----------------------+\n",
      "|        1|    2236|        2380|               92157|                 63079|                8764|                   8785|\n",
      "+---------+--------+------------+--------------------+----------------------+--------------------+-----------------------+\n",
      "\n",
      "### Elimino valores null ###\n",
      "\n",
      "##################################\n",
      "### Valores duplicados por columnas ###\n"
     ]
    },
    {
     "name": "stderr",
     "output_type": "stream",
     "text": [
      "                                                                                \r"
     ]
    },
    {
     "name": "stdout",
     "output_type": "stream",
     "text": [
      "+---------+--------+------------+--------------------+----------------------+--------------------+-----------------------+-----+\n",
      "|review_id|order_id|review_score|review_comment_title|review_comment_message|review_creation_date|review_answer_timestamp|count|\n",
      "+---------+--------+------------+--------------------+----------------------+--------------------+-----------------------+-----+\n",
      "+---------+--------+------------+--------------------+----------------------+--------------------+-----------------------+-----+\n",
      "\n"
     ]
    },
    {
     "name": "stderr",
     "output_type": "stream",
     "text": [
      "                                                                                \r"
     ]
    },
    {
     "name": "stdout",
     "output_type": "stream",
     "text": [
      "Total de registros duplicados: 0\n",
      "\n",
      "### Elimino valores duplicados ###\n",
      "\n",
      "##################################\n",
      "### Unicidad de claves primarias ###\n"
     ]
    },
    {
     "name": "stderr",
     "output_type": "stream",
     "text": [
      "                                                                                \r"
     ]
    },
    {
     "name": "stdout",
     "output_type": "stream",
     "text": [
      "+--------------------+-----+\n",
      "|           review_id|count|\n",
      "+--------------------+-----+\n",
      "|a8ffb30c74397c7cf...|    2|\n",
      "|f144ac19984746532...|    2|\n",
      "|e4f5fbbbf2fa8f259...|    2|\n",
      "|c9a406d3076559e35...|    2|\n",
      "|dd43a798c9e8baf7b...|    2|\n",
      "|9a07cb8136a1792e7...|    2|\n",
      "|dbcd301b59c7e85e6...|    2|\n",
      "|ef60daa08e71f279b...|    2|\n",
      "|4e9a141db068cf685...|    2|\n",
      "|4812973f7fb59a488...|    2|\n",
      "|9d7b240dff5539983...|    2|\n",
      "|c1dd7c6a2154caaf1...|    2|\n",
      "|bee3c76b6017ec9de...|    2|\n",
      "|77d427beb34a26b48...|    2|\n",
      "|f3544b47fdfb4bdd2...|    2|\n",
      "|59d160f8ce9217282...|    2|\n",
      "|89d6214895235bb95...|    2|\n",
      "|090aa2980b0aea78c...|    2|\n",
      "|9840563f4c2189d0a...|    2|\n",
      "|8b8f495d30fca09fd...|    2|\n",
      "+--------------------+-----+\n",
      "only showing top 20 rows\n",
      "\n",
      "\n",
      "##################################\n",
      "### Cantidad de columnas curadas y listas para usar ###\n"
     ]
    },
    {
     "name": "stderr",
     "output_type": "stream",
     "text": [
      "[Stage 537:============================>                            (1 + 1) / 2]\r"
     ]
    },
    {
     "name": "stdout",
     "output_type": "stream",
     "text": [
      "Cantidad de filas: 95377\n"
     ]
    },
    {
     "name": "stderr",
     "output_type": "stream",
     "text": [
      "                                                                                \r"
     ]
    }
   ],
   "source": [
    " cleaned_olist_order_reviews_dataset = analisis_exploratorio(raw_olist_order_reviews_dataset, [\"review_comment_title\",\"review_comment_message\"])"
   ]
  },
  {
   "cell_type": "code",
   "execution_count": 83,
   "id": "efbf49ce-8871-42fc-b8d2-ad4b5fcbd7c9",
   "metadata": {},
   "outputs": [
    {
     "data": {
      "text/plain": [
       "\"\\nDonde podemos ver:\\n\\n['review_id', 'order_id', 'review_score', 'review_comment_title', 'review_comment_message', 'review_creation_date', 'review_answer_timestamp']\\n\\nreview_id - Id de la reseña\\norder_id - ID de la orden\\nreview_score - Valor de la reseña\\nreview_comment_title - Titulo del comentario de la reseña\\nreview_comment_message - Comentario asociado a la reseña\\nreview_creation_date - Fecha de creación de la reseña\\nreview_answer_timestamp - Fecha de respuesta de la reseña\\n\\n\""
      ]
     },
     "execution_count": 83,
     "metadata": {},
     "output_type": "execute_result"
    }
   ],
   "source": [
    "\"\"\"\n",
    "Donde podemos ver:\n",
    "\n",
    "['review_id', 'order_id', 'review_score', 'review_comment_title', 'review_comment_message', 'review_creation_date', 'review_answer_timestamp']\n",
    "\n",
    "review_id - Id de la reseña\n",
    "order_id - ID de la orden\n",
    "review_score - Valor de la reseña\n",
    "review_comment_title - Titulo del comentario de la reseña\n",
    "review_comment_message - Comentario asociado a la reseña\n",
    "review_creation_date - Fecha de creación de la reseña\n",
    "review_answer_timestamp - Fecha de respuesta de la reseña\n",
    "\n",
    "\"\"\""
   ]
  },
  {
   "cell_type": "code",
   "execution_count": null,
   "id": "471b2038-9d75-44ee-a565-1e7c5db24e07",
   "metadata": {},
   "outputs": [],
   "source": []
  },
  {
   "cell_type": "markdown",
   "id": "1ae3dcd6-1650-4559-b5ea-b1a19018141b",
   "metadata": {},
   "source": [
    "Orders Dataset "
   ]
  },
  {
   "cell_type": "code",
   "execution_count": 84,
   "id": "b2b695f2-0d69-40db-850d-6f22c512205c",
   "metadata": {},
   "outputs": [
    {
     "name": "stdout",
     "output_type": "stream",
     "text": [
      "### Vista inicial de los datos ###\n",
      "+--------------------+--------------------+------------+------------------------+-------------------+----------------------------+-----------------------------+-----------------------------+\n",
      "|            order_id|         customer_id|order_status|order_purchase_timestamp|  order_approved_at|order_delivered_carrier_date|order_delivered_customer_date|order_estimated_delivery_date|\n",
      "+--------------------+--------------------+------------+------------------------+-------------------+----------------------------+-----------------------------+-----------------------------+\n",
      "|e481f51cbdc54678b...|9ef432eb625129730...|   delivered|     2017-10-02 10:56:33|2017-10-02 11:07:15|         2017-10-04 19:55:00|          2017-10-10 21:25:13|          2017-10-18 00:00:00|\n",
      "|53cdb2fc8bc7dce0b...|b0830fb4747a6c6d2...|   delivered|     2018-07-24 20:41:37|2018-07-26 03:24:27|         2018-07-26 14:31:00|          2018-08-07 15:27:45|          2018-08-13 00:00:00|\n",
      "|47770eb9100c2d0c4...|41ce2a54c0b03bf34...|   delivered|     2018-08-08 08:38:49|2018-08-08 08:55:23|         2018-08-08 13:50:00|          2018-08-17 18:06:29|          2018-09-04 00:00:00|\n",
      "|949d5b44dbf5de918...|f88197465ea7920ad...|   delivered|     2017-11-18 19:28:06|2017-11-18 19:45:59|         2017-11-22 13:39:59|          2017-12-02 00:28:42|          2017-12-15 00:00:00|\n",
      "|ad21c59c0840e6cb8...|8ab97904e6daea886...|   delivered|     2018-02-13 21:18:39|2018-02-13 22:20:29|         2018-02-14 19:46:34|          2018-02-16 18:17:02|          2018-02-26 00:00:00|\n",
      "|a4591c265e18cb1dc...|503740e9ca751ccdd...|   delivered|     2017-07-09 21:57:05|2017-07-09 22:10:13|         2017-07-11 14:58:04|          2017-07-26 10:57:55|          2017-08-01 00:00:00|\n",
      "|136cce7faa42fdb2c...|ed0271e0b7da060a3...|    invoiced|     2017-04-11 12:22:08|2017-04-13 13:25:17|                        null|                         null|          2017-05-09 00:00:00|\n",
      "|6514b8ad8028c9f2c...|9bdf08b4b3b52b552...|   delivered|     2017-05-16 13:10:30|2017-05-16 13:22:11|         2017-05-22 10:07:46|          2017-05-26 12:55:51|          2017-06-07 00:00:00|\n",
      "|76c6e866289321a7c...|f54a9f0e6b351c431...|   delivered|     2017-01-23 18:29:09|2017-01-25 02:50:47|         2017-01-26 14:16:31|          2017-02-02 14:08:10|          2017-03-06 00:00:00|\n",
      "|e69bfb5eb88e0ed6a...|31ad1d1b63eb99624...|   delivered|     2017-07-29 11:55:02|2017-07-29 12:05:32|         2017-08-10 19:45:24|          2017-08-16 17:14:30|          2017-08-23 00:00:00|\n",
      "+--------------------+--------------------+------------+------------------------+-------------------+----------------------------+-----------------------------+-----------------------------+\n",
      "only showing top 10 rows\n",
      "\n",
      "\n",
      "##################################\n",
      "Nombres de las columnas: ['order_id', 'customer_id', 'order_status', 'order_purchase_timestamp', 'order_approved_at', 'order_delivered_carrier_date', 'order_delivered_customer_date', 'order_estimated_delivery_date']\n",
      "Cantidad de columnas: 8\n",
      "Cantidad de filas: 99441\n",
      "\n",
      "##################################\n",
      "### Schema ###\n",
      "root\n",
      " |-- order_id: string (nullable = true)\n",
      " |-- customer_id: string (nullable = true)\n",
      " |-- order_status: string (nullable = true)\n",
      " |-- order_purchase_timestamp: timestamp (nullable = true)\n",
      " |-- order_approved_at: timestamp (nullable = true)\n",
      " |-- order_delivered_carrier_date: timestamp (nullable = true)\n",
      " |-- order_delivered_customer_date: timestamp (nullable = true)\n",
      " |-- order_estimated_delivery_date: timestamp (nullable = true)\n",
      "\n",
      "\n",
      "##################################\n",
      "### Valores null por columnas ###\n",
      "+--------+-----------+------------+------------------------+-----------------+----------------------------+-----------------------------+-----------------------------+\n",
      "|order_id|customer_id|order_status|order_purchase_timestamp|order_approved_at|order_delivered_carrier_date|order_delivered_customer_date|order_estimated_delivery_date|\n",
      "+--------+-----------+------------+------------------------+-----------------+----------------------------+-----------------------------+-----------------------------+\n",
      "|       0|          0|           0|                       0|              160|                        1783|                         2965|                            0|\n",
      "+--------+-----------+------------+------------------------+-----------------+----------------------------+-----------------------------+-----------------------------+\n",
      "\n",
      "### Elimino valores null ###\n",
      "\n",
      "##################################\n",
      "### Valores duplicados por columnas ###\n"
     ]
    },
    {
     "name": "stderr",
     "output_type": "stream",
     "text": [
      "                                                                                \r"
     ]
    },
    {
     "name": "stdout",
     "output_type": "stream",
     "text": [
      "+--------+-----------+------------+------------------------+-----------------+----------------------------+-----------------------------+-----------------------------+-----+\n",
      "|order_id|customer_id|order_status|order_purchase_timestamp|order_approved_at|order_delivered_carrier_date|order_delivered_customer_date|order_estimated_delivery_date|count|\n",
      "+--------+-----------+------------+------------------------+-----------------+----------------------------+-----------------------------+-----------------------------+-----+\n",
      "+--------+-----------+------------+------------------------+-----------------+----------------------------+-----------------------------+-----------------------------+-----+\n",
      "\n"
     ]
    },
    {
     "name": "stderr",
     "output_type": "stream",
     "text": [
      "                                                                                \r"
     ]
    },
    {
     "name": "stdout",
     "output_type": "stream",
     "text": [
      "Total de registros duplicados: 0\n",
      "\n",
      "### Elimino valores duplicados ###\n",
      "\n",
      "##################################\n",
      "### Unicidad de claves primarias ###\n"
     ]
    },
    {
     "name": "stderr",
     "output_type": "stream",
     "text": [
      "                                                                                \r"
     ]
    },
    {
     "name": "stdout",
     "output_type": "stream",
     "text": [
      "+--------+-----+\n",
      "|order_id|count|\n",
      "+--------+-----+\n",
      "+--------+-----+\n",
      "\n",
      "\n",
      "##################################\n",
      "### Cantidad de columnas curadas y listas para usar ###\n"
     ]
    },
    {
     "name": "stderr",
     "output_type": "stream",
     "text": [
      "[Stage 570:>                                                        (0 + 2) / 2]\r"
     ]
    },
    {
     "name": "stdout",
     "output_type": "stream",
     "text": [
      "Cantidad de filas: 96461\n"
     ]
    },
    {
     "name": "stderr",
     "output_type": "stream",
     "text": [
      "                                                                                \r"
     ]
    }
   ],
   "source": [
    " cleaned_olist_orders_dataset = analisis_exploratorio(raw_olist_orders_dataset)"
   ]
  },
  {
   "cell_type": "code",
   "execution_count": 85,
   "id": "a5b97938-9faa-4f4d-adbe-b341218c0618",
   "metadata": {},
   "outputs": [
    {
     "data": {
      "text/plain": [
       "'\\nDonde podemos ver:\\n\\norder_id - Id de la orden\\ncustomer_id - ID del cliente\\norder_status - Estado de orden\\norder_purchase_timestamp - Fecha que ocurrió la orden de compra\\norder_approved_at - Fecha de aprovación de la orden\\norder_delivered_carrier_date - Fecha de currier para entrega\\norder_delivered_customer_date - Fecha de entrega de la orden al cliente\\norder_estimated_delivery_date - Fecha de entrega estimada al cliente\\n'"
      ]
     },
     "execution_count": 85,
     "metadata": {},
     "output_type": "execute_result"
    }
   ],
   "source": [
    "\"\"\"\n",
    "Donde podemos ver:\n",
    "\n",
    "order_id - Id de la orden\n",
    "customer_id - ID del cliente\n",
    "order_status - Estado de orden\n",
    "order_purchase_timestamp - Fecha que ocurrió la orden de compra\n",
    "order_approved_at - Fecha de aprovación de la orden\n",
    "order_delivered_carrier_date - Fecha de currier para entrega\n",
    "order_delivered_customer_date - Fecha de entrega de la orden al cliente\n",
    "order_estimated_delivery_date - Fecha de entrega estimada al cliente\n",
    "\"\"\" "
   ]
  },
  {
   "cell_type": "markdown",
   "id": "cdb958cb-96a6-424d-bf7f-7f2a2ac36285",
   "metadata": {},
   "source": [
    "Olist Products Dataset"
   ]
  },
  {
   "cell_type": "code",
   "execution_count": 86,
   "id": "0a9c7e33-7fb8-4f3b-8f44-843fe3f4bb7a",
   "metadata": {},
   "outputs": [
    {
     "name": "stdout",
     "output_type": "stream",
     "text": [
      "### Vista inicial de los datos ###\n",
      "+--------------------+---------------------+-------------------+--------------------------+------------------+----------------+-----------------+-----------------+----------------+\n",
      "|          product_id|product_category_name|product_name_lenght|product_description_lenght|product_photos_qty|product_weight_g|product_length_cm|product_height_cm|product_width_cm|\n",
      "+--------------------+---------------------+-------------------+--------------------------+------------------+----------------+-----------------+-----------------+----------------+\n",
      "|1e9e8ef04dbcff454...|           perfumaria|                 40|                       287|                 1|             225|               16|               10|              14|\n",
      "|3aa071139cb16b67c...|                artes|                 44|                       276|                 1|            1000|               30|               18|              20|\n",
      "|96bd76ec8810374ed...|        esporte_lazer|                 46|                       250|                 1|             154|               18|                9|              15|\n",
      "|cef67bcfe19066a93...|                bebes|                 27|                       261|                 1|             371|               26|                4|              26|\n",
      "|9dc1a7de274444849...| utilidades_domest...|                 37|                       402|                 4|             625|               20|               17|              13|\n",
      "|41d3672d4792049fa...| instrumentos_musi...|                 60|                       745|                 1|             200|               38|                5|              11|\n",
      "|732bd381ad09e530f...|           cool_stuff|                 56|                      1272|                 4|           18350|               70|               24|              44|\n",
      "|2548af3e6e77a690c...|     moveis_decoracao|                 56|                       184|                 2|             900|               40|                8|              40|\n",
      "|37cc742be07708b53...|     eletrodomesticos|                 57|                       163|                 1|             400|               27|               13|              17|\n",
      "|8c92109888e8cdf9d...|           brinquedos|                 36|                      1156|                 1|             600|               17|               10|              12|\n",
      "+--------------------+---------------------+-------------------+--------------------------+------------------+----------------+-----------------+-----------------+----------------+\n",
      "only showing top 10 rows\n",
      "\n",
      "\n",
      "##################################\n",
      "Nombres de las columnas: ['product_id', 'product_category_name', 'product_name_lenght', 'product_description_lenght', 'product_photos_qty', 'product_weight_g', 'product_length_cm', 'product_height_cm', 'product_width_cm']\n",
      "Cantidad de columnas: 9\n",
      "Cantidad de filas: 32951\n",
      "\n",
      "##################################\n",
      "### Schema ###\n",
      "root\n",
      " |-- product_id: string (nullable = true)\n",
      " |-- product_category_name: string (nullable = true)\n",
      " |-- product_name_lenght: integer (nullable = true)\n",
      " |-- product_description_lenght: integer (nullable = true)\n",
      " |-- product_photos_qty: integer (nullable = true)\n",
      " |-- product_weight_g: integer (nullable = true)\n",
      " |-- product_length_cm: integer (nullable = true)\n",
      " |-- product_height_cm: integer (nullable = true)\n",
      " |-- product_width_cm: integer (nullable = true)\n",
      "\n",
      "\n",
      "##################################\n",
      "### Valores null por columnas ###\n",
      "+----------+---------------------+-------------------+--------------------------+------------------+----------------+-----------------+-----------------+----------------+\n",
      "|product_id|product_category_name|product_name_lenght|product_description_lenght|product_photos_qty|product_weight_g|product_length_cm|product_height_cm|product_width_cm|\n",
      "+----------+---------------------+-------------------+--------------------------+------------------+----------------+-----------------+-----------------+----------------+\n",
      "|         0|                  610|                610|                       610|               610|               2|                2|                2|               2|\n",
      "+----------+---------------------+-------------------+--------------------------+------------------+----------------+-----------------+-----------------+----------------+\n",
      "\n",
      "### Elimino valores null ###\n",
      "\n",
      "##################################\n",
      "### Valores duplicados por columnas ###\n",
      "+----------+---------------------+-------------------+--------------------------+------------------+----------------+-----------------+-----------------+----------------+-----+\n",
      "|product_id|product_category_name|product_name_lenght|product_description_lenght|product_photos_qty|product_weight_g|product_length_cm|product_height_cm|product_width_cm|count|\n",
      "+----------+---------------------+-------------------+--------------------------+------------------+----------------+-----------------+-----------------+----------------+-----+\n",
      "+----------+---------------------+-------------------+--------------------------+------------------+----------------+-----------------+-----------------+----------------+-----+\n",
      "\n",
      "Total de registros duplicados: 0\n",
      "\n",
      "### Elimino valores duplicados ###\n",
      "\n",
      "##################################\n",
      "### Unicidad de claves primarias ###\n",
      "+----------+-----+\n",
      "|product_id|count|\n",
      "+----------+-----+\n",
      "+----------+-----+\n",
      "\n",
      "\n",
      "##################################\n",
      "### Cantidad de columnas curadas y listas para usar ###\n",
      "Cantidad de filas: 32340\n"
     ]
    }
   ],
   "source": [
    "  cleaned_olist_products_dataset = analisis_exploratorio(raw_olist_products_dataset)"
   ]
  },
  {
   "cell_type": "code",
   "execution_count": 87,
   "id": "8b82d04b-f6d9-431d-b31e-0956a57bd63b",
   "metadata": {},
   "outputs": [
    {
     "data": {
      "text/plain": [
       "'\\nDonde podemos ver:\\n\\nproduct_id - ID del producto\\nproduct_category_name - Categoria del producto\\nproduct_name_lenght - Largo del nombre del producto\\nproduct_description_lenght - Descripción del producto\\nproduct_photos_qty - Cantidad de fotos\\nproduct_weight_g - Dimension del producto - gramos\\nproduct_length_cm - Dimension del producto largo - cm\\nproduct_height_cm - Dimension del producto altura- cm\\nproduct_width_cm - Dimension del producto produndidad- cm\\n\\n'"
      ]
     },
     "execution_count": 87,
     "metadata": {},
     "output_type": "execute_result"
    }
   ],
   "source": [
    "\"\"\"\n",
    "Donde podemos ver:\n",
    "\n",
    "product_id - ID del producto\n",
    "product_category_name - Categoria del producto\n",
    "product_name_lenght - Largo del nombre del producto\n",
    "product_description_lenght - Descripción del producto\n",
    "product_photos_qty - Cantidad de fotos\n",
    "product_weight_g - Dimension del producto - gramos\n",
    "product_length_cm - Dimension del producto largo - cm\n",
    "product_height_cm - Dimension del producto altura- cm\n",
    "product_width_cm - Dimension del producto produndidad- cm\n",
    "\n",
    "\"\"\""
   ]
  },
  {
   "cell_type": "markdown",
   "id": "54b954c5-5b67-4099-aa1f-71af45f0a093",
   "metadata": {},
   "source": [
    "Sellers Dataset"
   ]
  },
  {
   "cell_type": "code",
   "execution_count": 88,
   "id": "4ab383ed-fa8e-4cfa-8fe8-87a6892d5149",
   "metadata": {},
   "outputs": [
    {
     "name": "stdout",
     "output_type": "stream",
     "text": [
      "### Vista inicial de los datos ###\n",
      "+--------------------+----------------------+-----------------+------------+\n",
      "|           seller_id|seller_zip_code_prefix|      seller_city|seller_state|\n",
      "+--------------------+----------------------+-----------------+------------+\n",
      "|3442f8959a84dea7e...|                 13023|         campinas|          SP|\n",
      "|d1b65fc7debc3361e...|                 13844|       mogi guacu|          SP|\n",
      "|ce3ad9de960102d06...|                 20031|   rio de janeiro|          RJ|\n",
      "|c0f3eea2e14555b6f...|                  4195|        sao paulo|          SP|\n",
      "|51a04a8a6bdcb23de...|                 12914|braganca paulista|          SP|\n",
      "|c240c4061717ac180...|                 20920|   rio de janeiro|          RJ|\n",
      "|e49c26c3edfa46d22...|                 55325|           brejao|          PE|\n",
      "|1b938a7ec6ac5061a...|                 16304|        penapolis|          SP|\n",
      "|768a86e36ad6aae3d...|                  1529|        sao paulo|          SP|\n",
      "|ccc4bbb5f32a6ab2b...|                 80310|         curitiba|          PR|\n",
      "+--------------------+----------------------+-----------------+------------+\n",
      "only showing top 10 rows\n",
      "\n",
      "\n",
      "##################################\n",
      "Nombres de las columnas: ['seller_id', 'seller_zip_code_prefix', 'seller_city', 'seller_state']\n",
      "Cantidad de columnas: 4\n",
      "Cantidad de filas: 3095\n",
      "\n",
      "##################################\n",
      "### Schema ###\n",
      "root\n",
      " |-- seller_id: string (nullable = true)\n",
      " |-- seller_zip_code_prefix: integer (nullable = true)\n",
      " |-- seller_city: string (nullable = true)\n",
      " |-- seller_state: string (nullable = true)\n",
      "\n",
      "\n",
      "##################################\n",
      "### Valores null por columnas ###\n",
      "+---------+----------------------+-----------+------------+\n",
      "|seller_id|seller_zip_code_prefix|seller_city|seller_state|\n",
      "+---------+----------------------+-----------+------------+\n",
      "|        0|                     0|          0|           0|\n",
      "+---------+----------------------+-----------+------------+\n",
      "\n",
      "### Elimino valores null ###\n",
      "\n",
      "##################################\n",
      "### Valores duplicados por columnas ###\n",
      "+---------+----------------------+-----------+------------+-----+\n",
      "|seller_id|seller_zip_code_prefix|seller_city|seller_state|count|\n",
      "+---------+----------------------+-----------+------------+-----+\n",
      "+---------+----------------------+-----------+------------+-----+\n",
      "\n",
      "Total de registros duplicados: 0\n",
      "\n",
      "### Elimino valores duplicados ###\n",
      "\n",
      "##################################\n",
      "### Unicidad de claves primarias ###\n",
      "+---------+-----+\n",
      "|seller_id|count|\n",
      "+---------+-----+\n",
      "+---------+-----+\n",
      "\n",
      "\n",
      "##################################\n",
      "### Cantidad de columnas curadas y listas para usar ###\n",
      "Cantidad de filas: 3095\n"
     ]
    }
   ],
   "source": [
    "cleaned_olist_sellers_dataset = analisis_exploratorio(raw_olist_sellers_dataset)"
   ]
  },
  {
   "cell_type": "code",
   "execution_count": null,
   "id": "32f8658f-de90-4253-a635-a8a6de08a06a",
   "metadata": {},
   "outputs": [],
   "source": [
    "\"\"\"\n",
    "Donde podemos ver:\n",
    "\n",
    "seller_id - ID del vendedor\n",
    "seller_zip_code_prefix - Codigo postal del vendedor\n",
    "seller_city - Ciudad del vendedor\n",
    "seller_state - Estado del vendedor\n",
    "\"\"\""
   ]
  },
  {
   "cell_type": "code",
   "execution_count": null,
   "id": "f8f5067e-c949-402e-8303-d89046cd71e4",
   "metadata": {},
   "outputs": [],
   "source": [
    "Products Category Name Traslation"
   ]
  },
  {
   "cell_type": "code",
   "execution_count": 89,
   "id": "2951610b-4e0d-4709-981f-357715d63f3a",
   "metadata": {},
   "outputs": [
    {
     "name": "stdout",
     "output_type": "stream",
     "text": [
      "### Vista inicial de los datos ###\n",
      "+---------------------+-----------------------------+\n",
      "|product_category_name|product_category_name_english|\n",
      "+---------------------+-----------------------------+\n",
      "|         beleza_saude|                health_beauty|\n",
      "| informatica_acess...|         computers_accesso...|\n",
      "|           automotivo|                         auto|\n",
      "|      cama_mesa_banho|               bed_bath_table|\n",
      "|     moveis_decoracao|              furniture_decor|\n",
      "|        esporte_lazer|               sports_leisure|\n",
      "|           perfumaria|                    perfumery|\n",
      "| utilidades_domest...|                   housewares|\n",
      "|            telefonia|                    telephony|\n",
      "|   relogios_presentes|                watches_gifts|\n",
      "+---------------------+-----------------------------+\n",
      "only showing top 10 rows\n",
      "\n",
      "\n",
      "##################################\n",
      "Nombres de las columnas: ['product_category_name', 'product_category_name_english']\n",
      "Cantidad de columnas: 2\n",
      "Cantidad de filas: 71\n",
      "\n",
      "##################################\n",
      "### Schema ###\n",
      "root\n",
      " |-- product_category_name: string (nullable = true)\n",
      " |-- product_category_name_english: string (nullable = true)\n",
      "\n",
      "\n",
      "##################################\n",
      "### Valores null por columnas ###\n",
      "+---------------------+-----------------------------+\n",
      "|product_category_name|product_category_name_english|\n",
      "+---------------------+-----------------------------+\n",
      "|                    0|                            0|\n",
      "+---------------------+-----------------------------+\n",
      "\n",
      "### Elimino valores null ###\n",
      "\n",
      "##################################\n",
      "### Valores duplicados por columnas ###\n",
      "+---------------------+-----------------------------+-----+\n",
      "|product_category_name|product_category_name_english|count|\n",
      "+---------------------+-----------------------------+-----+\n",
      "+---------------------+-----------------------------+-----+\n",
      "\n",
      "Total de registros duplicados: 0\n",
      "\n",
      "### Elimino valores duplicados ###\n",
      "\n",
      "##################################\n",
      "### Unicidad de claves primarias ###\n",
      "+---------------------+-----+\n",
      "|product_category_name|count|\n",
      "+---------------------+-----+\n",
      "+---------------------+-----+\n",
      "\n",
      "\n",
      "##################################\n",
      "### Cantidad de columnas curadas y listas para usar ###\n",
      "Cantidad de filas: 71\n"
     ]
    }
   ],
   "source": [
    " cleaned_product_category_name_translation = analisis_exploratorio(raw_product_category_name_translation)"
   ]
  },
  {
   "cell_type": "code",
   "execution_count": 90,
   "id": "4c8db6ad-92ac-4df2-b3e2-ae0f9c9d60f8",
   "metadata": {},
   "outputs": [
    {
     "data": {
      "text/plain": [
       "'\\nDonde podemos ver:\\n\\nproduct_category_name - Categoria del producto\\nproduct_category_name_english - Categoria del producto en ingles\\n\\n'"
      ]
     },
     "execution_count": 90,
     "metadata": {},
     "output_type": "execute_result"
    }
   ],
   "source": [
    "\"\"\"\n",
    "Donde podemos ver:\n",
    "\n",
    "product_category_name - Categoria del producto\n",
    "product_category_name_english - Categoria del producto en ingles\n",
    "\n",
    "\"\"\""
   ]
  },
  {
   "cell_type": "code",
   "execution_count": null,
   "id": "609607ee-0b9d-4e9d-87ff-c6742f9886d7",
   "metadata": {},
   "outputs": [],
   "source": []
  },
  {
   "cell_type": "markdown",
   "id": "51aaf7bc-2c94-4d18-8a04-f1fb143fc735",
   "metadata": {},
   "source": [
    "Escribir resultados en HDSF"
   ]
  },
  {
   "cell_type": "code",
   "execution_count": 99,
   "id": "67951ec3-609f-4c6c-94ca-a4d9a6445163",
   "metadata": {},
   "outputs": [],
   "source": [
    "directory_results = \"obligatorio/data/cleaned\""
   ]
  },
  {
   "cell_type": "code",
   "execution_count": 100,
   "id": "08045610-55e7-4126-9a31-e998d8d6cc4d",
   "metadata": {},
   "outputs": [
    {
     "data": {
      "text/plain": [
       "'hdfs://localhost:9000/obligatorio/data/cleaned/'"
      ]
     },
     "execution_count": 100,
     "metadata": {},
     "output_type": "execute_result"
    }
   ],
   "source": [
    "_path = f\"hdfs://localhost:9000/{directory_results}/\"\n",
    "_path"
   ]
  },
  {
   "cell_type": "code",
   "execution_count": 101,
   "id": "85a08919-7a63-4e56-adb3-ff6bcc925f2f",
   "metadata": {},
   "outputs": [
    {
     "name": "stderr",
     "output_type": "stream",
     "text": [
      "                                                                                \r"
     ]
    }
   ],
   "source": [
    "cleaned_olist_customers_dataset.write.csv(_path+\"/cleaned_olist_customers_dataset.csv\", header=True, mode=\"overwrite\")"
   ]
  },
  {
   "cell_type": "code",
   "execution_count": 102,
   "id": "9ad8f95d-af11-42c8-89a6-25e9e60120f6",
   "metadata": {},
   "outputs": [
    {
     "name": "stderr",
     "output_type": "stream",
     "text": [
      "                                                                                \r"
     ]
    }
   ],
   "source": [
    "cleaned_olist_geolocation_dataset.write.csv(_path+\"/cleaned_olist_geolocation_dataset.csv\", header=True, mode=\"overwrite\")"
   ]
  },
  {
   "cell_type": "code",
   "execution_count": 103,
   "id": "8cf35168-9b4a-4bfb-b6f3-0e6a6b7b764e",
   "metadata": {},
   "outputs": [
    {
     "name": "stderr",
     "output_type": "stream",
     "text": [
      "                                                                                \r"
     ]
    }
   ],
   "source": [
    "cleaned_olist_order_items_dataset.write.csv(_path+\"/cleaned_olist_order_items_dataset.csv\", header=True, mode=\"overwrite\")"
   ]
  },
  {
   "cell_type": "code",
   "execution_count": 104,
   "id": "b1a694fd-f81e-4c18-b934-01ce730f699c",
   "metadata": {},
   "outputs": [
    {
     "name": "stderr",
     "output_type": "stream",
     "text": [
      "                                                                                \r"
     ]
    }
   ],
   "source": [
    "cleaned_olist_order_payments_dataset.write.csv(_path+\"/cleaned_olist_order_payments_dataset.csv\", header=True, mode=\"overwrite\")"
   ]
  },
  {
   "cell_type": "code",
   "execution_count": 105,
   "id": "07a720b1-261e-4d6d-8a42-5cab6a184d1e",
   "metadata": {},
   "outputs": [
    {
     "name": "stderr",
     "output_type": "stream",
     "text": [
      "                                                                                \r"
     ]
    }
   ],
   "source": [
    "cleaned_olist_order_reviews_dataset.write.csv(_path+\"/cleaned_olist_order_reviews_dataset.csv\", header=True, mode=\"overwrite\")"
   ]
  },
  {
   "cell_type": "code",
   "execution_count": 106,
   "id": "ad874d01-1430-4744-a837-15f0a1075e36",
   "metadata": {},
   "outputs": [
    {
     "name": "stderr",
     "output_type": "stream",
     "text": [
      "                                                                                \r"
     ]
    }
   ],
   "source": [
    "cleaned_olist_orders_dataset.write.csv(_path+\"/cleaned_olist_orders_dataset.csv\", header=True, mode=\"overwrite\")"
   ]
  },
  {
   "cell_type": "code",
   "execution_count": 107,
   "id": "5b0d16a0-e6ee-4a17-8e09-e06e6fce6242",
   "metadata": {},
   "outputs": [
    {
     "name": "stderr",
     "output_type": "stream",
     "text": [
      "                                                                                \r"
     ]
    }
   ],
   "source": [
    "cleaned_olist_products_dataset.write.csv(_path+\"/cleaned_olist_products_dataset.csv\", header=True, mode=\"overwrite\")"
   ]
  },
  {
   "cell_type": "code",
   "execution_count": 108,
   "id": "d349104a-b304-4784-955c-0f1ef5f6a908",
   "metadata": {},
   "outputs": [],
   "source": [
    "cleaned_olist_sellers_dataset.write.csv(_path+\"/olist_sellers_dataset.csv\", header=True, mode=\"overwrite\")"
   ]
  },
  {
   "cell_type": "code",
   "execution_count": 110,
   "id": "b2a5c29f-5596-4306-911e-b681ada71330",
   "metadata": {},
   "outputs": [],
   "source": [
    "cleaned_product_category_name_translation.write.csv(_path+\"/cleaned_product_category_name_translation.csv\", header=True, mode=\"overwrite\")"
   ]
  },
  {
   "cell_type": "code",
   "execution_count": null,
   "id": "6ce5b5c8-e80e-48f1-aeef-2e0ccfd6a50f",
   "metadata": {},
   "outputs": [],
   "source": []
  }
 ],
 "metadata": {
  "kernelspec": {
   "display_name": "Python 3 (ipykernel)",
   "language": "python",
   "name": "python3"
  },
  "language_info": {
   "codemirror_mode": {
    "name": "ipython",
    "version": 3
   },
   "file_extension": ".py",
   "mimetype": "text/x-python",
   "name": "python",
   "nbconvert_exporter": "python",
   "pygments_lexer": "ipython3",
   "version": "3.8.8"
  }
 },
 "nbformat": 4,
 "nbformat_minor": 5
}
