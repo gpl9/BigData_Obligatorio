{
 "cells": [
  {
   "cell_type": "code",
   "execution_count": 1,
   "id": "cee1f910-a640-4811-ab77-fdbdcb39c985",
   "metadata": {},
   "outputs": [
    {
     "name": "stderr",
     "output_type": "stream",
     "text": [
      "Setting default log level to \"WARN\".\n",
      "To adjust logging level use sc.setLogLevel(newLevel). For SparkR, use setLogLevel(newLevel).\n"
     ]
    },
    {
     "name": "stdout",
     "output_type": "stream",
     "text": [
      "2024-11-25T23:50:09,938 WARN [Thread-4] org.apache.hadoop.util.NativeCodeLoader - Unable to load native-hadoop library for your platform... using builtin-java classes where applicable\n"
     ]
    }
   ],
   "source": [
    "import pyspark\n",
    "from pyspark.sql.functions import *\n",
    "sc = pyspark.SparkContext('local[*]')"
   ]
  },
  {
   "cell_type": "code",
   "execution_count": 2,
   "id": "e0bd032d-959f-4e21-849f-6b97197d0539",
   "metadata": {},
   "outputs": [],
   "source": [
    "from pyspark.sql.functions import *"
   ]
  },
  {
   "cell_type": "code",
   "execution_count": 3,
   "id": "fd439ca8-6a5d-46aa-8de5-eaddf08a05c7",
   "metadata": {},
   "outputs": [],
   "source": [
    "# import findspark\n",
    "# findspark.init()\n",
    "import pyspark\n",
    "from pyspark.sql import SparkSession\n",
    "spark = SparkSession.builder.getOrCreate()"
   ]
  },
  {
   "cell_type": "code",
   "execution_count": 4,
   "id": "0aa2720c-6945-4b8f-a87e-cbbbca70cd58",
   "metadata": {},
   "outputs": [
    {
     "name": "stderr",
     "output_type": "stream",
     "text": [
      "                                                                                \r"
     ]
    }
   ],
   "source": [
    "# 1\n",
    "cleaned_olist_customers_dataset = spark.read.csv(\"/obligatorio/data/cleaned/cleaned_olist_customers_dataset.csv\", header=True, inferSchema=True)\n",
    "# 2\n",
    "cleaned_olist_geolocation_dataset = spark.read.csv(\"/obligatorio/data/cleaned/cleaned_olist_geolocation_dataset.csv\", header=True, inferSchema=True)\n",
    "# 3\n",
    "cleaned_olist_order_items_dataset = spark.read.csv(\"/obligatorio/data/cleaned/cleaned_olist_order_items_dataset.csv\", header=True, inferSchema=True)\n",
    "# 4\n",
    "cleaned_olist_order_payments_dataset = spark.read.csv(\"/obligatorio/data/cleaned/cleaned_olist_order_payments_dataset.csv\", header=True, inferSchema=True)\n",
    "# 5\n",
    "cleaned_olist_order_reviews_dataset = spark.read.csv(\"/obligatorio/data/cleaned/cleaned_olist_order_reviews_dataset.csv\", header=True, inferSchema=True)\n",
    "# 6\n",
    "cleaned_olist_orders_dataset = spark.read.csv(\"/obligatorio/data/cleaned/cleaned_olist_orders_dataset.csv\", header=True, inferSchema=True)\n",
    "# 7\n",
    "cleaned_olist_products_dataset = spark.read.csv(\"/obligatorio/data/cleaned/cleaned_olist_products_dataset.csv\", header=True, inferSchema=True)\n",
    "# 8\n",
    "cleaned_olist_sellers_dataset = spark.read.csv(\"/obligatorio/data/cleaned/olist_sellers_dataset.csv\", header=True, inferSchema=True)\n",
    "# 9\n",
    "cleaned_product_category_name_translation_dataset = spark.read.csv(\"/obligatorio/data/cleaned/cleaned_product_category_name_translation.csv\", header=True, inferSchema=True)"
   ]
  },
  {
   "cell_type": "code",
   "execution_count": 5,
   "id": "1f6fff63-9ada-42b0-b577-772f8a1d4f02",
   "metadata": {},
   "outputs": [],
   "source": [
    "cleaned_olist_customers_dataset = spark.read.csv(\"/obligatorio/data/cleaned/cleaned_olist_customers_dataset.csv\", header=True, inferSchema=True)"
   ]
  },
  {
   "cell_type": "markdown",
   "id": "85deee77-0f92-4434-8a84-e1d51f48d023",
   "metadata": {},
   "source": [
    "Es también conocido como diagrama estrella o diagrama de copo de nieve. Tenemos dos tipos de tablas, las de hechos, y las de dimensiones.\n",
    "\n",
    "- Tablas de hechos: Contienen las medidas o los valores numéricos que se quieren analizar. Por lo general, los datos numéricos son agregados y analizados en diferentes niveles de granularidad, como por ejemplo, por día, semana, mes o trimestre. Estas tablas suelen tener muchas filas y relativamente pocas columnas, con cada fila representando una transacción u otra actividad registrada en el sistema.\n",
    "\n",
    "- Tablas de dimensiones: Contienen información descriptiva que se utiliza para filtrar o segmentar los datos de la tabla de hechos. Estas tablas contienen atributos que describen las características de las transacciones, como la fecha, el lugar, el producto, el cliente, entre otros. Las tablas de dimensiones suelen tener menos filas y más columnas que las tablas de hechos.\n",
    "\n",
    "Las tablas de hechos y las tablas de dimensiones están relacionadas entre sí a través de claves. Cada fila de la tabla de hechos se relaciona con una o más filas de la tabla de dimensiones a través de claves. Esta relación permite combinar los datos de las tablas de hechos y de dimensiones para realizar análisis detallados.\n",
    "\n",
    "Damos forma a un esquema de estrella. Nuestras tablas de hechos van a ser el libro que es prestado y la ubicación del Libro. Nuestras dimensiones van a ser una de libros, una de librerías, otra de quienes piden prestados los libros y otra de publicadores.\n",
    "\n",
    "Usamos claves surrogadas porque no tenemos control sobre los identificadores primarios de la fuente original. Así nos protegemos ante eventuales cambios.\n",
    "\n",
    "Las tablas de dimensiones están hechas de tipo 1. Si queremos pasar a tipo 2 debemos agregar una columna flag que indique que estado de la fila es, o usar columnas con fechas para guardar el período de tiempo en el que estuvo el registro en ese estado, antes de pasar al siguiente."
   ]
  },
  {
   "cell_type": "markdown",
   "id": "e8df1e26-db19-4792-bb4d-88c1033cee1d",
   "metadata": {},
   "source": [
    "Preguntas:"
   ]
  },
  {
   "cell_type": "markdown",
   "id": "3baded08-01c8-4fb3-9a2c-169484ec6d3d",
   "metadata": {},
   "source": [
    "- ¿Conjunto de productos que más se venden juntos?\n",
    "- Top 5 productos más vendidos por ciudad.\n",
    "- ¿Qué días del mes se vende más?\n",
    "- ¿Qué proporción de pedidos recibe cada calificación en las reseñas (de 1 a 5)? \n",
    "- ¿Cuál es el tiempo promedio entre la aprobación de un pedido y la entrega al cliente?"
   ]
  },
  {
   "cell_type": "code",
   "execution_count": 6,
   "id": "6e3d1787-e42b-4326-85c6-949769abc33c",
   "metadata": {},
   "outputs": [],
   "source": [
    "########################################################################################################################################"
   ]
  },
  {
   "cell_type": "markdown",
   "id": "3464af43-a5b2-49ce-afad-374729ddf041",
   "metadata": {},
   "source": [
    "Database Schema"
   ]
  },
  {
   "cell_type": "code",
   "execution_count": 7,
   "id": "68f6c62b-67af-4007-b238-234cef45c156",
   "metadata": {},
   "outputs": [],
   "source": [
    "# Geolocalización"
   ]
  },
  {
   "cell_type": "code",
   "execution_count": 8,
   "id": "7299727c-0b80-4936-93f6-7b8e884076d7",
   "metadata": {},
   "outputs": [
    {
     "name": "stdout",
     "output_type": "stream",
     "text": [
      "root\n",
      " |-- geolocation_zip_code_prefix: integer (nullable = true)\n",
      " |-- geolocation_lat: double (nullable = true)\n",
      " |-- geolocation_lng: double (nullable = true)\n",
      " |-- geolocation_city: string (nullable = true)\n",
      " |-- geolocation_state: string (nullable = true)\n",
      "\n"
     ]
    }
   ],
   "source": [
    "cleaned_olist_geolocation_dataset.printSchema()"
   ]
  },
  {
   "cell_type": "code",
   "execution_count": 9,
   "id": "3fee6a32-4796-4c88-80bd-ac0dcddaefce",
   "metadata": {},
   "outputs": [],
   "source": [
    "dim_geolocation = cleaned_olist_geolocation_dataset.select(\n",
    "    col(\"geolocation_zip_code_prefix\").alias(\"zip_code_prefix\"),\n",
    "    col(\"geolocation_city\").alias(\"city\"),\n",
    "    col(\"geolocation_state\").alias(\"state\"),\n",
    "    col(\"geolocation_lat\").alias(\"latitude\"),\n",
    "    col(\"geolocation_lng\").alias(\"longitude\")\n",
    ").distinct().withColumn(\"geo_id\", monotonically_increasing_id())"
   ]
  },
  {
   "cell_type": "code",
   "execution_count": 10,
   "id": "dbae14a2-650c-48b2-8cc6-96343cc81c1e",
   "metadata": {},
   "outputs": [],
   "source": [
    "# Customer"
   ]
  },
  {
   "cell_type": "code",
   "execution_count": 11,
   "id": "b5c57669-2193-4e03-a674-814076dcece8",
   "metadata": {},
   "outputs": [
    {
     "name": "stdout",
     "output_type": "stream",
     "text": [
      "root\n",
      " |-- customer_id: string (nullable = true)\n",
      " |-- customer_unique_id: string (nullable = true)\n",
      " |-- customer_zip_code_prefix: integer (nullable = true)\n",
      " |-- customer_city: string (nullable = true)\n",
      " |-- customer_state: string (nullable = true)\n",
      "\n"
     ]
    }
   ],
   "source": [
    "cleaned_olist_customers_dataset.printSchema()"
   ]
  },
  {
   "cell_type": "code",
   "execution_count": 12,
   "id": "bdaf1987-aebd-4052-b311-296ce684b5ad",
   "metadata": {},
   "outputs": [],
   "source": [
    "dim_customers = cleaned_olist_customers_dataset.join(\n",
    "    dim_geolocation,\n",
    "    cleaned_olist_customers_dataset.customer_zip_code_prefix == dim_geolocation.zip_code_prefix,\n",
    "    \"left\"\n",
    ").select(\n",
    "    col(\"customer_id\"),\n",
    "    col(\"customer_unique_id\"),\n",
    "    col(\"geo_id\")\n",
    ")"
   ]
  },
  {
   "cell_type": "code",
   "execution_count": 13,
   "id": "e5559b12-bb5f-418a-877c-540a3a338eef",
   "metadata": {},
   "outputs": [
    {
     "name": "stderr",
     "output_type": "stream",
     "text": [
      "[Stage 27:>                                                         (0 + 1) / 1]\r"
     ]
    },
    {
     "name": "stdout",
     "output_type": "stream",
     "text": [
      "+--------------------+--------------------+----------+\n",
      "|         customer_id|  customer_unique_id|    geo_id|\n",
      "+--------------------+--------------------+----------+\n",
      "|369708cabd9831ea6...|94b731a41867b47c3...|     17071|\n",
      "|369708cabd9831ea6...|94b731a41867b47c3...|     83611|\n",
      "|369708cabd9831ea6...|94b731a41867b47c3...|    199901|\n",
      "|369708cabd9831ea6...|94b731a41867b47c3...|    247945|\n",
      "|369708cabd9831ea6...|94b731a41867b47c3...|    286101|\n",
      "|369708cabd9831ea6...|94b731a41867b47c3...|    308830|\n",
      "|369708cabd9831ea6...|94b731a41867b47c3...|    321192|\n",
      "|369708cabd9831ea6...|94b731a41867b47c3...|    336608|\n",
      "|369708cabd9831ea6...|94b731a41867b47c3...|    337947|\n",
      "|369708cabd9831ea6...|94b731a41867b47c3...|8589957421|\n",
      "+--------------------+--------------------+----------+\n",
      "only showing top 10 rows\n",
      "\n"
     ]
    },
    {
     "name": "stderr",
     "output_type": "stream",
     "text": [
      "                                                                                \r"
     ]
    }
   ],
   "source": [
    "dim_customers.show(10)"
   ]
  },
  {
   "cell_type": "code",
   "execution_count": 14,
   "id": "c5b9d85f-d95f-44f0-be54-126369168d46",
   "metadata": {},
   "outputs": [],
   "source": [
    "# Seller"
   ]
  },
  {
   "cell_type": "code",
   "execution_count": 15,
   "id": "8f1607ea-d0c6-4ac2-be32-1d73d3e64ed2",
   "metadata": {},
   "outputs": [
    {
     "name": "stdout",
     "output_type": "stream",
     "text": [
      "root\n",
      " |-- seller_id: string (nullable = true)\n",
      " |-- seller_zip_code_prefix: integer (nullable = true)\n",
      " |-- seller_city: string (nullable = true)\n",
      " |-- seller_state: string (nullable = true)\n",
      "\n"
     ]
    }
   ],
   "source": [
    "cleaned_olist_sellers_dataset.printSchema()"
   ]
  },
  {
   "cell_type": "code",
   "execution_count": 16,
   "id": "b1dc6b5e-96d5-4383-9977-22f08f57aee7",
   "metadata": {},
   "outputs": [],
   "source": [
    "dim_sellers = cleaned_olist_sellers_dataset.join(\n",
    "    dim_geolocation,\n",
    "    cleaned_olist_sellers_dataset.seller_zip_code_prefix == dim_geolocation.zip_code_prefix,\n",
    "    \"left\"\n",
    ").select(\n",
    "    col(\"seller_id\"),\n",
    "    col(\"geo_id\")\n",
    ")"
   ]
  },
  {
   "cell_type": "code",
   "execution_count": 17,
   "id": "8187a2ee-5833-4006-b0e6-3f44287a4f6d",
   "metadata": {},
   "outputs": [
    {
     "name": "stderr",
     "output_type": "stream",
     "text": [
      "[Stage 31:>                                                         (0 + 2) / 2]\r"
     ]
    },
    {
     "name": "stdout",
     "output_type": "stream",
     "text": [
      "+--------------------+------+\n",
      "|           seller_id|geo_id|\n",
      "+--------------------+------+\n",
      "|67883baaae6134ee8...| 17597|\n",
      "|67883baaae6134ee8...| 35437|\n",
      "|67883baaae6134ee8...| 48345|\n",
      "|67883baaae6134ee8...| 53837|\n",
      "|67883baaae6134ee8...| 55425|\n",
      "|67883baaae6134ee8...|105282|\n",
      "|67883baaae6134ee8...|120560|\n",
      "|67883baaae6134ee8...|157312|\n",
      "|67883baaae6134ee8...|160905|\n",
      "|67883baaae6134ee8...|170686|\n",
      "+--------------------+------+\n",
      "only showing top 10 rows\n",
      "\n"
     ]
    },
    {
     "name": "stderr",
     "output_type": "stream",
     "text": [
      "                                                                                \r"
     ]
    }
   ],
   "source": [
    "dim_sellers.show(10)"
   ]
  },
  {
   "cell_type": "code",
   "execution_count": 18,
   "id": "54be7c3a-98ba-49c1-ba96-fefc217e062e",
   "metadata": {},
   "outputs": [],
   "source": [
    "# Products"
   ]
  },
  {
   "cell_type": "code",
   "execution_count": 19,
   "id": "fe21e138-8848-43b5-b6a4-5de2efcd8ec3",
   "metadata": {},
   "outputs": [
    {
     "name": "stdout",
     "output_type": "stream",
     "text": [
      "root\n",
      " |-- product_id: string (nullable = true)\n",
      " |-- product_category_name: string (nullable = true)\n",
      " |-- product_name_lenght: integer (nullable = true)\n",
      " |-- product_description_lenght: integer (nullable = true)\n",
      " |-- product_photos_qty: integer (nullable = true)\n",
      " |-- product_weight_g: integer (nullable = true)\n",
      " |-- product_length_cm: integer (nullable = true)\n",
      " |-- product_height_cm: integer (nullable = true)\n",
      " |-- product_width_cm: integer (nullable = true)\n",
      "\n"
     ]
    }
   ],
   "source": [
    "cleaned_olist_products_dataset.printSchema()"
   ]
  },
  {
   "cell_type": "code",
   "execution_count": 20,
   "id": "f8f49874-2827-48e4-9305-54e28ed0ad7f",
   "metadata": {},
   "outputs": [
    {
     "name": "stdout",
     "output_type": "stream",
     "text": [
      "root\n",
      " |-- product_category_name: string (nullable = true)\n",
      " |-- product_category_name_english: string (nullable = true)\n",
      "\n"
     ]
    }
   ],
   "source": [
    "cleaned_product_category_name_translation_dataset.printSchema()"
   ]
  },
  {
   "cell_type": "code",
   "execution_count": 21,
   "id": "5bca0a65-ad17-4e86-8a74-fec9f2559e10",
   "metadata": {},
   "outputs": [],
   "source": [
    "dim_products = cleaned_olist_products_dataset.join(\n",
    "    cleaned_product_category_name_translation_dataset,\n",
    "    \"product_category_name\",\n",
    "    \"left\"\n",
    ").select(\n",
    "    col(\"product_id\"),\n",
    "    col(\"product_category_name\"),\n",
    "    col(\"product_category_name_english\"),\n",
    "    col(\"product_name_lenght\"),\n",
    "    col(\"product_description_lenght\"),\n",
    "    col(\"product_photos_qty\"),\n",
    "    col(\"product_weight_g\"),\n",
    "    col(\"product_length_cm\"),\n",
    "    col(\"product_height_cm\"),\n",
    "    col(\"product_width_cm\")\n",
    ")"
   ]
  },
  {
   "cell_type": "code",
   "execution_count": 22,
   "id": "c5ec052e-c68e-4070-aadd-7b7f62ed3334",
   "metadata": {},
   "outputs": [
    {
     "name": "stderr",
     "output_type": "stream",
     "text": [
      "[Stage 39:=============================>                            (1 + 1) / 2]\r"
     ]
    },
    {
     "name": "stdout",
     "output_type": "stream",
     "text": [
      "+--------------------+------+\n",
      "|           seller_id|geo_id|\n",
      "+--------------------+------+\n",
      "|67883baaae6134ee8...| 17597|\n",
      "|67883baaae6134ee8...| 35437|\n",
      "|67883baaae6134ee8...| 48345|\n",
      "|67883baaae6134ee8...| 53837|\n",
      "|67883baaae6134ee8...| 55425|\n",
      "|67883baaae6134ee8...|105282|\n",
      "|67883baaae6134ee8...|120560|\n",
      "|67883baaae6134ee8...|157312|\n",
      "|67883baaae6134ee8...|160905|\n",
      "|67883baaae6134ee8...|170686|\n",
      "+--------------------+------+\n",
      "only showing top 10 rows\n",
      "\n"
     ]
    },
    {
     "name": "stderr",
     "output_type": "stream",
     "text": [
      "                                                                                \r"
     ]
    }
   ],
   "source": [
    "dim_sellers.show(10)"
   ]
  },
  {
   "cell_type": "code",
   "execution_count": 23,
   "id": "80271274-79ea-456b-9fe5-edf3d56db535",
   "metadata": {},
   "outputs": [],
   "source": [
    "# Payments"
   ]
  },
  {
   "cell_type": "code",
   "execution_count": 24,
   "id": "bb305000-21b6-4397-b91a-7550bb278567",
   "metadata": {},
   "outputs": [
    {
     "name": "stdout",
     "output_type": "stream",
     "text": [
      "root\n",
      " |-- order_id: string (nullable = true)\n",
      " |-- payment_sequential: integer (nullable = true)\n",
      " |-- payment_type: string (nullable = true)\n",
      " |-- payment_installments: integer (nullable = true)\n",
      " |-- payment_value: double (nullable = true)\n",
      "\n"
     ]
    }
   ],
   "source": [
    "cleaned_olist_order_payments_dataset.printSchema()"
   ]
  },
  {
   "cell_type": "code",
   "execution_count": 25,
   "id": "555d2b23-5854-4eec-9a2b-c4256df8b3c0",
   "metadata": {},
   "outputs": [
    {
     "name": "stdout",
     "output_type": "stream",
     "text": [
      "+--------------------+------------------+------------+--------------------+-------------+\n",
      "|            order_id|payment_sequential|payment_type|payment_installments|payment_value|\n",
      "+--------------------+------------------+------------+--------------------+-------------+\n",
      "|9389b64e7d922e3b0...|                 1| credit_card|                   4|       125.43|\n",
      "|91e725244b1ed7224...|                 1| credit_card|                   3|       113.33|\n",
      "|ad9447ca1bb7d23ed...|                 1|      boleto|                   1|       224.45|\n",
      "|41b03a6bad9f1feda...|                 1| credit_card|                   1|       220.66|\n",
      "|9378f7fb4dad9527f...|                 1| credit_card|                   1|       117.01|\n",
      "|dd2abc99a0eb03ae7...|                 1| credit_card|                   3|        71.36|\n",
      "|de806f0367f37cd3f...|                 1| credit_card|                   7|       157.13|\n",
      "|4a49f0eb11c5d69be...|                 1| credit_card|                   1|        73.72|\n",
      "|e5606996314126e70...|                 1| credit_card|                   1|       116.95|\n",
      "|86a0962f08397e952...|                 1| credit_card|                   1|        40.13|\n",
      "+--------------------+------------------+------------+--------------------+-------------+\n",
      "only showing top 10 rows\n",
      "\n"
     ]
    }
   ],
   "source": [
    "cleaned_olist_order_payments_dataset.show(10)"
   ]
  },
  {
   "cell_type": "code",
   "execution_count": 26,
   "id": "3f81a64e-85dd-4c4c-a64c-e8a9adcee85a",
   "metadata": {},
   "outputs": [],
   "source": [
    "dim_payments = cleaned_olist_order_payments_dataset.select(\"payment_type\").distinct() \\\n",
    "    .withColumn(\"payment_type_id\", monotonically_increasing_id())"
   ]
  },
  {
   "cell_type": "code",
   "execution_count": 27,
   "id": "0def0ba1-70ee-46a2-b12c-a4ea498a9252",
   "metadata": {},
   "outputs": [
    {
     "name": "stdout",
     "output_type": "stream",
     "text": [
      "+------------+---------------+\n",
      "|payment_type|payment_type_id|\n",
      "+------------+---------------+\n",
      "|      boleto|              0|\n",
      "| not_defined|              1|\n",
      "| credit_card|              2|\n",
      "|     voucher|              3|\n",
      "|  debit_card|              4|\n",
      "+------------+---------------+\n",
      "\n"
     ]
    }
   ],
   "source": [
    "dim_payments.show(10)"
   ]
  },
  {
   "cell_type": "code",
   "execution_count": 28,
   "id": "09c73d4d-64b8-4349-8531-7f06f4b96861",
   "metadata": {},
   "outputs": [],
   "source": [
    "# Reviews"
   ]
  },
  {
   "cell_type": "code",
   "execution_count": 29,
   "id": "85fff4de-d6dc-4657-96b6-f7eca816ec0e",
   "metadata": {},
   "outputs": [
    {
     "name": "stdout",
     "output_type": "stream",
     "text": [
      "root\n",
      " |-- review_id: string (nullable = true)\n",
      " |-- order_id: string (nullable = true)\n",
      " |-- review_score: string (nullable = true)\n",
      " |-- review_comment_title: string (nullable = true)\n",
      " |-- review_comment_message: string (nullable = true)\n",
      " |-- review_creation_date: string (nullable = true)\n",
      " |-- review_answer_timestamp: string (nullable = true)\n",
      "\n"
     ]
    }
   ],
   "source": [
    "cleaned_olist_order_reviews_dataset.printSchema()"
   ]
  },
  {
   "cell_type": "code",
   "execution_count": 30,
   "id": "0a114142-0e59-40bd-b31e-ec2856becb1c",
   "metadata": {},
   "outputs": [],
   "source": [
    "dim_reviews = cleaned_olist_order_reviews_dataset.select(\"*\")"
   ]
  },
  {
   "cell_type": "code",
   "execution_count": 31,
   "id": "f1e83081-bab8-482b-bcc6-35e70aac1df6",
   "metadata": {},
   "outputs": [
    {
     "name": "stdout",
     "output_type": "stream",
     "text": [
      "+--------------------+--------------------+------------+--------------------+----------------------+--------------------+-----------------------+\n",
      "|           review_id|            order_id|review_score|review_comment_title|review_comment_message|review_creation_date|review_answer_timestamp|\n",
      "+--------------------+--------------------+------------+--------------------+----------------------+--------------------+-----------------------+\n",
      "|8f9aa50ee40780ba3...|729c445f5f350f88d...|           5|           Muito bom|  Creme maravilhoso...| 2018-05-10 00:00:00|    2018-05-10 16:21:17|\n",
      "|38bcaf95057f842c3...|ca36cc19c0a413c8f...|           3|                null|  Só recebi um prod...| 2018-04-28 00:00:00|    2018-04-29 01:11:49|\n",
      "|08ee947fb131a0a99...|0666806082c797ed8...|           5|                null|  Produto lindo, ótimo| 2017-07-08 00:00:00|    2017-07-09 09:59:54|\n",
      "|1f0c5d31b49a18cc2...|f810273bc84ceae52...|           4|                null|  Entrega uma dia a...| 2018-03-11 00:00:00|    2018-03-14 16:54:17|\n",
      "|a0a4f80c0cae188dd...|fadc814c107804fcb...|           5|                null|                  null| 2017-09-05 00:00:00|    2017-09-06 00:23:45|\n",
      "+--------------------+--------------------+------------+--------------------+----------------------+--------------------+-----------------------+\n",
      "only showing top 5 rows\n",
      "\n"
     ]
    }
   ],
   "source": [
    "dim_reviews.show(5)"
   ]
  },
  {
   "cell_type": "code",
   "execution_count": 32,
   "id": "24a8f20e-6b82-4781-8b76-79ba284f0f4a",
   "metadata": {},
   "outputs": [
    {
     "name": "stdout",
     "output_type": "stream",
     "text": [
      "+--------------------+--------------------+------------+--------------------+----------------------+--------------------+-----------------------+\n",
      "|           review_id|            order_id|review_score|review_comment_title|review_comment_message|review_creation_date|review_answer_timestamp|\n",
      "+--------------------+--------------------+------------+--------------------+----------------------+--------------------+-----------------------+\n",
      "|8f9aa50ee40780ba3...|729c445f5f350f88d...|           5|           Muito bom|  Creme maravilhoso...| 2018-05-10 00:00:00|    2018-05-10 16:21:17|\n",
      "|38bcaf95057f842c3...|ca36cc19c0a413c8f...|           3|                null|  Só recebi um prod...| 2018-04-28 00:00:00|    2018-04-29 01:11:49|\n",
      "|08ee947fb131a0a99...|0666806082c797ed8...|           5|                null|  Produto lindo, ótimo| 2017-07-08 00:00:00|    2017-07-09 09:59:54|\n",
      "|1f0c5d31b49a18cc2...|f810273bc84ceae52...|           4|                null|  Entrega uma dia a...| 2018-03-11 00:00:00|    2018-03-14 16:54:17|\n",
      "|a0a4f80c0cae188dd...|fadc814c107804fcb...|           5|                null|                  null| 2017-09-05 00:00:00|    2017-09-06 00:23:45|\n",
      "+--------------------+--------------------+------------+--------------------+----------------------+--------------------+-----------------------+\n",
      "only showing top 5 rows\n",
      "\n"
     ]
    }
   ],
   "source": [
    "cleaned_olist_order_reviews_dataset.show(5)"
   ]
  },
  {
   "cell_type": "code",
   "execution_count": 33,
   "id": "ba1dd19c-b0b5-4a61-836b-f397d0e82009",
   "metadata": {},
   "outputs": [],
   "source": [
    "# Order"
   ]
  },
  {
   "cell_type": "code",
   "execution_count": 34,
   "id": "4541f842-4d8f-48c3-ab0a-ee88b270458b",
   "metadata": {},
   "outputs": [
    {
     "name": "stdout",
     "output_type": "stream",
     "text": [
      "root\n",
      " |-- order_id: string (nullable = true)\n",
      " |-- customer_id: string (nullable = true)\n",
      " |-- order_status: string (nullable = true)\n",
      " |-- order_purchase_timestamp: timestamp (nullable = true)\n",
      " |-- order_approved_at: timestamp (nullable = true)\n",
      " |-- order_delivered_carrier_date: timestamp (nullable = true)\n",
      " |-- order_delivered_customer_date: timestamp (nullable = true)\n",
      " |-- order_estimated_delivery_date: timestamp (nullable = true)\n",
      "\n"
     ]
    }
   ],
   "source": [
    "cleaned_olist_orders_dataset.printSchema()"
   ]
  },
  {
   "cell_type": "code",
   "execution_count": 51,
   "id": "014af76e-509d-4b06-8c65-cc768501e09a",
   "metadata": {},
   "outputs": [],
   "source": [
    "# Unir las tablas necesarias\n",
    "fact_orders = cleaned_olist_orders_dataset.join(cleaned_olist_order_items_dataset, \"order_id\") \\\n",
    "    .join(cleaned_olist_order_payments_dataset, \"order_id\", \"left\") \\\n",
    "    .join(cleaned_olist_order_reviews_dataset, \"order_id\", \"left\") \\\n",
    "    .join(\n",
    "        dim_customers.select(\"customer_id\", \"geo_id\").withColumnRenamed(\"geo_id\", \"customer_geo_id\"),\n",
    "        \"customer_id\",\n",
    "        \"left\"\n",
    "    ) \\\n",
    "    .join(\n",
    "        dim_sellers.select(\"seller_id\", \"geo_id\").withColumnRenamed(\"geo_id\", \"seller_geo_id\"),\n",
    "        \"seller_id\",\n",
    "        \"left\"\n",
    "    ) \\\n",
    "    .groupBy(\n",
    "        \"order_id\",\n",
    "        \"customer_id\", \n",
    "        \"order_status\", \n",
    "        \"customer_geo_id\",  # Clave geográfica del cliente\n",
    "        \"seller_geo_id\",    # Clave geográfica del vendedor\n",
    "        \"seller_id\",\n",
    "        \"product_id\",\n",
    "        \"payment_type\",\n",
    "        \"order_purchase_timestamp\", \n",
    "        \"order_approved_at\", \n",
    "        \"order_delivered_customer_date\"\n",
    "    ).agg(\n",
    "        sum(\"price\").alias(\"total_price\"),\n",
    "        sum(\"freight_value\").alias(\"freight_value\"),\n",
    "        sum(\"payment_value\").alias(\"total_payment_value\"), \n",
    "        avg(\"review_score\").alias(\"review_score\") \n",
    "    )"
   ]
  },
  {
   "cell_type": "code",
   "execution_count": null,
   "id": "72ce5a5b-834b-4c8f-a5c3-b51c92c0a103",
   "metadata": {},
   "outputs": [
    {
     "name": "stderr",
     "output_type": "stream",
     "text": [
      "[Stage 110:>                                                        (0 + 2) / 2]\r"
     ]
    },
    {
     "name": "stdout",
     "output_type": "stream",
     "text": [
      "2024-11-26T00:33:07,924 WARN [Executor task launch worker for task 0.0 in stage 121.0 (TID 119)] org.apache.spark.sql.catalyst.expressions.RowBasedKeyValueBatch - Calling spill() on RowBasedKeyValueBatch. Will not spill but return 0.\n"
     ]
    },
    {
     "name": "stderr",
     "output_type": "stream",
     "text": [
      "[Stage 121:>                                                        (0 + 1) / 1]\r"
     ]
    },
    {
     "name": "stdout",
     "output_type": "stream",
     "text": [
      "2024-11-26T00:33:08,740 WARN [Executor task launch worker for task 0.0 in stage 121.0 (TID 119)] org.apache.spark.sql.catalyst.expressions.RowBasedKeyValueBatch - Calling spill() on RowBasedKeyValueBatch. Will not spill but return 0.\n",
      "2024-11-26T00:33:09,290 WARN [Executor task launch worker for task 0.0 in stage 121.0 (TID 119)] org.apache.spark.sql.catalyst.expressions.RowBasedKeyValueBatch - Calling spill() on RowBasedKeyValueBatch. Will not spill but return 0.\n",
      "2024-11-26T00:33:09,794 WARN [Executor task launch worker for task 0.0 in stage 121.0 (TID 119)] org.apache.spark.sql.catalyst.expressions.RowBasedKeyValueBatch - Calling spill() on RowBasedKeyValueBatch. Will not spill but return 0.\n",
      "2024-11-26T00:33:10,321 WARN [Executor task launch worker for task 0.0 in stage 121.0 (TID 119)] org.apache.spark.sql.catalyst.expressions.RowBasedKeyValueBatch - Calling spill() on RowBasedKeyValueBatch. Will not spill but return 0.\n",
      "2024-11-26T00:33:10,835 WARN [Executor task launch worker for task 0.0 in stage 121.0 (TID 119)] org.apache.spark.sql.catalyst.expressions.RowBasedKeyValueBatch - Calling spill() on RowBasedKeyValueBatch. Will not spill but return 0.\n",
      "2024-11-26T00:33:11,371 WARN [Executor task launch worker for task 0.0 in stage 121.0 (TID 119)] org.apache.spark.sql.catalyst.expressions.RowBasedKeyValueBatch - Calling spill() on RowBasedKeyValueBatch. Will not spill but return 0.\n",
      "2024-11-26T00:33:13,771 WARN [Executor task launch worker for task 0.0 in stage 121.0 (TID 119)] org.apache.spark.sql.catalyst.expressions.RowBasedKeyValueBatch - Calling spill() on RowBasedKeyValueBatch. Will not spill but return 0.\n",
      "2024-11-26T00:33:13,817 WARN [Executor task launch worker for task 0.0 in stage 121.0 (TID 119)] org.apache.spark.sql.catalyst.expressions.RowBasedKeyValueBatch - Calling spill() on RowBasedKeyValueBatch. Will not spill but return 0.\n",
      "2024-11-26T00:33:13,908 WARN [Executor task launch worker for task 0.0 in stage 121.0 (TID 119)] org.apache.spark.sql.catalyst.expressions.RowBasedKeyValueBatch - Calling spill() on RowBasedKeyValueBatch. Will not spill but return 0.\n",
      "2024-11-26T00:33:13,920 WARN [Executor task launch worker for task 0.0 in stage 121.0 (TID 119)] org.apache.spark.sql.catalyst.expressions.RowBasedKeyValueBatch - Calling spill() on RowBasedKeyValueBatch. Will not spill but return 0.\n",
      "2024-11-26T00:33:15,759 WARN [Executor task launch worker for task 0.0 in stage 121.0 (TID 119)] org.apache.spark.sql.catalyst.expressions.RowBasedKeyValueBatch - Calling spill() on RowBasedKeyValueBatch. Will not spill but return 0.\n",
      "2024-11-26T00:33:15,771 WARN [Executor task launch worker for task 0.0 in stage 121.0 (TID 119)] org.apache.spark.sql.catalyst.expressions.RowBasedKeyValueBatch - Calling spill() on RowBasedKeyValueBatch. Will not spill but return 0.\n",
      "2024-11-26T00:33:17,292 WARN [Executor task launch worker for task 0.0 in stage 121.0 (TID 119)] org.apache.spark.sql.catalyst.expressions.RowBasedKeyValueBatch - Calling spill() on RowBasedKeyValueBatch. Will not spill but return 0.\n",
      "2024-11-26T00:33:17,304 WARN [Executor task launch worker for task 0.0 in stage 121.0 (TID 119)] org.apache.spark.sql.catalyst.expressions.RowBasedKeyValueBatch - Calling spill() on RowBasedKeyValueBatch. Will not spill but return 0.\n",
      "2024-11-26T00:33:18,775 WARN [Executor task launch worker for task 0.0 in stage 121.0 (TID 119)] org.apache.spark.sql.catalyst.expressions.RowBasedKeyValueBatch - Calling spill() on RowBasedKeyValueBatch. Will not spill but return 0.\n",
      "2024-11-26T00:33:18,792 WARN [Executor task launch worker for task 0.0 in stage 121.0 (TID 119)] org.apache.spark.sql.catalyst.expressions.RowBasedKeyValueBatch - Calling spill() on RowBasedKeyValueBatch. Will not spill but return 0.\n",
      "2024-11-26T00:33:20,307 WARN [Executor task launch worker for task 0.0 in stage 121.0 (TID 119)] org.apache.spark.sql.catalyst.expressions.RowBasedKeyValueBatch - Calling spill() on RowBasedKeyValueBatch. Will not spill but return 0.\n",
      "2024-11-26T00:33:20,319 WARN [Executor task launch worker for task 0.0 in stage 121.0 (TID 119)] org.apache.spark.sql.catalyst.expressions.RowBasedKeyValueBatch - Calling spill() on RowBasedKeyValueBatch. Will not spill but return 0.\n",
      "2024-11-26T00:33:21,663 WARN [Executor task launch worker for task 0.0 in stage 121.0 (TID 119)] org.apache.spark.sql.catalyst.expressions.RowBasedKeyValueBatch - Calling spill() on RowBasedKeyValueBatch. Will not spill but return 0.\n",
      "2024-11-26T00:33:21,675 WARN [Executor task launch worker for task 0.0 in stage 121.0 (TID 119)] org.apache.spark.sql.catalyst.expressions.RowBasedKeyValueBatch - Calling spill() on RowBasedKeyValueBatch. Will not spill but return 0.\n",
      "2024-11-26T00:33:22,991 WARN [Executor task launch worker for task 0.0 in stage 121.0 (TID 119)] org.apache.spark.sql.catalyst.expressions.RowBasedKeyValueBatch - Calling spill() on RowBasedKeyValueBatch. Will not spill but return 0.\n",
      "2024-11-26T00:33:23,003 WARN [Executor task launch worker for task 0.0 in stage 121.0 (TID 119)] org.apache.spark.sql.catalyst.expressions.RowBasedKeyValueBatch - Calling spill() on RowBasedKeyValueBatch. Will not spill but return 0.\n",
      "2024-11-26T00:33:24,495 WARN [Executor task launch worker for task 0.0 in stage 121.0 (TID 119)] org.apache.spark.sql.catalyst.expressions.RowBasedKeyValueBatch - Calling spill() on RowBasedKeyValueBatch. Will not spill but return 0.\n",
      "2024-11-26T00:33:24,507 WARN [Executor task launch worker for task 0.0 in stage 121.0 (TID 119)] org.apache.spark.sql.catalyst.expressions.RowBasedKeyValueBatch - Calling spill() on RowBasedKeyValueBatch. Will not spill but return 0.\n",
      "2024-11-26T00:33:25,861 WARN [Executor task launch worker for task 0.0 in stage 121.0 (TID 119)] org.apache.spark.sql.catalyst.expressions.RowBasedKeyValueBatch - Calling spill() on RowBasedKeyValueBatch. Will not spill but return 0.\n",
      "2024-11-26T00:33:25,872 WARN [Executor task launch worker for task 0.0 in stage 121.0 (TID 119)] org.apache.spark.sql.catalyst.expressions.RowBasedKeyValueBatch - Calling spill() on RowBasedKeyValueBatch. Will not spill but return 0.\n",
      "2024-11-26T00:33:27,436 WARN [Executor task launch worker for task 0.0 in stage 121.0 (TID 119)] org.apache.spark.sql.catalyst.expressions.RowBasedKeyValueBatch - Calling spill() on RowBasedKeyValueBatch. Will not spill but return 0.\n",
      "2024-11-26T00:33:27,448 WARN [Executor task launch worker for task 0.0 in stage 121.0 (TID 119)] org.apache.spark.sql.catalyst.expressions.RowBasedKeyValueBatch - Calling spill() on RowBasedKeyValueBatch. Will not spill but return 0.\n",
      "2024-11-26T00:33:28,951 WARN [Executor task launch worker for task 0.0 in stage 121.0 (TID 119)] org.apache.spark.sql.catalyst.expressions.RowBasedKeyValueBatch - Calling spill() on RowBasedKeyValueBatch. Will not spill but return 0.\n",
      "2024-11-26T00:33:28,968 WARN [Executor task launch worker for task 0.0 in stage 121.0 (TID 119)] org.apache.spark.sql.catalyst.expressions.RowBasedKeyValueBatch - Calling spill() on RowBasedKeyValueBatch. Will not spill but return 0.\n",
      "2024-11-26T00:33:30,334 WARN [Executor task launch worker for task 0.0 in stage 121.0 (TID 119)] org.apache.spark.sql.catalyst.expressions.RowBasedKeyValueBatch - Calling spill() on RowBasedKeyValueBatch. Will not spill but return 0.\n",
      "2024-11-26T00:33:30,346 WARN [Executor task launch worker for task 0.0 in stage 121.0 (TID 119)] org.apache.spark.sql.catalyst.expressions.RowBasedKeyValueBatch - Calling spill() on RowBasedKeyValueBatch. Will not spill but return 0.\n",
      "2024-11-26T00:33:31,729 WARN [Executor task launch worker for task 0.0 in stage 121.0 (TID 119)] org.apache.spark.sql.catalyst.expressions.RowBasedKeyValueBatch - Calling spill() on RowBasedKeyValueBatch. Will not spill but return 0.\n",
      "2024-11-26T00:33:31,741 WARN [Executor task launch worker for task 0.0 in stage 121.0 (TID 119)] org.apache.spark.sql.catalyst.expressions.RowBasedKeyValueBatch - Calling spill() on RowBasedKeyValueBatch. Will not spill but return 0.\n",
      "2024-11-26T00:33:33,152 WARN [Executor task launch worker for task 0.0 in stage 121.0 (TID 119)] org.apache.spark.sql.catalyst.expressions.RowBasedKeyValueBatch - Calling spill() on RowBasedKeyValueBatch. Will not spill but return 0.\n",
      "2024-11-26T00:33:33,168 WARN [Executor task launch worker for task 0.0 in stage 121.0 (TID 119)] org.apache.spark.sql.catalyst.expressions.RowBasedKeyValueBatch - Calling spill() on RowBasedKeyValueBatch. Will not spill but return 0.\n",
      "2024-11-26T00:33:34,513 WARN [Executor task launch worker for task 0.0 in stage 121.0 (TID 119)] org.apache.spark.sql.catalyst.expressions.RowBasedKeyValueBatch - Calling spill() on RowBasedKeyValueBatch. Will not spill but return 0.\n",
      "2024-11-26T00:33:34,525 WARN [Executor task launch worker for task 0.0 in stage 121.0 (TID 119)] org.apache.spark.sql.catalyst.expressions.RowBasedKeyValueBatch - Calling spill() on RowBasedKeyValueBatch. Will not spill but return 0.\n",
      "2024-11-26T00:33:35,922 WARN [Executor task launch worker for task 0.0 in stage 121.0 (TID 119)] org.apache.spark.sql.catalyst.expressions.RowBasedKeyValueBatch - Calling spill() on RowBasedKeyValueBatch. Will not spill but return 0.\n",
      "2024-11-26T00:33:35,934 WARN [Executor task launch worker for task 0.0 in stage 121.0 (TID 119)] org.apache.spark.sql.catalyst.expressions.RowBasedKeyValueBatch - Calling spill() on RowBasedKeyValueBatch. Will not spill but return 0.\n",
      "2024-11-26T00:33:37,366 WARN [Executor task launch worker for task 0.0 in stage 121.0 (TID 119)] org.apache.spark.sql.catalyst.expressions.RowBasedKeyValueBatch - Calling spill() on RowBasedKeyValueBatch. Will not spill but return 0.\n",
      "2024-11-26T00:33:37,384 WARN [Executor task launch worker for task 0.0 in stage 121.0 (TID 119)] org.apache.spark.sql.catalyst.expressions.RowBasedKeyValueBatch - Calling spill() on RowBasedKeyValueBatch. Will not spill but return 0.\n",
      "2024-11-26T00:33:38,858 WARN [Executor task launch worker for task 0.0 in stage 121.0 (TID 119)] org.apache.spark.sql.catalyst.expressions.RowBasedKeyValueBatch - Calling spill() on RowBasedKeyValueBatch. Will not spill but return 0.\n",
      "2024-11-26T00:33:38,870 WARN [Executor task launch worker for task 0.0 in stage 121.0 (TID 119)] org.apache.spark.sql.catalyst.expressions.RowBasedKeyValueBatch - Calling spill() on RowBasedKeyValueBatch. Will not spill but return 0.\n",
      "2024-11-26T00:33:40,539 WARN [Executor task launch worker for task 0.0 in stage 121.0 (TID 119)] org.apache.spark.sql.catalyst.expressions.RowBasedKeyValueBatch - Calling spill() on RowBasedKeyValueBatch. Will not spill but return 0.\n",
      "2024-11-26T00:33:40,551 WARN [Executor task launch worker for task 0.0 in stage 121.0 (TID 119)] org.apache.spark.sql.catalyst.expressions.RowBasedKeyValueBatch - Calling spill() on RowBasedKeyValueBatch. Will not spill but return 0.\n",
      "2024-11-26T00:33:42,042 WARN [Executor task launch worker for task 0.0 in stage 121.0 (TID 119)] org.apache.spark.sql.catalyst.expressions.RowBasedKeyValueBatch - Calling spill() on RowBasedKeyValueBatch. Will not spill but return 0.\n",
      "2024-11-26T00:33:42,056 WARN [Executor task launch worker for task 0.0 in stage 121.0 (TID 119)] org.apache.spark.sql.catalyst.expressions.RowBasedKeyValueBatch - Calling spill() on RowBasedKeyValueBatch. Will not spill but return 0.\n",
      "2024-11-26T00:33:43,525 WARN [Executor task launch worker for task 0.0 in stage 121.0 (TID 119)] org.apache.spark.sql.catalyst.expressions.RowBasedKeyValueBatch - Calling spill() on RowBasedKeyValueBatch. Will not spill but return 0.\n",
      "2024-11-26T00:33:43,542 WARN [Executor task launch worker for task 0.0 in stage 121.0 (TID 119)] org.apache.spark.sql.catalyst.expressions.RowBasedKeyValueBatch - Calling spill() on RowBasedKeyValueBatch. Will not spill but return 0.\n",
      "2024-11-26T00:33:45,035 WARN [Executor task launch worker for task 0.0 in stage 121.0 (TID 119)] org.apache.spark.sql.catalyst.expressions.RowBasedKeyValueBatch - Calling spill() on RowBasedKeyValueBatch. Will not spill but return 0.\n",
      "2024-11-26T00:33:45,047 WARN [Executor task launch worker for task 0.0 in stage 121.0 (TID 119)] org.apache.spark.sql.catalyst.expressions.RowBasedKeyValueBatch - Calling spill() on RowBasedKeyValueBatch. Will not spill but return 0.\n",
      "2024-11-26T00:33:46,451 WARN [Executor task launch worker for task 0.0 in stage 121.0 (TID 119)] org.apache.spark.sql.catalyst.expressions.RowBasedKeyValueBatch - Calling spill() on RowBasedKeyValueBatch. Will not spill but return 0.\n",
      "2024-11-26T00:33:46,463 WARN [Executor task launch worker for task 0.0 in stage 121.0 (TID 119)] org.apache.spark.sql.catalyst.expressions.RowBasedKeyValueBatch - Calling spill() on RowBasedKeyValueBatch. Will not spill but return 0.\n",
      "2024-11-26T00:33:48,040 WARN [Executor task launch worker for task 0.0 in stage 121.0 (TID 119)] org.apache.spark.sql.catalyst.expressions.RowBasedKeyValueBatch - Calling spill() on RowBasedKeyValueBatch. Will not spill but return 0.\n",
      "2024-11-26T00:33:48,051 WARN [Executor task launch worker for task 0.0 in stage 121.0 (TID 119)] org.apache.spark.sql.catalyst.expressions.RowBasedKeyValueBatch - Calling spill() on RowBasedKeyValueBatch. Will not spill but return 0.\n",
      "2024-11-26T00:33:49,369 WARN [Executor task launch worker for task 0.0 in stage 121.0 (TID 119)] org.apache.spark.sql.catalyst.expressions.RowBasedKeyValueBatch - Calling spill() on RowBasedKeyValueBatch. Will not spill but return 0.\n",
      "2024-11-26T00:33:49,381 WARN [Executor task launch worker for task 0.0 in stage 121.0 (TID 119)] org.apache.spark.sql.catalyst.expressions.RowBasedKeyValueBatch - Calling spill() on RowBasedKeyValueBatch. Will not spill but return 0.\n",
      "2024-11-26T00:33:50,703 WARN [Executor task launch worker for task 0.0 in stage 121.0 (TID 119)] org.apache.spark.sql.catalyst.expressions.RowBasedKeyValueBatch - Calling spill() on RowBasedKeyValueBatch. Will not spill but return 0.\n",
      "2024-11-26T00:33:50,725 WARN [Executor task launch worker for task 0.0 in stage 121.0 (TID 119)] org.apache.spark.sql.catalyst.expressions.RowBasedKeyValueBatch - Calling spill() on RowBasedKeyValueBatch. Will not spill but return 0.\n",
      "2024-11-26T00:33:52,236 WARN [Executor task launch worker for task 0.0 in stage 121.0 (TID 119)] org.apache.spark.sql.catalyst.expressions.RowBasedKeyValueBatch - Calling spill() on RowBasedKeyValueBatch. Will not spill but return 0.\n",
      "2024-11-26T00:33:52,251 WARN [Executor task launch worker for task 0.0 in stage 121.0 (TID 119)] org.apache.spark.sql.catalyst.expressions.RowBasedKeyValueBatch - Calling spill() on RowBasedKeyValueBatch. Will not spill but return 0.\n",
      "2024-11-26T00:33:53,891 WARN [Executor task launch worker for task 0.0 in stage 121.0 (TID 119)] org.apache.spark.sql.catalyst.expressions.RowBasedKeyValueBatch - Calling spill() on RowBasedKeyValueBatch. Will not spill but return 0.\n",
      "2024-11-26T00:33:53,903 WARN [Executor task launch worker for task 0.0 in stage 121.0 (TID 119)] org.apache.spark.sql.catalyst.expressions.RowBasedKeyValueBatch - Calling spill() on RowBasedKeyValueBatch. Will not spill but return 0.\n",
      "2024-11-26T00:33:55,385 WARN [Executor task launch worker for task 0.0 in stage 121.0 (TID 119)] org.apache.spark.sql.catalyst.expressions.RowBasedKeyValueBatch - Calling spill() on RowBasedKeyValueBatch. Will not spill but return 0.\n",
      "2024-11-26T00:33:55,397 WARN [Executor task launch worker for task 0.0 in stage 121.0 (TID 119)] org.apache.spark.sql.catalyst.expressions.RowBasedKeyValueBatch - Calling spill() on RowBasedKeyValueBatch. Will not spill but return 0.\n",
      "2024-11-26T00:33:56,725 WARN [Executor task launch worker for task 0.0 in stage 121.0 (TID 119)] org.apache.spark.sql.catalyst.expressions.RowBasedKeyValueBatch - Calling spill() on RowBasedKeyValueBatch. Will not spill but return 0.\n",
      "2024-11-26T00:33:56,736 WARN [Executor task launch worker for task 0.0 in stage 121.0 (TID 119)] org.apache.spark.sql.catalyst.expressions.RowBasedKeyValueBatch - Calling spill() on RowBasedKeyValueBatch. Will not spill but return 0.\n",
      "2024-11-26T00:33:58,151 WARN [Executor task launch worker for task 0.0 in stage 121.0 (TID 119)] org.apache.spark.sql.catalyst.expressions.RowBasedKeyValueBatch - Calling spill() on RowBasedKeyValueBatch. Will not spill but return 0.\n",
      "2024-11-26T00:33:58,172 WARN [Executor task launch worker for task 0.0 in stage 121.0 (TID 119)] org.apache.spark.sql.catalyst.expressions.RowBasedKeyValueBatch - Calling spill() on RowBasedKeyValueBatch. Will not spill but return 0.\n",
      "2024-11-26T00:33:59,858 WARN [Executor task launch worker for task 0.0 in stage 121.0 (TID 119)] org.apache.spark.sql.catalyst.expressions.RowBasedKeyValueBatch - Calling spill() on RowBasedKeyValueBatch. Will not spill but return 0.\n",
      "2024-11-26T00:33:59,884 WARN [Executor task launch worker for task 0.0 in stage 121.0 (TID 119)] org.apache.spark.sql.catalyst.expressions.RowBasedKeyValueBatch - Calling spill() on RowBasedKeyValueBatch. Will not spill but return 0.\n",
      "2024-11-26T00:34:01,547 WARN [Executor task launch worker for task 0.0 in stage 121.0 (TID 119)] org.apache.spark.sql.catalyst.expressions.RowBasedKeyValueBatch - Calling spill() on RowBasedKeyValueBatch. Will not spill but return 0.\n",
      "2024-11-26T00:34:01,558 WARN [Executor task launch worker for task 0.0 in stage 121.0 (TID 119)] org.apache.spark.sql.catalyst.expressions.RowBasedKeyValueBatch - Calling spill() on RowBasedKeyValueBatch. Will not spill but return 0.\n",
      "2024-11-26T00:34:02,918 WARN [Executor task launch worker for task 0.0 in stage 121.0 (TID 119)] org.apache.spark.sql.catalyst.expressions.RowBasedKeyValueBatch - Calling spill() on RowBasedKeyValueBatch. Will not spill but return 0.\n",
      "2024-11-26T00:34:02,930 WARN [Executor task launch worker for task 0.0 in stage 121.0 (TID 119)] org.apache.spark.sql.catalyst.expressions.RowBasedKeyValueBatch - Calling spill() on RowBasedKeyValueBatch. Will not spill but return 0.\n",
      "2024-11-26T00:34:04,405 WARN [Executor task launch worker for task 0.0 in stage 121.0 (TID 119)] org.apache.spark.sql.catalyst.expressions.RowBasedKeyValueBatch - Calling spill() on RowBasedKeyValueBatch. Will not spill but return 0.\n",
      "2024-11-26T00:34:04,417 WARN [Executor task launch worker for task 0.0 in stage 121.0 (TID 119)] org.apache.spark.sql.catalyst.expressions.RowBasedKeyValueBatch - Calling spill() on RowBasedKeyValueBatch. Will not spill but return 0.\n",
      "2024-11-26T00:34:06,005 WARN [Executor task launch worker for task 0.0 in stage 121.0 (TID 119)] org.apache.spark.sql.catalyst.expressions.RowBasedKeyValueBatch - Calling spill() on RowBasedKeyValueBatch. Will not spill but return 0.\n",
      "2024-11-26T00:34:06,017 WARN [Executor task launch worker for task 0.0 in stage 121.0 (TID 119)] org.apache.spark.sql.catalyst.expressions.RowBasedKeyValueBatch - Calling spill() on RowBasedKeyValueBatch. Will not spill but return 0.\n",
      "2024-11-26T00:34:07,318 WARN [Executor task launch worker for task 0.0 in stage 121.0 (TID 119)] org.apache.spark.sql.catalyst.expressions.RowBasedKeyValueBatch - Calling spill() on RowBasedKeyValueBatch. Will not spill but return 0.\n",
      "2024-11-26T00:34:07,330 WARN [Executor task launch worker for task 0.0 in stage 121.0 (TID 119)] org.apache.spark.sql.catalyst.expressions.RowBasedKeyValueBatch - Calling spill() on RowBasedKeyValueBatch. Will not spill but return 0.\n"
     ]
    },
    {
     "name": "stderr",
     "output_type": "stream",
     "text": [
      "[Stage 121:>                                                        (0 + 1) / 1]\r"
     ]
    },
    {
     "name": "stdout",
     "output_type": "stream",
     "text": [
      "2024-11-26T00:34:08,903 WARN [Executor task launch worker for task 0.0 in stage 121.0 (TID 119)] org.apache.spark.sql.catalyst.expressions.RowBasedKeyValueBatch - Calling spill() on RowBasedKeyValueBatch. Will not spill but return 0.\n",
      "2024-11-26T00:34:08,915 WARN [Executor task launch worker for task 0.0 in stage 121.0 (TID 119)] org.apache.spark.sql.catalyst.expressions.RowBasedKeyValueBatch - Calling spill() on RowBasedKeyValueBatch. Will not spill but return 0.\n",
      "2024-11-26T00:34:10,298 WARN [Executor task launch worker for task 0.0 in stage 121.0 (TID 119)] org.apache.spark.sql.catalyst.expressions.RowBasedKeyValueBatch - Calling spill() on RowBasedKeyValueBatch. Will not spill but return 0.\n",
      "2024-11-26T00:34:10,310 WARN [Executor task launch worker for task 0.0 in stage 121.0 (TID 119)] org.apache.spark.sql.catalyst.expressions.RowBasedKeyValueBatch - Calling spill() on RowBasedKeyValueBatch. Will not spill but return 0.\n",
      "2024-11-26T00:34:11,672 WARN [Executor task launch worker for task 0.0 in stage 121.0 (TID 119)] org.apache.spark.sql.catalyst.expressions.RowBasedKeyValueBatch - Calling spill() on RowBasedKeyValueBatch. Will not spill but return 0.\n",
      "2024-11-26T00:34:11,683 WARN [Executor task launch worker for task 0.0 in stage 121.0 (TID 119)] org.apache.spark.sql.catalyst.expressions.RowBasedKeyValueBatch - Calling spill() on RowBasedKeyValueBatch. Will not spill but return 0.\n",
      "2024-11-26T00:34:13,097 WARN [Executor task launch worker for task 0.0 in stage 121.0 (TID 119)] org.apache.spark.sql.catalyst.expressions.RowBasedKeyValueBatch - Calling spill() on RowBasedKeyValueBatch. Will not spill but return 0.\n",
      "2024-11-26T00:34:13,109 WARN [Executor task launch worker for task 0.0 in stage 121.0 (TID 119)] org.apache.spark.sql.catalyst.expressions.RowBasedKeyValueBatch - Calling spill() on RowBasedKeyValueBatch. Will not spill but return 0.\n",
      "2024-11-26T00:34:14,433 WARN [Executor task launch worker for task 0.0 in stage 121.0 (TID 119)] org.apache.spark.sql.catalyst.expressions.RowBasedKeyValueBatch - Calling spill() on RowBasedKeyValueBatch. Will not spill but return 0.\n",
      "2024-11-26T00:34:14,444 WARN [Executor task launch worker for task 0.0 in stage 121.0 (TID 119)] org.apache.spark.sql.catalyst.expressions.RowBasedKeyValueBatch - Calling spill() on RowBasedKeyValueBatch. Will not spill but return 0.\n",
      "2024-11-26T00:34:15,814 WARN [Executor task launch worker for task 0.0 in stage 121.0 (TID 119)] org.apache.spark.sql.catalyst.expressions.RowBasedKeyValueBatch - Calling spill() on RowBasedKeyValueBatch. Will not spill but return 0.\n",
      "2024-11-26T00:34:15,826 WARN [Executor task launch worker for task 0.0 in stage 121.0 (TID 119)] org.apache.spark.sql.catalyst.expressions.RowBasedKeyValueBatch - Calling spill() on RowBasedKeyValueBatch. Will not spill but return 0.\n",
      "2024-11-26T00:34:17,320 WARN [Executor task launch worker for task 0.0 in stage 121.0 (TID 119)] org.apache.spark.sql.catalyst.expressions.RowBasedKeyValueBatch - Calling spill() on RowBasedKeyValueBatch. Will not spill but return 0.\n",
      "2024-11-26T00:34:17,332 WARN [Executor task launch worker for task 0.0 in stage 121.0 (TID 119)] org.apache.spark.sql.catalyst.expressions.RowBasedKeyValueBatch - Calling spill() on RowBasedKeyValueBatch. Will not spill but return 0.\n",
      "2024-11-26T00:34:18,920 WARN [Executor task launch worker for task 0.0 in stage 121.0 (TID 119)] org.apache.spark.sql.catalyst.expressions.RowBasedKeyValueBatch - Calling spill() on RowBasedKeyValueBatch. Will not spill but return 0.\n",
      "2024-11-26T00:34:18,932 WARN [Executor task launch worker for task 0.0 in stage 121.0 (TID 119)] org.apache.spark.sql.catalyst.expressions.RowBasedKeyValueBatch - Calling spill() on RowBasedKeyValueBatch. Will not spill but return 0.\n",
      "2024-11-26T00:34:20,255 WARN [Executor task launch worker for task 0.0 in stage 121.0 (TID 119)] org.apache.spark.sql.catalyst.expressions.RowBasedKeyValueBatch - Calling spill() on RowBasedKeyValueBatch. Will not spill but return 0.\n",
      "2024-11-26T00:34:20,267 WARN [Executor task launch worker for task 0.0 in stage 121.0 (TID 119)] org.apache.spark.sql.catalyst.expressions.RowBasedKeyValueBatch - Calling spill() on RowBasedKeyValueBatch. Will not spill but return 0.\n",
      "2024-11-26T00:34:21,592 WARN [Executor task launch worker for task 0.0 in stage 121.0 (TID 119)] org.apache.spark.sql.catalyst.expressions.RowBasedKeyValueBatch - Calling spill() on RowBasedKeyValueBatch. Will not spill but return 0.\n",
      "2024-11-26T00:34:21,604 WARN [Executor task launch worker for task 0.0 in stage 121.0 (TID 119)] org.apache.spark.sql.catalyst.expressions.RowBasedKeyValueBatch - Calling spill() on RowBasedKeyValueBatch. Will not spill but return 0.\n",
      "2024-11-26T00:34:22,956 WARN [Executor task launch worker for task 0.0 in stage 121.0 (TID 119)] org.apache.spark.sql.catalyst.expressions.RowBasedKeyValueBatch - Calling spill() on RowBasedKeyValueBatch. Will not spill but return 0.\n",
      "2024-11-26T00:34:22,969 WARN [Executor task launch worker for task 0.0 in stage 121.0 (TID 119)] org.apache.spark.sql.catalyst.expressions.RowBasedKeyValueBatch - Calling spill() on RowBasedKeyValueBatch. Will not spill but return 0.\n",
      "2024-11-26T00:34:24,422 WARN [Executor task launch worker for task 0.0 in stage 121.0 (TID 119)] org.apache.spark.sql.catalyst.expressions.RowBasedKeyValueBatch - Calling spill() on RowBasedKeyValueBatch. Will not spill but return 0.\n",
      "2024-11-26T00:34:24,434 WARN [Executor task launch worker for task 0.0 in stage 121.0 (TID 119)] org.apache.spark.sql.catalyst.expressions.RowBasedKeyValueBatch - Calling spill() on RowBasedKeyValueBatch. Will not spill but return 0.\n",
      "2024-11-26T00:34:25,778 WARN [Executor task launch worker for task 0.0 in stage 121.0 (TID 119)] org.apache.spark.sql.catalyst.expressions.RowBasedKeyValueBatch - Calling spill() on RowBasedKeyValueBatch. Will not spill but return 0.\n",
      "2024-11-26T00:34:25,790 WARN [Executor task launch worker for task 0.0 in stage 121.0 (TID 119)] org.apache.spark.sql.catalyst.expressions.RowBasedKeyValueBatch - Calling spill() on RowBasedKeyValueBatch. Will not spill but return 0.\n",
      "2024-11-26T00:34:27,060 WARN [Executor task launch worker for task 0.0 in stage 121.0 (TID 119)] org.apache.spark.sql.catalyst.expressions.RowBasedKeyValueBatch - Calling spill() on RowBasedKeyValueBatch. Will not spill but return 0.\n",
      "2024-11-26T00:34:27,081 WARN [Executor task launch worker for task 0.0 in stage 121.0 (TID 119)] org.apache.spark.sql.catalyst.expressions.RowBasedKeyValueBatch - Calling spill() on RowBasedKeyValueBatch. Will not spill but return 0.\n",
      "2024-11-26T00:34:28,458 WARN [Executor task launch worker for task 0.0 in stage 121.0 (TID 119)] org.apache.spark.sql.catalyst.expressions.RowBasedKeyValueBatch - Calling spill() on RowBasedKeyValueBatch. Will not spill but return 0.\n",
      "2024-11-26T00:34:28,470 WARN [Executor task launch worker for task 0.0 in stage 121.0 (TID 119)] org.apache.spark.sql.catalyst.expressions.RowBasedKeyValueBatch - Calling spill() on RowBasedKeyValueBatch. Will not spill but return 0.\n",
      "2024-11-26T00:34:29,934 WARN [Executor task launch worker for task 0.0 in stage 121.0 (TID 119)] org.apache.spark.sql.catalyst.expressions.RowBasedKeyValueBatch - Calling spill() on RowBasedKeyValueBatch. Will not spill but return 0.\n",
      "2024-11-26T00:34:29,945 WARN [Executor task launch worker for task 0.0 in stage 121.0 (TID 119)] org.apache.spark.sql.catalyst.expressions.RowBasedKeyValueBatch - Calling spill() on RowBasedKeyValueBatch. Will not spill but return 0.\n",
      "2024-11-26T00:34:31,369 WARN [Executor task launch worker for task 0.0 in stage 121.0 (TID 119)] org.apache.spark.sql.catalyst.expressions.RowBasedKeyValueBatch - Calling spill() on RowBasedKeyValueBatch. Will not spill but return 0.\n",
      "2024-11-26T00:34:31,380 WARN [Executor task launch worker for task 0.0 in stage 121.0 (TID 119)] org.apache.spark.sql.catalyst.expressions.RowBasedKeyValueBatch - Calling spill() on RowBasedKeyValueBatch. Will not spill but return 0.\n",
      "2024-11-26T00:34:32,672 WARN [Executor task launch worker for task 0.0 in stage 121.0 (TID 119)] org.apache.spark.sql.catalyst.expressions.RowBasedKeyValueBatch - Calling spill() on RowBasedKeyValueBatch. Will not spill but return 0.\n",
      "2024-11-26T00:34:32,683 WARN [Executor task launch worker for task 0.0 in stage 121.0 (TID 119)] org.apache.spark.sql.catalyst.expressions.RowBasedKeyValueBatch - Calling spill() on RowBasedKeyValueBatch. Will not spill but return 0.\n",
      "2024-11-26T00:34:34,026 WARN [Executor task launch worker for task 0.0 in stage 121.0 (TID 119)] org.apache.spark.sql.catalyst.expressions.RowBasedKeyValueBatch - Calling spill() on RowBasedKeyValueBatch. Will not spill but return 0.\n",
      "2024-11-26T00:34:34,038 WARN [Executor task launch worker for task 0.0 in stage 121.0 (TID 119)] org.apache.spark.sql.catalyst.expressions.RowBasedKeyValueBatch - Calling spill() on RowBasedKeyValueBatch. Will not spill but return 0.\n",
      "2024-11-26T00:34:35,378 WARN [Executor task launch worker for task 0.0 in stage 121.0 (TID 119)] org.apache.spark.sql.catalyst.expressions.RowBasedKeyValueBatch - Calling spill() on RowBasedKeyValueBatch. Will not spill but return 0.\n",
      "2024-11-26T00:34:35,389 WARN [Executor task launch worker for task 0.0 in stage 121.0 (TID 119)] org.apache.spark.sql.catalyst.expressions.RowBasedKeyValueBatch - Calling spill() on RowBasedKeyValueBatch. Will not spill but return 0.\n",
      "2024-11-26T00:34:36,747 WARN [Executor task launch worker for task 0.0 in stage 121.0 (TID 119)] org.apache.spark.sql.catalyst.expressions.RowBasedKeyValueBatch - Calling spill() on RowBasedKeyValueBatch. Will not spill but return 0.\n",
      "2024-11-26T00:34:36,759 WARN [Executor task launch worker for task 0.0 in stage 121.0 (TID 119)] org.apache.spark.sql.catalyst.expressions.RowBasedKeyValueBatch - Calling spill() on RowBasedKeyValueBatch. Will not spill but return 0.\n",
      "2024-11-26T00:34:38,100 WARN [Executor task launch worker for task 0.0 in stage 121.0 (TID 119)] org.apache.spark.sql.catalyst.expressions.RowBasedKeyValueBatch - Calling spill() on RowBasedKeyValueBatch. Will not spill but return 0.\n",
      "2024-11-26T00:34:38,112 WARN [Executor task launch worker for task 0.0 in stage 121.0 (TID 119)] org.apache.spark.sql.catalyst.expressions.RowBasedKeyValueBatch - Calling spill() on RowBasedKeyValueBatch. Will not spill but return 0.\n",
      "2024-11-26T00:34:39,366 WARN [Executor task launch worker for task 0.0 in stage 121.0 (TID 119)] org.apache.spark.sql.catalyst.expressions.RowBasedKeyValueBatch - Calling spill() on RowBasedKeyValueBatch. Will not spill but return 0.\n",
      "2024-11-26T00:34:39,377 WARN [Executor task launch worker for task 0.0 in stage 121.0 (TID 119)] org.apache.spark.sql.catalyst.expressions.RowBasedKeyValueBatch - Calling spill() on RowBasedKeyValueBatch. Will not spill but return 0.\n",
      "2024-11-26T00:34:40,708 WARN [Executor task launch worker for task 0.0 in stage 121.0 (TID 119)] org.apache.spark.sql.catalyst.expressions.RowBasedKeyValueBatch - Calling spill() on RowBasedKeyValueBatch. Will not spill but return 0.\n",
      "2024-11-26T00:34:40,720 WARN [Executor task launch worker for task 0.0 in stage 121.0 (TID 119)] org.apache.spark.sql.catalyst.expressions.RowBasedKeyValueBatch - Calling spill() on RowBasedKeyValueBatch. Will not spill but return 0.\n",
      "2024-11-26T00:34:42,050 WARN [Executor task launch worker for task 0.0 in stage 121.0 (TID 119)] org.apache.spark.sql.catalyst.expressions.RowBasedKeyValueBatch - Calling spill() on RowBasedKeyValueBatch. Will not spill but return 0.\n",
      "2024-11-26T00:34:42,061 WARN [Executor task launch worker for task 0.0 in stage 121.0 (TID 119)] org.apache.spark.sql.catalyst.expressions.RowBasedKeyValueBatch - Calling spill() on RowBasedKeyValueBatch. Will not spill but return 0.\n",
      "2024-11-26T00:34:43,430 WARN [Executor task launch worker for task 0.0 in stage 121.0 (TID 119)] org.apache.spark.sql.catalyst.expressions.RowBasedKeyValueBatch - Calling spill() on RowBasedKeyValueBatch. Will not spill but return 0.\n",
      "2024-11-26T00:34:43,441 WARN [Executor task launch worker for task 0.0 in stage 121.0 (TID 119)] org.apache.spark.sql.catalyst.expressions.RowBasedKeyValueBatch - Calling spill() on RowBasedKeyValueBatch. Will not spill but return 0.\n",
      "2024-11-26T00:34:44,776 WARN [Executor task launch worker for task 0.0 in stage 121.0 (TID 119)] org.apache.spark.sql.catalyst.expressions.RowBasedKeyValueBatch - Calling spill() on RowBasedKeyValueBatch. Will not spill but return 0.\n",
      "2024-11-26T00:34:44,788 WARN [Executor task launch worker for task 0.0 in stage 121.0 (TID 119)] org.apache.spark.sql.catalyst.expressions.RowBasedKeyValueBatch - Calling spill() on RowBasedKeyValueBatch. Will not spill but return 0.\n",
      "2024-11-26T00:34:46,244 WARN [Executor task launch worker for task 0.0 in stage 121.0 (TID 119)] org.apache.spark.sql.catalyst.expressions.RowBasedKeyValueBatch - Calling spill() on RowBasedKeyValueBatch. Will not spill but return 0.\n",
      "2024-11-26T00:34:46,256 WARN [Executor task launch worker for task 0.0 in stage 121.0 (TID 119)] org.apache.spark.sql.catalyst.expressions.RowBasedKeyValueBatch - Calling spill() on RowBasedKeyValueBatch. Will not spill but return 0.\n",
      "2024-11-26T00:34:47,702 WARN [Executor task launch worker for task 0.0 in stage 121.0 (TID 119)] org.apache.spark.sql.catalyst.expressions.RowBasedKeyValueBatch - Calling spill() on RowBasedKeyValueBatch. Will not spill but return 0.\n",
      "2024-11-26T00:34:47,714 WARN [Executor task launch worker for task 0.0 in stage 121.0 (TID 119)] org.apache.spark.sql.catalyst.expressions.RowBasedKeyValueBatch - Calling spill() on RowBasedKeyValueBatch. Will not spill but return 0.\n",
      "2024-11-26T00:34:49,043 WARN [Executor task launch worker for task 0.0 in stage 121.0 (TID 119)] org.apache.spark.sql.catalyst.expressions.RowBasedKeyValueBatch - Calling spill() on RowBasedKeyValueBatch. Will not spill but return 0.\n",
      "2024-11-26T00:34:49,055 WARN [Executor task launch worker for task 0.0 in stage 121.0 (TID 119)] org.apache.spark.sql.catalyst.expressions.RowBasedKeyValueBatch - Calling spill() on RowBasedKeyValueBatch. Will not spill but return 0.\n",
      "2024-11-26T00:34:50,395 WARN [Executor task launch worker for task 0.0 in stage 121.0 (TID 119)] org.apache.spark.sql.catalyst.expressions.RowBasedKeyValueBatch - Calling spill() on RowBasedKeyValueBatch. Will not spill but return 0.\n",
      "2024-11-26T00:34:50,407 WARN [Executor task launch worker for task 0.0 in stage 121.0 (TID 119)] org.apache.spark.sql.catalyst.expressions.RowBasedKeyValueBatch - Calling spill() on RowBasedKeyValueBatch. Will not spill but return 0.\n",
      "2024-11-26T00:34:51,714 WARN [Executor task launch worker for task 0.0 in stage 121.0 (TID 119)] org.apache.spark.sql.catalyst.expressions.RowBasedKeyValueBatch - Calling spill() on RowBasedKeyValueBatch. Will not spill but return 0.\n",
      "2024-11-26T00:34:51,725 WARN [Executor task launch worker for task 0.0 in stage 121.0 (TID 119)] org.apache.spark.sql.catalyst.expressions.RowBasedKeyValueBatch - Calling spill() on RowBasedKeyValueBatch. Will not spill but return 0.\n",
      "2024-11-26T00:34:53,020 WARN [Executor task launch worker for task 0.0 in stage 121.0 (TID 119)] org.apache.spark.sql.catalyst.expressions.RowBasedKeyValueBatch - Calling spill() on RowBasedKeyValueBatch. Will not spill but return 0.\n",
      "2024-11-26T00:34:53,031 WARN [Executor task launch worker for task 0.0 in stage 121.0 (TID 119)] org.apache.spark.sql.catalyst.expressions.RowBasedKeyValueBatch - Calling spill() on RowBasedKeyValueBatch. Will not spill but return 0.\n",
      "2024-11-26T00:34:54,412 WARN [Executor task launch worker for task 0.0 in stage 121.0 (TID 119)] org.apache.spark.sql.catalyst.expressions.RowBasedKeyValueBatch - Calling spill() on RowBasedKeyValueBatch. Will not spill but return 0.\n",
      "2024-11-26T00:34:54,423 WARN [Executor task launch worker for task 0.0 in stage 121.0 (TID 119)] org.apache.spark.sql.catalyst.expressions.RowBasedKeyValueBatch - Calling spill() on RowBasedKeyValueBatch. Will not spill but return 0.\n",
      "2024-11-26T00:34:55,821 WARN [Executor task launch worker for task 0.0 in stage 121.0 (TID 119)] org.apache.spark.sql.catalyst.expressions.RowBasedKeyValueBatch - Calling spill() on RowBasedKeyValueBatch. Will not spill but return 0.\n",
      "2024-11-26T00:34:55,833 WARN [Executor task launch worker for task 0.0 in stage 121.0 (TID 119)] org.apache.spark.sql.catalyst.expressions.RowBasedKeyValueBatch - Calling spill() on RowBasedKeyValueBatch. Will not spill but return 0.\n",
      "2024-11-26T00:34:57,322 WARN [Executor task launch worker for task 0.0 in stage 121.0 (TID 119)] org.apache.spark.sql.catalyst.expressions.RowBasedKeyValueBatch - Calling spill() on RowBasedKeyValueBatch. Will not spill but return 0.\n",
      "2024-11-26T00:34:57,333 WARN [Executor task launch worker for task 0.0 in stage 121.0 (TID 119)] org.apache.spark.sql.catalyst.expressions.RowBasedKeyValueBatch - Calling spill() on RowBasedKeyValueBatch. Will not spill but return 0.\n",
      "2024-11-26T00:34:59,023 WARN [Executor task launch worker for task 0.0 in stage 121.0 (TID 119)] org.apache.spark.sql.catalyst.expressions.RowBasedKeyValueBatch - Calling spill() on RowBasedKeyValueBatch. Will not spill but return 0.\n",
      "2024-11-26T00:34:59,035 WARN [Executor task launch worker for task 0.0 in stage 121.0 (TID 119)] org.apache.spark.sql.catalyst.expressions.RowBasedKeyValueBatch - Calling spill() on RowBasedKeyValueBatch. Will not spill but return 0.\n",
      "2024-11-26T00:35:00,424 WARN [Executor task launch worker for task 0.0 in stage 121.0 (TID 119)] org.apache.spark.sql.catalyst.expressions.RowBasedKeyValueBatch - Calling spill() on RowBasedKeyValueBatch. Will not spill but return 0.\n",
      "2024-11-26T00:35:00,436 WARN [Executor task launch worker for task 0.0 in stage 121.0 (TID 119)] org.apache.spark.sql.catalyst.expressions.RowBasedKeyValueBatch - Calling spill() on RowBasedKeyValueBatch. Will not spill but return 0.\n",
      "2024-11-26T00:35:01,801 WARN [Executor task launch worker for task 0.0 in stage 121.0 (TID 119)] org.apache.spark.sql.catalyst.expressions.RowBasedKeyValueBatch - Calling spill() on RowBasedKeyValueBatch. Will not spill but return 0.\n",
      "2024-11-26T00:35:01,813 WARN [Executor task launch worker for task 0.0 in stage 121.0 (TID 119)] org.apache.spark.sql.catalyst.expressions.RowBasedKeyValueBatch - Calling spill() on RowBasedKeyValueBatch. Will not spill but return 0.\n",
      "2024-11-26T00:35:03,156 WARN [Executor task launch worker for task 0.0 in stage 121.0 (TID 119)] org.apache.spark.sql.catalyst.expressions.RowBasedKeyValueBatch - Calling spill() on RowBasedKeyValueBatch. Will not spill but return 0.\n",
      "2024-11-26T00:35:03,178 WARN [Executor task launch worker for task 0.0 in stage 121.0 (TID 119)] org.apache.spark.sql.catalyst.expressions.RowBasedKeyValueBatch - Calling spill() on RowBasedKeyValueBatch. Will not spill but return 0.\n",
      "2024-11-26T00:35:04,561 WARN [Executor task launch worker for task 0.0 in stage 121.0 (TID 119)] org.apache.spark.sql.catalyst.expressions.RowBasedKeyValueBatch - Calling spill() on RowBasedKeyValueBatch. Will not spill but return 0.\n",
      "2024-11-26T00:35:04,573 WARN [Executor task launch worker for task 0.0 in stage 121.0 (TID 119)] org.apache.spark.sql.catalyst.expressions.RowBasedKeyValueBatch - Calling spill() on RowBasedKeyValueBatch. Will not spill but return 0.\n",
      "2024-11-26T00:35:05,927 WARN [Executor task launch worker for task 0.0 in stage 121.0 (TID 119)] org.apache.spark.sql.catalyst.expressions.RowBasedKeyValueBatch - Calling spill() on RowBasedKeyValueBatch. Will not spill but return 0.\n",
      "2024-11-26T00:35:05,938 WARN [Executor task launch worker for task 0.0 in stage 121.0 (TID 119)] org.apache.spark.sql.catalyst.expressions.RowBasedKeyValueBatch - Calling spill() on RowBasedKeyValueBatch. Will not spill but return 0.\n",
      "2024-11-26T00:35:07,605 WARN [Executor task launch worker for task 0.0 in stage 121.0 (TID 119)] org.apache.spark.sql.catalyst.expressions.RowBasedKeyValueBatch - Calling spill() on RowBasedKeyValueBatch. Will not spill but return 0.\n",
      "2024-11-26T00:35:07,617 WARN [Executor task launch worker for task 0.0 in stage 121.0 (TID 119)] org.apache.spark.sql.catalyst.expressions.RowBasedKeyValueBatch - Calling spill() on RowBasedKeyValueBatch. Will not spill but return 0.\n"
     ]
    },
    {
     "name": "stderr",
     "output_type": "stream",
     "text": [
      "[Stage 121:>                                                        (0 + 1) / 1]\r"
     ]
    },
    {
     "name": "stdout",
     "output_type": "stream",
     "text": [
      "2024-11-26T00:35:08,952 WARN [Executor task launch worker for task 0.0 in stage 121.0 (TID 119)] org.apache.spark.sql.catalyst.expressions.RowBasedKeyValueBatch - Calling spill() on RowBasedKeyValueBatch. Will not spill but return 0.\n",
      "2024-11-26T00:35:08,974 WARN [Executor task launch worker for task 0.0 in stage 121.0 (TID 119)] org.apache.spark.sql.catalyst.expressions.RowBasedKeyValueBatch - Calling spill() on RowBasedKeyValueBatch. Will not spill but return 0.\n",
      "2024-11-26T00:35:10,398 WARN [Executor task launch worker for task 0.0 in stage 121.0 (TID 119)] org.apache.spark.sql.catalyst.expressions.RowBasedKeyValueBatch - Calling spill() on RowBasedKeyValueBatch. Will not spill but return 0.\n",
      "2024-11-26T00:35:10,409 WARN [Executor task launch worker for task 0.0 in stage 121.0 (TID 119)] org.apache.spark.sql.catalyst.expressions.RowBasedKeyValueBatch - Calling spill() on RowBasedKeyValueBatch. Will not spill but return 0.\n",
      "2024-11-26T00:35:11,860 WARN [Executor task launch worker for task 0.0 in stage 121.0 (TID 119)] org.apache.spark.sql.catalyst.expressions.RowBasedKeyValueBatch - Calling spill() on RowBasedKeyValueBatch. Will not spill but return 0.\n",
      "2024-11-26T00:35:11,871 WARN [Executor task launch worker for task 0.0 in stage 121.0 (TID 119)] org.apache.spark.sql.catalyst.expressions.RowBasedKeyValueBatch - Calling spill() on RowBasedKeyValueBatch. Will not spill but return 0.\n",
      "2024-11-26T00:35:13,346 WARN [Executor task launch worker for task 0.0 in stage 121.0 (TID 119)] org.apache.spark.sql.catalyst.expressions.RowBasedKeyValueBatch - Calling spill() on RowBasedKeyValueBatch. Will not spill but return 0.\n",
      "2024-11-26T00:35:13,357 WARN [Executor task launch worker for task 0.0 in stage 121.0 (TID 119)] org.apache.spark.sql.catalyst.expressions.RowBasedKeyValueBatch - Calling spill() on RowBasedKeyValueBatch. Will not spill but return 0.\n",
      "2024-11-26T00:35:14,688 WARN [Executor task launch worker for task 0.0 in stage 121.0 (TID 119)] org.apache.spark.sql.catalyst.expressions.RowBasedKeyValueBatch - Calling spill() on RowBasedKeyValueBatch. Will not spill but return 0.\n",
      "2024-11-26T00:35:14,700 WARN [Executor task launch worker for task 0.0 in stage 121.0 (TID 119)] org.apache.spark.sql.catalyst.expressions.RowBasedKeyValueBatch - Calling spill() on RowBasedKeyValueBatch. Will not spill but return 0.\n",
      "2024-11-26T00:35:16,102 WARN [Executor task launch worker for task 0.0 in stage 121.0 (TID 119)] org.apache.spark.sql.catalyst.expressions.RowBasedKeyValueBatch - Calling spill() on RowBasedKeyValueBatch. Will not spill but return 0.\n",
      "2024-11-26T00:35:16,113 WARN [Executor task launch worker for task 0.0 in stage 121.0 (TID 119)] org.apache.spark.sql.catalyst.expressions.RowBasedKeyValueBatch - Calling spill() on RowBasedKeyValueBatch. Will not spill but return 0.\n",
      "2024-11-26T00:35:17,542 WARN [Executor task launch worker for task 0.0 in stage 121.0 (TID 119)] org.apache.spark.sql.catalyst.expressions.RowBasedKeyValueBatch - Calling spill() on RowBasedKeyValueBatch. Will not spill but return 0.\n",
      "2024-11-26T00:35:17,554 WARN [Executor task launch worker for task 0.0 in stage 121.0 (TID 119)] org.apache.spark.sql.catalyst.expressions.RowBasedKeyValueBatch - Calling spill() on RowBasedKeyValueBatch. Will not spill but return 0.\n",
      "2024-11-26T00:35:18,903 WARN [Executor task launch worker for task 0.0 in stage 121.0 (TID 119)] org.apache.spark.sql.catalyst.expressions.RowBasedKeyValueBatch - Calling spill() on RowBasedKeyValueBatch. Will not spill but return 0.\n",
      "2024-11-26T00:35:18,917 WARN [Executor task launch worker for task 0.0 in stage 121.0 (TID 119)] org.apache.spark.sql.catalyst.expressions.RowBasedKeyValueBatch - Calling spill() on RowBasedKeyValueBatch. Will not spill but return 0.\n",
      "2024-11-26T00:35:20,379 WARN [Executor task launch worker for task 0.0 in stage 121.0 (TID 119)] org.apache.spark.sql.catalyst.expressions.RowBasedKeyValueBatch - Calling spill() on RowBasedKeyValueBatch. Will not spill but return 0.\n",
      "2024-11-26T00:35:20,392 WARN [Executor task launch worker for task 0.0 in stage 121.0 (TID 119)] org.apache.spark.sql.catalyst.expressions.RowBasedKeyValueBatch - Calling spill() on RowBasedKeyValueBatch. Will not spill but return 0.\n",
      "2024-11-26T00:35:21,826 WARN [Executor task launch worker for task 0.0 in stage 121.0 (TID 119)] org.apache.spark.sql.catalyst.expressions.RowBasedKeyValueBatch - Calling spill() on RowBasedKeyValueBatch. Will not spill but return 0.\n",
      "2024-11-26T00:35:21,838 WARN [Executor task launch worker for task 0.0 in stage 121.0 (TID 119)] org.apache.spark.sql.catalyst.expressions.RowBasedKeyValueBatch - Calling spill() on RowBasedKeyValueBatch. Will not spill but return 0.\n",
      "2024-11-26T00:35:23,247 WARN [Executor task launch worker for task 0.0 in stage 121.0 (TID 119)] org.apache.spark.sql.catalyst.expressions.RowBasedKeyValueBatch - Calling spill() on RowBasedKeyValueBatch. Will not spill but return 0.\n",
      "2024-11-26T00:35:23,259 WARN [Executor task launch worker for task 0.0 in stage 121.0 (TID 119)] org.apache.spark.sql.catalyst.expressions.RowBasedKeyValueBatch - Calling spill() on RowBasedKeyValueBatch. Will not spill but return 0.\n",
      "2024-11-26T00:35:24,740 WARN [Executor task launch worker for task 0.0 in stage 121.0 (TID 119)] org.apache.spark.sql.catalyst.expressions.RowBasedKeyValueBatch - Calling spill() on RowBasedKeyValueBatch. Will not spill but return 0.\n",
      "2024-11-26T00:35:24,751 WARN [Executor task launch worker for task 0.0 in stage 121.0 (TID 119)] org.apache.spark.sql.catalyst.expressions.RowBasedKeyValueBatch - Calling spill() on RowBasedKeyValueBatch. Will not spill but return 0.\n",
      "2024-11-26T00:35:26,181 WARN [Executor task launch worker for task 0.0 in stage 121.0 (TID 119)] org.apache.spark.sql.catalyst.expressions.RowBasedKeyValueBatch - Calling spill() on RowBasedKeyValueBatch. Will not spill but return 0.\n",
      "2024-11-26T00:35:26,194 WARN [Executor task launch worker for task 0.0 in stage 121.0 (TID 119)] org.apache.spark.sql.catalyst.expressions.RowBasedKeyValueBatch - Calling spill() on RowBasedKeyValueBatch. Will not spill but return 0.\n",
      "2024-11-26T00:35:27,646 WARN [Executor task launch worker for task 0.0 in stage 121.0 (TID 119)] org.apache.spark.sql.catalyst.expressions.RowBasedKeyValueBatch - Calling spill() on RowBasedKeyValueBatch. Will not spill but return 0.\n",
      "2024-11-26T00:35:27,657 WARN [Executor task launch worker for task 0.0 in stage 121.0 (TID 119)] org.apache.spark.sql.catalyst.expressions.RowBasedKeyValueBatch - Calling spill() on RowBasedKeyValueBatch. Will not spill but return 0.\n",
      "2024-11-26T00:35:29,595 WARN [Executor task launch worker for task 0.0 in stage 121.0 (TID 119)] org.apache.spark.sql.catalyst.expressions.RowBasedKeyValueBatch - Calling spill() on RowBasedKeyValueBatch. Will not spill but return 0.\n",
      "2024-11-26T00:35:29,607 WARN [Executor task launch worker for task 0.0 in stage 121.0 (TID 119)] org.apache.spark.sql.catalyst.expressions.RowBasedKeyValueBatch - Calling spill() on RowBasedKeyValueBatch. Will not spill but return 0.\n",
      "2024-11-26T00:35:31,193 WARN [Executor task launch worker for task 0.0 in stage 121.0 (TID 119)] org.apache.spark.sql.catalyst.expressions.RowBasedKeyValueBatch - Calling spill() on RowBasedKeyValueBatch. Will not spill but return 0.\n",
      "2024-11-26T00:35:31,205 WARN [Executor task launch worker for task 0.0 in stage 121.0 (TID 119)] org.apache.spark.sql.catalyst.expressions.RowBasedKeyValueBatch - Calling spill() on RowBasedKeyValueBatch. Will not spill but return 0.\n",
      "2024-11-26T00:35:32,672 WARN [Executor task launch worker for task 0.0 in stage 121.0 (TID 119)] org.apache.spark.sql.catalyst.expressions.RowBasedKeyValueBatch - Calling spill() on RowBasedKeyValueBatch. Will not spill but return 0.\n",
      "2024-11-26T00:35:32,684 WARN [Executor task launch worker for task 0.0 in stage 121.0 (TID 119)] org.apache.spark.sql.catalyst.expressions.RowBasedKeyValueBatch - Calling spill() on RowBasedKeyValueBatch. Will not spill but return 0.\n",
      "2024-11-26T00:35:34,071 WARN [Executor task launch worker for task 0.0 in stage 121.0 (TID 119)] org.apache.spark.sql.catalyst.expressions.RowBasedKeyValueBatch - Calling spill() on RowBasedKeyValueBatch. Will not spill but return 0.\n",
      "2024-11-26T00:35:34,083 WARN [Executor task launch worker for task 0.0 in stage 121.0 (TID 119)] org.apache.spark.sql.catalyst.expressions.RowBasedKeyValueBatch - Calling spill() on RowBasedKeyValueBatch. Will not spill but return 0.\n",
      "2024-11-26T00:35:35,487 WARN [Executor task launch worker for task 0.0 in stage 121.0 (TID 119)] org.apache.spark.sql.catalyst.expressions.RowBasedKeyValueBatch - Calling spill() on RowBasedKeyValueBatch. Will not spill but return 0.\n",
      "2024-11-26T00:35:35,498 WARN [Executor task launch worker for task 0.0 in stage 121.0 (TID 119)] org.apache.spark.sql.catalyst.expressions.RowBasedKeyValueBatch - Calling spill() on RowBasedKeyValueBatch. Will not spill but return 0.\n",
      "2024-11-26T00:35:36,860 WARN [Executor task launch worker for task 0.0 in stage 121.0 (TID 119)] org.apache.spark.sql.catalyst.expressions.RowBasedKeyValueBatch - Calling spill() on RowBasedKeyValueBatch. Will not spill but return 0.\n",
      "2024-11-26T00:35:36,871 WARN [Executor task launch worker for task 0.0 in stage 121.0 (TID 119)] org.apache.spark.sql.catalyst.expressions.RowBasedKeyValueBatch - Calling spill() on RowBasedKeyValueBatch. Will not spill but return 0.\n",
      "2024-11-26T00:35:38,190 WARN [Executor task launch worker for task 0.0 in stage 121.0 (TID 119)] org.apache.spark.sql.catalyst.expressions.RowBasedKeyValueBatch - Calling spill() on RowBasedKeyValueBatch. Will not spill but return 0.\n",
      "2024-11-26T00:35:38,202 WARN [Executor task launch worker for task 0.0 in stage 121.0 (TID 119)] org.apache.spark.sql.catalyst.expressions.RowBasedKeyValueBatch - Calling spill() on RowBasedKeyValueBatch. Will not spill but return 0.\n",
      "2024-11-26T00:35:39,579 WARN [Executor task launch worker for task 0.0 in stage 121.0 (TID 119)] org.apache.spark.sql.catalyst.expressions.RowBasedKeyValueBatch - Calling spill() on RowBasedKeyValueBatch. Will not spill but return 0.\n",
      "2024-11-26T00:35:39,596 WARN [Executor task launch worker for task 0.0 in stage 121.0 (TID 119)] org.apache.spark.sql.catalyst.expressions.RowBasedKeyValueBatch - Calling spill() on RowBasedKeyValueBatch. Will not spill but return 0.\n",
      "2024-11-26T00:35:41,151 WARN [Executor task launch worker for task 0.0 in stage 121.0 (TID 119)] org.apache.spark.sql.catalyst.expressions.RowBasedKeyValueBatch - Calling spill() on RowBasedKeyValueBatch. Will not spill but return 0.\n",
      "2024-11-26T00:35:41,163 WARN [Executor task launch worker for task 0.0 in stage 121.0 (TID 119)] org.apache.spark.sql.catalyst.expressions.RowBasedKeyValueBatch - Calling spill() on RowBasedKeyValueBatch. Will not spill but return 0.\n",
      "2024-11-26T00:35:42,506 WARN [Executor task launch worker for task 0.0 in stage 121.0 (TID 119)] org.apache.spark.sql.catalyst.expressions.RowBasedKeyValueBatch - Calling spill() on RowBasedKeyValueBatch. Will not spill but return 0.\n",
      "2024-11-26T00:35:42,518 WARN [Executor task launch worker for task 0.0 in stage 121.0 (TID 119)] org.apache.spark.sql.catalyst.expressions.RowBasedKeyValueBatch - Calling spill() on RowBasedKeyValueBatch. Will not spill but return 0.\n",
      "2024-11-26T00:35:43,932 WARN [Executor task launch worker for task 0.0 in stage 121.0 (TID 119)] org.apache.spark.sql.catalyst.expressions.RowBasedKeyValueBatch - Calling spill() on RowBasedKeyValueBatch. Will not spill but return 0.\n",
      "2024-11-26T00:35:43,944 WARN [Executor task launch worker for task 0.0 in stage 121.0 (TID 119)] org.apache.spark.sql.catalyst.expressions.RowBasedKeyValueBatch - Calling spill() on RowBasedKeyValueBatch. Will not spill but return 0.\n",
      "2024-11-26T00:35:45,281 WARN [Executor task launch worker for task 0.0 in stage 121.0 (TID 119)] org.apache.spark.sql.catalyst.expressions.RowBasedKeyValueBatch - Calling spill() on RowBasedKeyValueBatch. Will not spill but return 0.\n",
      "2024-11-26T00:35:45,293 WARN [Executor task launch worker for task 0.0 in stage 121.0 (TID 119)] org.apache.spark.sql.catalyst.expressions.RowBasedKeyValueBatch - Calling spill() on RowBasedKeyValueBatch. Will not spill but return 0.\n",
      "2024-11-26T00:35:46,755 WARN [Executor task launch worker for task 0.0 in stage 121.0 (TID 119)] org.apache.spark.sql.catalyst.expressions.RowBasedKeyValueBatch - Calling spill() on RowBasedKeyValueBatch. Will not spill but return 0.\n",
      "2024-11-26T00:35:46,766 WARN [Executor task launch worker for task 0.0 in stage 121.0 (TID 119)] org.apache.spark.sql.catalyst.expressions.RowBasedKeyValueBatch - Calling spill() on RowBasedKeyValueBatch. Will not spill but return 0.\n",
      "2024-11-26T00:35:48,215 WARN [Executor task launch worker for task 0.0 in stage 121.0 (TID 119)] org.apache.spark.sql.catalyst.expressions.RowBasedKeyValueBatch - Calling spill() on RowBasedKeyValueBatch. Will not spill but return 0.\n",
      "2024-11-26T00:35:48,237 WARN [Executor task launch worker for task 0.0 in stage 121.0 (TID 119)] org.apache.spark.sql.catalyst.expressions.RowBasedKeyValueBatch - Calling spill() on RowBasedKeyValueBatch. Will not spill but return 0.\n",
      "2024-11-26T00:35:49,622 WARN [Executor task launch worker for task 0.0 in stage 121.0 (TID 119)] org.apache.spark.sql.catalyst.expressions.RowBasedKeyValueBatch - Calling spill() on RowBasedKeyValueBatch. Will not spill but return 0.\n",
      "2024-11-26T00:35:49,633 WARN [Executor task launch worker for task 0.0 in stage 121.0 (TID 119)] org.apache.spark.sql.catalyst.expressions.RowBasedKeyValueBatch - Calling spill() on RowBasedKeyValueBatch. Will not spill but return 0.\n",
      "2024-11-26T00:35:51,048 WARN [Executor task launch worker for task 0.0 in stage 121.0 (TID 119)] org.apache.spark.sql.catalyst.expressions.RowBasedKeyValueBatch - Calling spill() on RowBasedKeyValueBatch. Will not spill but return 0.\n",
      "2024-11-26T00:35:51,059 WARN [Executor task launch worker for task 0.0 in stage 121.0 (TID 119)] org.apache.spark.sql.catalyst.expressions.RowBasedKeyValueBatch - Calling spill() on RowBasedKeyValueBatch. Will not spill but return 0.\n",
      "2024-11-26T00:35:52,704 WARN [Executor task launch worker for task 0.0 in stage 121.0 (TID 119)] org.apache.spark.sql.catalyst.expressions.RowBasedKeyValueBatch - Calling spill() on RowBasedKeyValueBatch. Will not spill but return 0.\n",
      "2024-11-26T00:35:52,716 WARN [Executor task launch worker for task 0.0 in stage 121.0 (TID 119)] org.apache.spark.sql.catalyst.expressions.RowBasedKeyValueBatch - Calling spill() on RowBasedKeyValueBatch. Will not spill but return 0.\n",
      "2024-11-26T00:35:54,138 WARN [Executor task launch worker for task 0.0 in stage 121.0 (TID 119)] org.apache.spark.sql.catalyst.expressions.RowBasedKeyValueBatch - Calling spill() on RowBasedKeyValueBatch. Will not spill but return 0.\n",
      "2024-11-26T00:35:54,151 WARN [Executor task launch worker for task 0.0 in stage 121.0 (TID 119)] org.apache.spark.sql.catalyst.expressions.RowBasedKeyValueBatch - Calling spill() on RowBasedKeyValueBatch. Will not spill but return 0.\n",
      "2024-11-26T00:35:55,485 WARN [Executor task launch worker for task 0.0 in stage 121.0 (TID 119)] org.apache.spark.sql.catalyst.expressions.RowBasedKeyValueBatch - Calling spill() on RowBasedKeyValueBatch. Will not spill but return 0.\n",
      "2024-11-26T00:35:55,496 WARN [Executor task launch worker for task 0.0 in stage 121.0 (TID 119)] org.apache.spark.sql.catalyst.expressions.RowBasedKeyValueBatch - Calling spill() on RowBasedKeyValueBatch. Will not spill but return 0.\n",
      "2024-11-26T00:35:56,968 WARN [Executor task launch worker for task 0.0 in stage 121.0 (TID 119)] org.apache.spark.sql.catalyst.expressions.RowBasedKeyValueBatch - Calling spill() on RowBasedKeyValueBatch. Will not spill but return 0.\n",
      "2024-11-26T00:35:56,980 WARN [Executor task launch worker for task 0.0 in stage 121.0 (TID 119)] org.apache.spark.sql.catalyst.expressions.RowBasedKeyValueBatch - Calling spill() on RowBasedKeyValueBatch. Will not spill but return 0.\n",
      "2024-11-26T00:35:58,437 WARN [Executor task launch worker for task 0.0 in stage 121.0 (TID 119)] org.apache.spark.sql.catalyst.expressions.RowBasedKeyValueBatch - Calling spill() on RowBasedKeyValueBatch. Will not spill but return 0.\n",
      "2024-11-26T00:35:58,458 WARN [Executor task launch worker for task 0.0 in stage 121.0 (TID 119)] org.apache.spark.sql.catalyst.expressions.RowBasedKeyValueBatch - Calling spill() on RowBasedKeyValueBatch. Will not spill but return 0.\n",
      "2024-11-26T00:35:59,834 WARN [Executor task launch worker for task 0.0 in stage 121.0 (TID 119)] org.apache.spark.sql.catalyst.expressions.RowBasedKeyValueBatch - Calling spill() on RowBasedKeyValueBatch. Will not spill but return 0.\n",
      "2024-11-26T00:35:59,845 WARN [Executor task launch worker for task 0.0 in stage 121.0 (TID 119)] org.apache.spark.sql.catalyst.expressions.RowBasedKeyValueBatch - Calling spill() on RowBasedKeyValueBatch. Will not spill but return 0.\n",
      "2024-11-26T00:36:01,283 WARN [Executor task launch worker for task 0.0 in stage 121.0 (TID 119)] org.apache.spark.sql.catalyst.expressions.RowBasedKeyValueBatch - Calling spill() on RowBasedKeyValueBatch. Will not spill but return 0.\n",
      "2024-11-26T00:36:01,306 WARN [Executor task launch worker for task 0.0 in stage 121.0 (TID 119)] org.apache.spark.sql.catalyst.expressions.RowBasedKeyValueBatch - Calling spill() on RowBasedKeyValueBatch. Will not spill but return 0.\n",
      "2024-11-26T00:36:02,817 WARN [Executor task launch worker for task 0.0 in stage 121.0 (TID 119)] org.apache.spark.sql.catalyst.expressions.RowBasedKeyValueBatch - Calling spill() on RowBasedKeyValueBatch. Will not spill but return 0.\n",
      "2024-11-26T00:36:02,828 WARN [Executor task launch worker for task 0.0 in stage 121.0 (TID 119)] org.apache.spark.sql.catalyst.expressions.RowBasedKeyValueBatch - Calling spill() on RowBasedKeyValueBatch. Will not spill but return 0.\n",
      "2024-11-26T00:36:04,192 WARN [Executor task launch worker for task 0.0 in stage 121.0 (TID 119)] org.apache.spark.sql.catalyst.expressions.RowBasedKeyValueBatch - Calling spill() on RowBasedKeyValueBatch. Will not spill but return 0.\n",
      "2024-11-26T00:36:04,208 WARN [Executor task launch worker for task 0.0 in stage 121.0 (TID 119)] org.apache.spark.sql.catalyst.expressions.RowBasedKeyValueBatch - Calling spill() on RowBasedKeyValueBatch. Will not spill but return 0.\n",
      "2024-11-26T00:36:05,819 WARN [Executor task launch worker for task 0.0 in stage 121.0 (TID 119)] org.apache.spark.sql.catalyst.expressions.RowBasedKeyValueBatch - Calling spill() on RowBasedKeyValueBatch. Will not spill but return 0.\n",
      "2024-11-26T00:36:05,830 WARN [Executor task launch worker for task 0.0 in stage 121.0 (TID 119)] org.apache.spark.sql.catalyst.expressions.RowBasedKeyValueBatch - Calling spill() on RowBasedKeyValueBatch. Will not spill but return 0.\n",
      "2024-11-26T00:36:07,278 WARN [Executor task launch worker for task 0.0 in stage 121.0 (TID 119)] org.apache.spark.sql.catalyst.expressions.RowBasedKeyValueBatch - Calling spill() on RowBasedKeyValueBatch. Will not spill but return 0.\n",
      "2024-11-26T00:36:07,289 WARN [Executor task launch worker for task 0.0 in stage 121.0 (TID 119)] org.apache.spark.sql.catalyst.expressions.RowBasedKeyValueBatch - Calling spill() on RowBasedKeyValueBatch. Will not spill but return 0.\n"
     ]
    },
    {
     "name": "stderr",
     "output_type": "stream",
     "text": [
      "[Stage 121:>                                                        (0 + 1) / 1]\r"
     ]
    },
    {
     "name": "stdout",
     "output_type": "stream",
     "text": [
      "2024-11-26T00:36:08,720 WARN [Executor task launch worker for task 0.0 in stage 121.0 (TID 119)] org.apache.spark.sql.catalyst.expressions.RowBasedKeyValueBatch - Calling spill() on RowBasedKeyValueBatch. Will not spill but return 0.\n",
      "2024-11-26T00:36:08,738 WARN [Executor task launch worker for task 0.0 in stage 121.0 (TID 119)] org.apache.spark.sql.catalyst.expressions.RowBasedKeyValueBatch - Calling spill() on RowBasedKeyValueBatch. Will not spill but return 0.\n",
      "2024-11-26T00:36:10,103 WARN [Executor task launch worker for task 0.0 in stage 121.0 (TID 119)] org.apache.spark.sql.catalyst.expressions.RowBasedKeyValueBatch - Calling spill() on RowBasedKeyValueBatch. Will not spill but return 0.\n",
      "2024-11-26T00:36:10,117 WARN [Executor task launch worker for task 0.0 in stage 121.0 (TID 119)] org.apache.spark.sql.catalyst.expressions.RowBasedKeyValueBatch - Calling spill() on RowBasedKeyValueBatch. Will not spill but return 0.\n",
      "2024-11-26T00:36:11,755 WARN [Executor task launch worker for task 0.0 in stage 121.0 (TID 119)] org.apache.spark.sql.catalyst.expressions.RowBasedKeyValueBatch - Calling spill() on RowBasedKeyValueBatch. Will not spill but return 0.\n",
      "2024-11-26T00:36:11,769 WARN [Executor task launch worker for task 0.0 in stage 121.0 (TID 119)] org.apache.spark.sql.catalyst.expressions.RowBasedKeyValueBatch - Calling spill() on RowBasedKeyValueBatch. Will not spill but return 0.\n",
      "2024-11-26T00:36:13,109 WARN [Executor task launch worker for task 0.0 in stage 121.0 (TID 119)] org.apache.spark.sql.catalyst.expressions.RowBasedKeyValueBatch - Calling spill() on RowBasedKeyValueBatch. Will not spill but return 0.\n",
      "2024-11-26T00:36:13,121 WARN [Executor task launch worker for task 0.0 in stage 121.0 (TID 119)] org.apache.spark.sql.catalyst.expressions.RowBasedKeyValueBatch - Calling spill() on RowBasedKeyValueBatch. Will not spill but return 0.\n",
      "2024-11-26T00:36:14,419 WARN [Executor task launch worker for task 0.0 in stage 121.0 (TID 119)] org.apache.spark.sql.catalyst.expressions.RowBasedKeyValueBatch - Calling spill() on RowBasedKeyValueBatch. Will not spill but return 0.\n",
      "2024-11-26T00:36:14,431 WARN [Executor task launch worker for task 0.0 in stage 121.0 (TID 119)] org.apache.spark.sql.catalyst.expressions.RowBasedKeyValueBatch - Calling spill() on RowBasedKeyValueBatch. Will not spill but return 0.\n",
      "2024-11-26T00:36:15,936 WARN [Executor task launch worker for task 0.0 in stage 121.0 (TID 119)] org.apache.spark.sql.catalyst.expressions.RowBasedKeyValueBatch - Calling spill() on RowBasedKeyValueBatch. Will not spill but return 0.\n",
      "2024-11-26T00:36:15,946 WARN [Executor task launch worker for task 0.0 in stage 121.0 (TID 119)] org.apache.spark.sql.catalyst.expressions.RowBasedKeyValueBatch - Calling spill() on RowBasedKeyValueBatch. Will not spill but return 0.\n",
      "2024-11-26T00:36:17,371 WARN [Executor task launch worker for task 0.0 in stage 121.0 (TID 119)] org.apache.spark.sql.catalyst.expressions.RowBasedKeyValueBatch - Calling spill() on RowBasedKeyValueBatch. Will not spill but return 0.\n",
      "2024-11-26T00:36:17,391 WARN [Executor task launch worker for task 0.0 in stage 121.0 (TID 119)] org.apache.spark.sql.catalyst.expressions.RowBasedKeyValueBatch - Calling spill() on RowBasedKeyValueBatch. Will not spill but return 0.\n",
      "2024-11-26T00:36:18,945 WARN [Executor task launch worker for task 0.0 in stage 121.0 (TID 119)] org.apache.spark.sql.catalyst.expressions.RowBasedKeyValueBatch - Calling spill() on RowBasedKeyValueBatch. Will not spill but return 0.\n",
      "2024-11-26T00:36:18,957 WARN [Executor task launch worker for task 0.0 in stage 121.0 (TID 119)] org.apache.spark.sql.catalyst.expressions.RowBasedKeyValueBatch - Calling spill() on RowBasedKeyValueBatch. Will not spill but return 0.\n",
      "2024-11-26T00:36:20,622 WARN [Executor task launch worker for task 0.0 in stage 121.0 (TID 119)] org.apache.spark.sql.catalyst.expressions.RowBasedKeyValueBatch - Calling spill() on RowBasedKeyValueBatch. Will not spill but return 0.\n",
      "2024-11-26T00:36:20,634 WARN [Executor task launch worker for task 0.0 in stage 121.0 (TID 119)] org.apache.spark.sql.catalyst.expressions.RowBasedKeyValueBatch - Calling spill() on RowBasedKeyValueBatch. Will not spill but return 0.\n",
      "2024-11-26T00:36:22,134 WARN [Executor task launch worker for task 0.0 in stage 121.0 (TID 119)] org.apache.spark.sql.catalyst.expressions.RowBasedKeyValueBatch - Calling spill() on RowBasedKeyValueBatch. Will not spill but return 0.\n",
      "2024-11-26T00:36:22,149 WARN [Executor task launch worker for task 0.0 in stage 121.0 (TID 119)] org.apache.spark.sql.catalyst.expressions.RowBasedKeyValueBatch - Calling spill() on RowBasedKeyValueBatch. Will not spill but return 0.\n",
      "2024-11-26T00:36:23,581 WARN [Executor task launch worker for task 0.0 in stage 121.0 (TID 119)] org.apache.spark.sql.catalyst.expressions.RowBasedKeyValueBatch - Calling spill() on RowBasedKeyValueBatch. Will not spill but return 0.\n",
      "2024-11-26T00:36:23,850 WARN [Executor task launch worker for task 0.0 in stage 121.0 (TID 119)] org.apache.spark.sql.catalyst.expressions.RowBasedKeyValueBatch - Calling spill() on RowBasedKeyValueBatch. Will not spill but return 0.\n",
      "2024-11-26T00:36:26,323 WARN [Executor task launch worker for task 0.0 in stage 121.0 (TID 119)] org.apache.spark.sql.catalyst.expressions.RowBasedKeyValueBatch - Calling spill() on RowBasedKeyValueBatch. Will not spill but return 0.\n",
      "2024-11-26T00:36:26,341 WARN [Executor task launch worker for task 0.0 in stage 121.0 (TID 119)] org.apache.spark.sql.catalyst.expressions.RowBasedKeyValueBatch - Calling spill() on RowBasedKeyValueBatch. Will not spill but return 0.\n",
      "2024-11-26T00:36:27,655 WARN [Executor task launch worker for task 0.0 in stage 121.0 (TID 119)] org.apache.spark.sql.catalyst.expressions.RowBasedKeyValueBatch - Calling spill() on RowBasedKeyValueBatch. Will not spill but return 0.\n",
      "2024-11-26T00:36:27,666 WARN [Executor task launch worker for task 0.0 in stage 121.0 (TID 119)] org.apache.spark.sql.catalyst.expressions.RowBasedKeyValueBatch - Calling spill() on RowBasedKeyValueBatch. Will not spill but return 0.\n",
      "2024-11-26T00:36:29,132 WARN [Executor task launch worker for task 0.0 in stage 121.0 (TID 119)] org.apache.spark.sql.catalyst.expressions.RowBasedKeyValueBatch - Calling spill() on RowBasedKeyValueBatch. Will not spill but return 0.\n",
      "2024-11-26T00:36:29,144 WARN [Executor task launch worker for task 0.0 in stage 121.0 (TID 119)] org.apache.spark.sql.catalyst.expressions.RowBasedKeyValueBatch - Calling spill() on RowBasedKeyValueBatch. Will not spill but return 0.\n",
      "2024-11-26T00:36:30,530 WARN [Executor task launch worker for task 0.0 in stage 121.0 (TID 119)] org.apache.spark.sql.catalyst.expressions.RowBasedKeyValueBatch - Calling spill() on RowBasedKeyValueBatch. Will not spill but return 0.\n",
      "2024-11-26T00:36:30,542 WARN [Executor task launch worker for task 0.0 in stage 121.0 (TID 119)] org.apache.spark.sql.catalyst.expressions.RowBasedKeyValueBatch - Calling spill() on RowBasedKeyValueBatch. Will not spill but return 0.\n",
      "2024-11-26T00:36:31,857 WARN [Executor task launch worker for task 0.0 in stage 121.0 (TID 119)] org.apache.spark.sql.catalyst.expressions.RowBasedKeyValueBatch - Calling spill() on RowBasedKeyValueBatch. Will not spill but return 0.\n",
      "2024-11-26T00:36:31,868 WARN [Executor task launch worker for task 0.0 in stage 121.0 (TID 119)] org.apache.spark.sql.catalyst.expressions.RowBasedKeyValueBatch - Calling spill() on RowBasedKeyValueBatch. Will not spill but return 0.\n",
      "2024-11-26T00:36:33,209 WARN [Executor task launch worker for task 0.0 in stage 121.0 (TID 119)] org.apache.spark.sql.catalyst.expressions.RowBasedKeyValueBatch - Calling spill() on RowBasedKeyValueBatch. Will not spill but return 0.\n",
      "2024-11-26T00:36:33,221 WARN [Executor task launch worker for task 0.0 in stage 121.0 (TID 119)] org.apache.spark.sql.catalyst.expressions.RowBasedKeyValueBatch - Calling spill() on RowBasedKeyValueBatch. Will not spill but return 0.\n",
      "2024-11-26T00:36:34,729 WARN [Executor task launch worker for task 0.0 in stage 121.0 (TID 119)] org.apache.spark.sql.catalyst.expressions.RowBasedKeyValueBatch - Calling spill() on RowBasedKeyValueBatch. Will not spill but return 0.\n",
      "2024-11-26T00:36:34,740 WARN [Executor task launch worker for task 0.0 in stage 121.0 (TID 119)] org.apache.spark.sql.catalyst.expressions.RowBasedKeyValueBatch - Calling spill() on RowBasedKeyValueBatch. Will not spill but return 0.\n",
      "2024-11-26T00:36:36,211 WARN [Executor task launch worker for task 0.0 in stage 121.0 (TID 119)] org.apache.spark.sql.catalyst.expressions.RowBasedKeyValueBatch - Calling spill() on RowBasedKeyValueBatch. Will not spill but return 0.\n",
      "2024-11-26T00:36:36,223 WARN [Executor task launch worker for task 0.0 in stage 121.0 (TID 119)] org.apache.spark.sql.catalyst.expressions.RowBasedKeyValueBatch - Calling spill() on RowBasedKeyValueBatch. Will not spill but return 0.\n",
      "2024-11-26T00:36:37,731 WARN [Executor task launch worker for task 0.0 in stage 121.0 (TID 119)] org.apache.spark.sql.catalyst.expressions.RowBasedKeyValueBatch - Calling spill() on RowBasedKeyValueBatch. Will not spill but return 0.\n",
      "2024-11-26T00:36:37,764 WARN [Executor task launch worker for task 0.0 in stage 121.0 (TID 119)] org.apache.spark.sql.catalyst.expressions.RowBasedKeyValueBatch - Calling spill() on RowBasedKeyValueBatch. Will not spill but return 0.\n",
      "2024-11-26T00:36:39,190 WARN [Executor task launch worker for task 0.0 in stage 121.0 (TID 119)] org.apache.spark.sql.catalyst.expressions.RowBasedKeyValueBatch - Calling spill() on RowBasedKeyValueBatch. Will not spill but return 0.\n",
      "2024-11-26T00:36:39,202 WARN [Executor task launch worker for task 0.0 in stage 121.0 (TID 119)] org.apache.spark.sql.catalyst.expressions.RowBasedKeyValueBatch - Calling spill() on RowBasedKeyValueBatch. Will not spill but return 0.\n",
      "2024-11-26T00:36:40,958 WARN [Executor task launch worker for task 0.0 in stage 121.0 (TID 119)] org.apache.spark.sql.catalyst.expressions.RowBasedKeyValueBatch - Calling spill() on RowBasedKeyValueBatch. Will not spill but return 0.\n",
      "2024-11-26T00:36:40,980 WARN [Executor task launch worker for task 0.0 in stage 121.0 (TID 119)] org.apache.spark.sql.catalyst.expressions.RowBasedKeyValueBatch - Calling spill() on RowBasedKeyValueBatch. Will not spill but return 0.\n",
      "2024-11-26T00:36:42,394 WARN [Executor task launch worker for task 0.0 in stage 121.0 (TID 119)] org.apache.spark.sql.catalyst.expressions.RowBasedKeyValueBatch - Calling spill() on RowBasedKeyValueBatch. Will not spill but return 0.\n",
      "2024-11-26T00:36:42,406 WARN [Executor task launch worker for task 0.0 in stage 121.0 (TID 119)] org.apache.spark.sql.catalyst.expressions.RowBasedKeyValueBatch - Calling spill() on RowBasedKeyValueBatch. Will not spill but return 0.\n",
      "2024-11-26T00:36:43,720 WARN [Executor task launch worker for task 0.0 in stage 121.0 (TID 119)] org.apache.spark.sql.catalyst.expressions.RowBasedKeyValueBatch - Calling spill() on RowBasedKeyValueBatch. Will not spill but return 0.\n",
      "2024-11-26T00:36:43,731 WARN [Executor task launch worker for task 0.0 in stage 121.0 (TID 119)] org.apache.spark.sql.catalyst.expressions.RowBasedKeyValueBatch - Calling spill() on RowBasedKeyValueBatch. Will not spill but return 0.\n",
      "2024-11-26T00:36:45,136 WARN [Executor task launch worker for task 0.0 in stage 121.0 (TID 119)] org.apache.spark.sql.catalyst.expressions.RowBasedKeyValueBatch - Calling spill() on RowBasedKeyValueBatch. Will not spill but return 0.\n",
      "2024-11-26T00:36:45,158 WARN [Executor task launch worker for task 0.0 in stage 121.0 (TID 119)] org.apache.spark.sql.catalyst.expressions.RowBasedKeyValueBatch - Calling spill() on RowBasedKeyValueBatch. Will not spill but return 0.\n",
      "2024-11-26T00:36:46,683 WARN [Executor task launch worker for task 0.0 in stage 121.0 (TID 119)] org.apache.spark.sql.catalyst.expressions.RowBasedKeyValueBatch - Calling spill() on RowBasedKeyValueBatch. Will not spill but return 0.\n",
      "2024-11-26T00:36:46,695 WARN [Executor task launch worker for task 0.0 in stage 121.0 (TID 119)] org.apache.spark.sql.catalyst.expressions.RowBasedKeyValueBatch - Calling spill() on RowBasedKeyValueBatch. Will not spill but return 0.\n",
      "2024-11-26T00:36:48,043 WARN [Executor task launch worker for task 0.0 in stage 121.0 (TID 119)] org.apache.spark.sql.catalyst.expressions.RowBasedKeyValueBatch - Calling spill() on RowBasedKeyValueBatch. Will not spill but return 0.\n",
      "2024-11-26T00:36:48,054 WARN [Executor task launch worker for task 0.0 in stage 121.0 (TID 119)] org.apache.spark.sql.catalyst.expressions.RowBasedKeyValueBatch - Calling spill() on RowBasedKeyValueBatch. Will not spill but return 0.\n",
      "2024-11-26T00:36:49,696 WARN [Executor task launch worker for task 0.0 in stage 121.0 (TID 119)] org.apache.spark.sql.catalyst.expressions.RowBasedKeyValueBatch - Calling spill() on RowBasedKeyValueBatch. Will not spill but return 0.\n",
      "2024-11-26T00:36:49,710 WARN [Executor task launch worker for task 0.0 in stage 121.0 (TID 119)] org.apache.spark.sql.catalyst.expressions.RowBasedKeyValueBatch - Calling spill() on RowBasedKeyValueBatch. Will not spill but return 0.\n",
      "2024-11-26T00:36:51,079 WARN [Executor task launch worker for task 0.0 in stage 121.0 (TID 119)] org.apache.spark.sql.catalyst.expressions.RowBasedKeyValueBatch - Calling spill() on RowBasedKeyValueBatch. Will not spill but return 0.\n",
      "2024-11-26T00:36:51,090 WARN [Executor task launch worker for task 0.0 in stage 121.0 (TID 119)] org.apache.spark.sql.catalyst.expressions.RowBasedKeyValueBatch - Calling spill() on RowBasedKeyValueBatch. Will not spill but return 0.\n",
      "2024-11-26T00:36:52,796 WARN [Executor task launch worker for task 0.0 in stage 121.0 (TID 119)] org.apache.spark.sql.catalyst.expressions.RowBasedKeyValueBatch - Calling spill() on RowBasedKeyValueBatch. Will not spill but return 0.\n",
      "2024-11-26T00:36:52,818 WARN [Executor task launch worker for task 0.0 in stage 121.0 (TID 119)] org.apache.spark.sql.catalyst.expressions.RowBasedKeyValueBatch - Calling spill() on RowBasedKeyValueBatch. Will not spill but return 0.\n",
      "2024-11-26T00:36:54,215 WARN [Executor task launch worker for task 0.0 in stage 121.0 (TID 119)] org.apache.spark.sql.catalyst.expressions.RowBasedKeyValueBatch - Calling spill() on RowBasedKeyValueBatch. Will not spill but return 0.\n",
      "2024-11-26T00:36:54,227 WARN [Executor task launch worker for task 0.0 in stage 121.0 (TID 119)] org.apache.spark.sql.catalyst.expressions.RowBasedKeyValueBatch - Calling spill() on RowBasedKeyValueBatch. Will not spill but return 0.\n",
      "2024-11-26T00:36:55,650 WARN [Executor task launch worker for task 0.0 in stage 121.0 (TID 119)] org.apache.spark.sql.catalyst.expressions.RowBasedKeyValueBatch - Calling spill() on RowBasedKeyValueBatch. Will not spill but return 0.\n",
      "2024-11-26T00:36:55,661 WARN [Executor task launch worker for task 0.0 in stage 121.0 (TID 119)] org.apache.spark.sql.catalyst.expressions.RowBasedKeyValueBatch - Calling spill() on RowBasedKeyValueBatch. Will not spill but return 0.\n",
      "2024-11-26T00:36:57,257 WARN [Executor task launch worker for task 0.0 in stage 121.0 (TID 119)] org.apache.spark.sql.catalyst.expressions.RowBasedKeyValueBatch - Calling spill() on RowBasedKeyValueBatch. Will not spill but return 0.\n",
      "2024-11-26T00:36:57,269 WARN [Executor task launch worker for task 0.0 in stage 121.0 (TID 119)] org.apache.spark.sql.catalyst.expressions.RowBasedKeyValueBatch - Calling spill() on RowBasedKeyValueBatch. Will not spill but return 0.\n",
      "2024-11-26T00:36:58,755 WARN [Executor task launch worker for task 0.0 in stage 121.0 (TID 119)] org.apache.spark.sql.catalyst.expressions.RowBasedKeyValueBatch - Calling spill() on RowBasedKeyValueBatch. Will not spill but return 0.\n",
      "2024-11-26T00:36:58,766 WARN [Executor task launch worker for task 0.0 in stage 121.0 (TID 119)] org.apache.spark.sql.catalyst.expressions.RowBasedKeyValueBatch - Calling spill() on RowBasedKeyValueBatch. Will not spill but return 0.\n",
      "2024-11-26T00:37:00,091 WARN [Executor task launch worker for task 0.0 in stage 121.0 (TID 119)] org.apache.spark.sql.catalyst.expressions.RowBasedKeyValueBatch - Calling spill() on RowBasedKeyValueBatch. Will not spill but return 0.\n",
      "2024-11-26T00:37:00,103 WARN [Executor task launch worker for task 0.0 in stage 121.0 (TID 119)] org.apache.spark.sql.catalyst.expressions.RowBasedKeyValueBatch - Calling spill() on RowBasedKeyValueBatch. Will not spill but return 0.\n",
      "2024-11-26T00:37:01,531 WARN [Executor task launch worker for task 0.0 in stage 121.0 (TID 119)] org.apache.spark.sql.catalyst.expressions.RowBasedKeyValueBatch - Calling spill() on RowBasedKeyValueBatch. Will not spill but return 0.\n",
      "2024-11-26T00:37:01,543 WARN [Executor task launch worker for task 0.0 in stage 121.0 (TID 119)] org.apache.spark.sql.catalyst.expressions.RowBasedKeyValueBatch - Calling spill() on RowBasedKeyValueBatch. Will not spill but return 0.\n",
      "2024-11-26T00:37:02,894 WARN [Executor task launch worker for task 0.0 in stage 121.0 (TID 119)] org.apache.spark.sql.catalyst.expressions.RowBasedKeyValueBatch - Calling spill() on RowBasedKeyValueBatch. Will not spill but return 0.\n",
      "2024-11-26T00:37:02,916 WARN [Executor task launch worker for task 0.0 in stage 121.0 (TID 119)] org.apache.spark.sql.catalyst.expressions.RowBasedKeyValueBatch - Calling spill() on RowBasedKeyValueBatch. Will not spill but return 0.\n",
      "2024-11-26T00:37:04,208 WARN [Executor task launch worker for task 0.0 in stage 121.0 (TID 119)] org.apache.spark.sql.catalyst.expressions.RowBasedKeyValueBatch - Calling spill() on RowBasedKeyValueBatch. Will not spill but return 0.\n",
      "2024-11-26T00:37:04,220 WARN [Executor task launch worker for task 0.0 in stage 121.0 (TID 119)] org.apache.spark.sql.catalyst.expressions.RowBasedKeyValueBatch - Calling spill() on RowBasedKeyValueBatch. Will not spill but return 0.\n",
      "2024-11-26T00:37:05,657 WARN [Executor task launch worker for task 0.0 in stage 121.0 (TID 119)] org.apache.spark.sql.catalyst.expressions.RowBasedKeyValueBatch - Calling spill() on RowBasedKeyValueBatch. Will not spill but return 0.\n",
      "2024-11-26T00:37:05,668 WARN [Executor task launch worker for task 0.0 in stage 121.0 (TID 119)] org.apache.spark.sql.catalyst.expressions.RowBasedKeyValueBatch - Calling spill() on RowBasedKeyValueBatch. Will not spill but return 0.\n",
      "2024-11-26T00:37:07,041 WARN [Executor task launch worker for task 0.0 in stage 121.0 (TID 119)] org.apache.spark.sql.catalyst.expressions.RowBasedKeyValueBatch - Calling spill() on RowBasedKeyValueBatch. Will not spill but return 0.\n",
      "2024-11-26T00:37:07,052 WARN [Executor task launch worker for task 0.0 in stage 121.0 (TID 119)] org.apache.spark.sql.catalyst.expressions.RowBasedKeyValueBatch - Calling spill() on RowBasedKeyValueBatch. Will not spill but return 0.\n",
      "2024-11-26T00:37:08,372 WARN [Executor task launch worker for task 0.0 in stage 121.0 (TID 119)] org.apache.spark.sql.catalyst.expressions.RowBasedKeyValueBatch - Calling spill() on RowBasedKeyValueBatch. Will not spill but return 0.\n",
      "2024-11-26T00:37:08,384 WARN [Executor task launch worker for task 0.0 in stage 121.0 (TID 119)] org.apache.spark.sql.catalyst.expressions.RowBasedKeyValueBatch - Calling spill() on RowBasedKeyValueBatch. Will not spill but return 0.\n"
     ]
    },
    {
     "name": "stderr",
     "output_type": "stream",
     "text": [
      "[Stage 121:>                                                        (0 + 1) / 1]\r"
     ]
    },
    {
     "name": "stdout",
     "output_type": "stream",
     "text": [
      "2024-11-26T00:37:09,732 WARN [Executor task launch worker for task 0.0 in stage 121.0 (TID 119)] org.apache.spark.sql.catalyst.expressions.RowBasedKeyValueBatch - Calling spill() on RowBasedKeyValueBatch. Will not spill but return 0.\n",
      "2024-11-26T00:37:09,744 WARN [Executor task launch worker for task 0.0 in stage 121.0 (TID 119)] org.apache.spark.sql.catalyst.expressions.RowBasedKeyValueBatch - Calling spill() on RowBasedKeyValueBatch. Will not spill but return 0.\n",
      "2024-11-26T00:37:11,085 WARN [Executor task launch worker for task 0.0 in stage 121.0 (TID 119)] org.apache.spark.sql.catalyst.expressions.RowBasedKeyValueBatch - Calling spill() on RowBasedKeyValueBatch. Will not spill but return 0.\n",
      "2024-11-26T00:37:11,106 WARN [Executor task launch worker for task 0.0 in stage 121.0 (TID 119)] org.apache.spark.sql.catalyst.expressions.RowBasedKeyValueBatch - Calling spill() on RowBasedKeyValueBatch. Will not spill but return 0.\n",
      "2024-11-26T00:37:12,900 WARN [Executor task launch worker for task 0.0 in stage 121.0 (TID 119)] org.apache.spark.sql.catalyst.expressions.RowBasedKeyValueBatch - Calling spill() on RowBasedKeyValueBatch. Will not spill but return 0.\n",
      "2024-11-26T00:37:12,912 WARN [Executor task launch worker for task 0.0 in stage 121.0 (TID 119)] org.apache.spark.sql.catalyst.expressions.RowBasedKeyValueBatch - Calling spill() on RowBasedKeyValueBatch. Will not spill but return 0.\n",
      "2024-11-26T00:37:14,359 WARN [Executor task launch worker for task 0.0 in stage 121.0 (TID 119)] org.apache.spark.sql.catalyst.expressions.RowBasedKeyValueBatch - Calling spill() on RowBasedKeyValueBatch. Will not spill but return 0.\n",
      "2024-11-26T00:37:14,376 WARN [Executor task launch worker for task 0.0 in stage 121.0 (TID 119)] org.apache.spark.sql.catalyst.expressions.RowBasedKeyValueBatch - Calling spill() on RowBasedKeyValueBatch. Will not spill but return 0.\n",
      "2024-11-26T00:37:16,111 WARN [Executor task launch worker for task 0.0 in stage 121.0 (TID 119)] org.apache.spark.sql.catalyst.expressions.RowBasedKeyValueBatch - Calling spill() on RowBasedKeyValueBatch. Will not spill but return 0.\n",
      "2024-11-26T00:37:16,122 WARN [Executor task launch worker for task 0.0 in stage 121.0 (TID 119)] org.apache.spark.sql.catalyst.expressions.RowBasedKeyValueBatch - Calling spill() on RowBasedKeyValueBatch. Will not spill but return 0.\n",
      "2024-11-26T00:37:17,579 WARN [Executor task launch worker for task 0.0 in stage 121.0 (TID 119)] org.apache.spark.sql.catalyst.expressions.RowBasedKeyValueBatch - Calling spill() on RowBasedKeyValueBatch. Will not spill but return 0.\n",
      "2024-11-26T00:37:17,591 WARN [Executor task launch worker for task 0.0 in stage 121.0 (TID 119)] org.apache.spark.sql.catalyst.expressions.RowBasedKeyValueBatch - Calling spill() on RowBasedKeyValueBatch. Will not spill but return 0.\n",
      "2024-11-26T00:37:19,069 WARN [Executor task launch worker for task 0.0 in stage 121.0 (TID 119)] org.apache.spark.sql.catalyst.expressions.RowBasedKeyValueBatch - Calling spill() on RowBasedKeyValueBatch. Will not spill but return 0.\n",
      "2024-11-26T00:37:19,081 WARN [Executor task launch worker for task 0.0 in stage 121.0 (TID 119)] org.apache.spark.sql.catalyst.expressions.RowBasedKeyValueBatch - Calling spill() on RowBasedKeyValueBatch. Will not spill but return 0.\n",
      "2024-11-26T00:37:20,459 WARN [Executor task launch worker for task 0.0 in stage 121.0 (TID 119)] org.apache.spark.sql.catalyst.expressions.RowBasedKeyValueBatch - Calling spill() on RowBasedKeyValueBatch. Will not spill but return 0.\n",
      "2024-11-26T00:37:20,470 WARN [Executor task launch worker for task 0.0 in stage 121.0 (TID 119)] org.apache.spark.sql.catalyst.expressions.RowBasedKeyValueBatch - Calling spill() on RowBasedKeyValueBatch. Will not spill but return 0.\n",
      "2024-11-26T00:37:21,876 WARN [Executor task launch worker for task 0.0 in stage 121.0 (TID 119)] org.apache.spark.sql.catalyst.expressions.RowBasedKeyValueBatch - Calling spill() on RowBasedKeyValueBatch. Will not spill but return 0.\n",
      "2024-11-26T00:37:21,887 WARN [Executor task launch worker for task 0.0 in stage 121.0 (TID 119)] org.apache.spark.sql.catalyst.expressions.RowBasedKeyValueBatch - Calling spill() on RowBasedKeyValueBatch. Will not spill but return 0.\n",
      "2024-11-26T00:37:23,340 WARN [Executor task launch worker for task 0.0 in stage 121.0 (TID 119)] org.apache.spark.sql.catalyst.expressions.RowBasedKeyValueBatch - Calling spill() on RowBasedKeyValueBatch. Will not spill but return 0.\n",
      "2024-11-26T00:37:23,362 WARN [Executor task launch worker for task 0.0 in stage 121.0 (TID 119)] org.apache.spark.sql.catalyst.expressions.RowBasedKeyValueBatch - Calling spill() on RowBasedKeyValueBatch. Will not spill but return 0.\n",
      "2024-11-26T00:37:24,796 WARN [Executor task launch worker for task 0.0 in stage 121.0 (TID 119)] org.apache.spark.sql.catalyst.expressions.RowBasedKeyValueBatch - Calling spill() on RowBasedKeyValueBatch. Will not spill but return 0.\n",
      "2024-11-26T00:37:24,810 WARN [Executor task launch worker for task 0.0 in stage 121.0 (TID 119)] org.apache.spark.sql.catalyst.expressions.RowBasedKeyValueBatch - Calling spill() on RowBasedKeyValueBatch. Will not spill but return 0.\n",
      "2024-11-26T00:37:26,243 WARN [Executor task launch worker for task 0.0 in stage 121.0 (TID 119)] org.apache.spark.sql.catalyst.expressions.RowBasedKeyValueBatch - Calling spill() on RowBasedKeyValueBatch. Will not spill but return 0.\n",
      "2024-11-26T00:37:26,259 WARN [Executor task launch worker for task 0.0 in stage 121.0 (TID 119)] org.apache.spark.sql.catalyst.expressions.RowBasedKeyValueBatch - Calling spill() on RowBasedKeyValueBatch. Will not spill but return 0.\n",
      "2024-11-26T00:37:27,752 WARN [Executor task launch worker for task 0.0 in stage 121.0 (TID 119)] org.apache.spark.sql.catalyst.expressions.RowBasedKeyValueBatch - Calling spill() on RowBasedKeyValueBatch. Will not spill but return 0.\n",
      "2024-11-26T00:37:27,764 WARN [Executor task launch worker for task 0.0 in stage 121.0 (TID 119)] org.apache.spark.sql.catalyst.expressions.RowBasedKeyValueBatch - Calling spill() on RowBasedKeyValueBatch. Will not spill but return 0.\n",
      "2024-11-26T00:37:29,073 WARN [Executor task launch worker for task 0.0 in stage 121.0 (TID 119)] org.apache.spark.sql.catalyst.expressions.RowBasedKeyValueBatch - Calling spill() on RowBasedKeyValueBatch. Will not spill but return 0.\n",
      "2024-11-26T00:37:29,085 WARN [Executor task launch worker for task 0.0 in stage 121.0 (TID 119)] org.apache.spark.sql.catalyst.expressions.RowBasedKeyValueBatch - Calling spill() on RowBasedKeyValueBatch. Will not spill but return 0.\n",
      "2024-11-26T00:37:30,404 WARN [Executor task launch worker for task 0.0 in stage 121.0 (TID 119)] org.apache.spark.sql.catalyst.expressions.RowBasedKeyValueBatch - Calling spill() on RowBasedKeyValueBatch. Will not spill but return 0.\n",
      "2024-11-26T00:37:30,415 WARN [Executor task launch worker for task 0.0 in stage 121.0 (TID 119)] org.apache.spark.sql.catalyst.expressions.RowBasedKeyValueBatch - Calling spill() on RowBasedKeyValueBatch. Will not spill but return 0.\n",
      "2024-11-26T00:37:31,756 WARN [Executor task launch worker for task 0.0 in stage 121.0 (TID 119)] org.apache.spark.sql.catalyst.expressions.RowBasedKeyValueBatch - Calling spill() on RowBasedKeyValueBatch. Will not spill but return 0.\n",
      "2024-11-26T00:37:31,768 WARN [Executor task launch worker for task 0.0 in stage 121.0 (TID 119)] org.apache.spark.sql.catalyst.expressions.RowBasedKeyValueBatch - Calling spill() on RowBasedKeyValueBatch. Will not spill but return 0.\n",
      "2024-11-26T00:37:33,078 WARN [Executor task launch worker for task 0.0 in stage 121.0 (TID 119)] org.apache.spark.sql.catalyst.expressions.RowBasedKeyValueBatch - Calling spill() on RowBasedKeyValueBatch. Will not spill but return 0.\n",
      "2024-11-26T00:37:33,090 WARN [Executor task launch worker for task 0.0 in stage 121.0 (TID 119)] org.apache.spark.sql.catalyst.expressions.RowBasedKeyValueBatch - Calling spill() on RowBasedKeyValueBatch. Will not spill but return 0.\n",
      "2024-11-26T00:37:34,431 WARN [Executor task launch worker for task 0.0 in stage 121.0 (TID 119)] org.apache.spark.sql.catalyst.expressions.RowBasedKeyValueBatch - Calling spill() on RowBasedKeyValueBatch. Will not spill but return 0.\n",
      "2024-11-26T00:37:34,443 WARN [Executor task launch worker for task 0.0 in stage 121.0 (TID 119)] org.apache.spark.sql.catalyst.expressions.RowBasedKeyValueBatch - Calling spill() on RowBasedKeyValueBatch. Will not spill but return 0.\n",
      "2024-11-26T00:37:35,826 WARN [Executor task launch worker for task 0.0 in stage 121.0 (TID 119)] org.apache.spark.sql.catalyst.expressions.RowBasedKeyValueBatch - Calling spill() on RowBasedKeyValueBatch. Will not spill but return 0.\n",
      "2024-11-26T00:37:35,838 WARN [Executor task launch worker for task 0.0 in stage 121.0 (TID 119)] org.apache.spark.sql.catalyst.expressions.RowBasedKeyValueBatch - Calling spill() on RowBasedKeyValueBatch. Will not spill but return 0.\n",
      "2024-11-26T00:37:37,174 WARN [Executor task launch worker for task 0.0 in stage 121.0 (TID 119)] org.apache.spark.sql.catalyst.expressions.RowBasedKeyValueBatch - Calling spill() on RowBasedKeyValueBatch. Will not spill but return 0.\n",
      "2024-11-26T00:37:37,185 WARN [Executor task launch worker for task 0.0 in stage 121.0 (TID 119)] org.apache.spark.sql.catalyst.expressions.RowBasedKeyValueBatch - Calling spill() on RowBasedKeyValueBatch. Will not spill but return 0.\n",
      "2024-11-26T00:37:38,545 WARN [Executor task launch worker for task 0.0 in stage 121.0 (TID 119)] org.apache.spark.sql.catalyst.expressions.RowBasedKeyValueBatch - Calling spill() on RowBasedKeyValueBatch. Will not spill but return 0.\n",
      "2024-11-26T00:37:38,556 WARN [Executor task launch worker for task 0.0 in stage 121.0 (TID 119)] org.apache.spark.sql.catalyst.expressions.RowBasedKeyValueBatch - Calling spill() on RowBasedKeyValueBatch. Will not spill but return 0.\n",
      "2024-11-26T00:37:39,849 WARN [Executor task launch worker for task 0.0 in stage 121.0 (TID 119)] org.apache.spark.sql.catalyst.expressions.RowBasedKeyValueBatch - Calling spill() on RowBasedKeyValueBatch. Will not spill but return 0.\n",
      "2024-11-26T00:37:39,860 WARN [Executor task launch worker for task 0.0 in stage 121.0 (TID 119)] org.apache.spark.sql.catalyst.expressions.RowBasedKeyValueBatch - Calling spill() on RowBasedKeyValueBatch. Will not spill but return 0.\n",
      "2024-11-26T00:37:41,219 WARN [Executor task launch worker for task 0.0 in stage 121.0 (TID 119)] org.apache.spark.sql.catalyst.expressions.RowBasedKeyValueBatch - Calling spill() on RowBasedKeyValueBatch. Will not spill but return 0.\n",
      "2024-11-26T00:37:41,241 WARN [Executor task launch worker for task 0.0 in stage 121.0 (TID 119)] org.apache.spark.sql.catalyst.expressions.RowBasedKeyValueBatch - Calling spill() on RowBasedKeyValueBatch. Will not spill but return 0.\n",
      "2024-11-26T00:37:42,618 WARN [Executor task launch worker for task 0.0 in stage 121.0 (TID 119)] org.apache.spark.sql.catalyst.expressions.RowBasedKeyValueBatch - Calling spill() on RowBasedKeyValueBatch. Will not spill but return 0.\n",
      "2024-11-26T00:37:42,630 WARN [Executor task launch worker for task 0.0 in stage 121.0 (TID 119)] org.apache.spark.sql.catalyst.expressions.RowBasedKeyValueBatch - Calling spill() on RowBasedKeyValueBatch. Will not spill but return 0.\n",
      "2024-11-26T00:37:43,955 WARN [Executor task launch worker for task 0.0 in stage 121.0 (TID 119)] org.apache.spark.sql.catalyst.expressions.RowBasedKeyValueBatch - Calling spill() on RowBasedKeyValueBatch. Will not spill but return 0.\n",
      "2024-11-26T00:37:43,969 WARN [Executor task launch worker for task 0.0 in stage 121.0 (TID 119)] org.apache.spark.sql.catalyst.expressions.RowBasedKeyValueBatch - Calling spill() on RowBasedKeyValueBatch. Will not spill but return 0.\n",
      "2024-11-26T00:37:45,282 WARN [Executor task launch worker for task 0.0 in stage 121.0 (TID 119)] org.apache.spark.sql.catalyst.expressions.RowBasedKeyValueBatch - Calling spill() on RowBasedKeyValueBatch. Will not spill but return 0.\n",
      "2024-11-26T00:37:45,294 WARN [Executor task launch worker for task 0.0 in stage 121.0 (TID 119)] org.apache.spark.sql.catalyst.expressions.RowBasedKeyValueBatch - Calling spill() on RowBasedKeyValueBatch. Will not spill but return 0.\n",
      "2024-11-26T00:37:46,614 WARN [Executor task launch worker for task 0.0 in stage 121.0 (TID 119)] org.apache.spark.sql.catalyst.expressions.RowBasedKeyValueBatch - Calling spill() on RowBasedKeyValueBatch. Will not spill but return 0.\n",
      "2024-11-26T00:37:46,625 WARN [Executor task launch worker for task 0.0 in stage 121.0 (TID 119)] org.apache.spark.sql.catalyst.expressions.RowBasedKeyValueBatch - Calling spill() on RowBasedKeyValueBatch. Will not spill but return 0.\n",
      "2024-11-26T00:37:47,976 WARN [Executor task launch worker for task 0.0 in stage 121.0 (TID 119)] org.apache.spark.sql.catalyst.expressions.RowBasedKeyValueBatch - Calling spill() on RowBasedKeyValueBatch. Will not spill but return 0.\n",
      "2024-11-26T00:37:47,988 WARN [Executor task launch worker for task 0.0 in stage 121.0 (TID 119)] org.apache.spark.sql.catalyst.expressions.RowBasedKeyValueBatch - Calling spill() on RowBasedKeyValueBatch. Will not spill but return 0.\n",
      "2024-11-26T00:37:49,314 WARN [Executor task launch worker for task 0.0 in stage 121.0 (TID 119)] org.apache.spark.sql.catalyst.expressions.RowBasedKeyValueBatch - Calling spill() on RowBasedKeyValueBatch. Will not spill but return 0.\n",
      "2024-11-26T00:37:49,326 WARN [Executor task launch worker for task 0.0 in stage 121.0 (TID 119)] org.apache.spark.sql.catalyst.expressions.RowBasedKeyValueBatch - Calling spill() on RowBasedKeyValueBatch. Will not spill but return 0.\n",
      "2024-11-26T00:37:50,609 WARN [Executor task launch worker for task 0.0 in stage 121.0 (TID 119)] org.apache.spark.sql.catalyst.expressions.RowBasedKeyValueBatch - Calling spill() on RowBasedKeyValueBatch. Will not spill but return 0.\n",
      "2024-11-26T00:37:50,631 WARN [Executor task launch worker for task 0.0 in stage 121.0 (TID 119)] org.apache.spark.sql.catalyst.expressions.RowBasedKeyValueBatch - Calling spill() on RowBasedKeyValueBatch. Will not spill but return 0.\n",
      "2024-11-26T00:37:52,040 WARN [Executor task launch worker for task 0.0 in stage 121.0 (TID 119)] org.apache.spark.sql.catalyst.expressions.RowBasedKeyValueBatch - Calling spill() on RowBasedKeyValueBatch. Will not spill but return 0.\n",
      "2024-11-26T00:37:52,052 WARN [Executor task launch worker for task 0.0 in stage 121.0 (TID 119)] org.apache.spark.sql.catalyst.expressions.RowBasedKeyValueBatch - Calling spill() on RowBasedKeyValueBatch. Will not spill but return 0.\n",
      "2024-11-26T00:37:53,377 WARN [Executor task launch worker for task 0.0 in stage 121.0 (TID 119)] org.apache.spark.sql.catalyst.expressions.RowBasedKeyValueBatch - Calling spill() on RowBasedKeyValueBatch. Will not spill but return 0.\n",
      "2024-11-26T00:37:53,388 WARN [Executor task launch worker for task 0.0 in stage 121.0 (TID 119)] org.apache.spark.sql.catalyst.expressions.RowBasedKeyValueBatch - Calling spill() on RowBasedKeyValueBatch. Will not spill but return 0.\n",
      "2024-11-26T00:37:54,690 WARN [Executor task launch worker for task 0.0 in stage 121.0 (TID 119)] org.apache.spark.sql.catalyst.expressions.RowBasedKeyValueBatch - Calling spill() on RowBasedKeyValueBatch. Will not spill but return 0.\n",
      "2024-11-26T00:37:54,702 WARN [Executor task launch worker for task 0.0 in stage 121.0 (TID 119)] org.apache.spark.sql.catalyst.expressions.RowBasedKeyValueBatch - Calling spill() on RowBasedKeyValueBatch. Will not spill but return 0.\n",
      "2024-11-26T00:37:56,008 WARN [Executor task launch worker for task 0.0 in stage 121.0 (TID 119)] org.apache.spark.sql.catalyst.expressions.RowBasedKeyValueBatch - Calling spill() on RowBasedKeyValueBatch. Will not spill but return 0.\n",
      "2024-11-26T00:37:56,020 WARN [Executor task launch worker for task 0.0 in stage 121.0 (TID 119)] org.apache.spark.sql.catalyst.expressions.RowBasedKeyValueBatch - Calling spill() on RowBasedKeyValueBatch. Will not spill but return 0.\n",
      "2024-11-26T00:37:57,399 WARN [Executor task launch worker for task 0.0 in stage 121.0 (TID 119)] org.apache.spark.sql.catalyst.expressions.RowBasedKeyValueBatch - Calling spill() on RowBasedKeyValueBatch. Will not spill but return 0.\n",
      "2024-11-26T00:37:57,410 WARN [Executor task launch worker for task 0.0 in stage 121.0 (TID 119)] org.apache.spark.sql.catalyst.expressions.RowBasedKeyValueBatch - Calling spill() on RowBasedKeyValueBatch. Will not spill but return 0.\n",
      "2024-11-26T00:37:58,703 WARN [Executor task launch worker for task 0.0 in stage 121.0 (TID 119)] org.apache.spark.sql.catalyst.expressions.RowBasedKeyValueBatch - Calling spill() on RowBasedKeyValueBatch. Will not spill but return 0.\n",
      "2024-11-26T00:37:58,714 WARN [Executor task launch worker for task 0.0 in stage 121.0 (TID 119)] org.apache.spark.sql.catalyst.expressions.RowBasedKeyValueBatch - Calling spill() on RowBasedKeyValueBatch. Will not spill but return 0.\n",
      "2024-11-26T00:38:00,012 WARN [Executor task launch worker for task 0.0 in stage 121.0 (TID 119)] org.apache.spark.sql.catalyst.expressions.RowBasedKeyValueBatch - Calling spill() on RowBasedKeyValueBatch. Will not spill but return 0.\n",
      "2024-11-26T00:38:00,023 WARN [Executor task launch worker for task 0.0 in stage 121.0 (TID 119)] org.apache.spark.sql.catalyst.expressions.RowBasedKeyValueBatch - Calling spill() on RowBasedKeyValueBatch. Will not spill but return 0.\n",
      "2024-11-26T00:38:01,342 WARN [Executor task launch worker for task 0.0 in stage 121.0 (TID 119)] org.apache.spark.sql.catalyst.expressions.RowBasedKeyValueBatch - Calling spill() on RowBasedKeyValueBatch. Will not spill but return 0.\n",
      "2024-11-26T00:38:01,353 WARN [Executor task launch worker for task 0.0 in stage 121.0 (TID 119)] org.apache.spark.sql.catalyst.expressions.RowBasedKeyValueBatch - Calling spill() on RowBasedKeyValueBatch. Will not spill but return 0.\n",
      "2024-11-26T00:38:02,736 WARN [Executor task launch worker for task 0.0 in stage 121.0 (TID 119)] org.apache.spark.sql.catalyst.expressions.RowBasedKeyValueBatch - Calling spill() on RowBasedKeyValueBatch. Will not spill but return 0.\n",
      "2024-11-26T00:38:02,748 WARN [Executor task launch worker for task 0.0 in stage 121.0 (TID 119)] org.apache.spark.sql.catalyst.expressions.RowBasedKeyValueBatch - Calling spill() on RowBasedKeyValueBatch. Will not spill but return 0.\n",
      "2024-11-26T00:38:04,064 WARN [Executor task launch worker for task 0.0 in stage 121.0 (TID 119)] org.apache.spark.sql.catalyst.expressions.RowBasedKeyValueBatch - Calling spill() on RowBasedKeyValueBatch. Will not spill but return 0.\n",
      "2024-11-26T00:38:04,086 WARN [Executor task launch worker for task 0.0 in stage 121.0 (TID 119)] org.apache.spark.sql.catalyst.expressions.RowBasedKeyValueBatch - Calling spill() on RowBasedKeyValueBatch. Will not spill but return 0.\n",
      "2024-11-26T00:38:05,450 WARN [Executor task launch worker for task 0.0 in stage 121.0 (TID 119)] org.apache.spark.sql.catalyst.expressions.RowBasedKeyValueBatch - Calling spill() on RowBasedKeyValueBatch. Will not spill but return 0.\n",
      "2024-11-26T00:38:05,462 WARN [Executor task launch worker for task 0.0 in stage 121.0 (TID 119)] org.apache.spark.sql.catalyst.expressions.RowBasedKeyValueBatch - Calling spill() on RowBasedKeyValueBatch. Will not spill but return 0.\n",
      "2024-11-26T00:38:06,940 WARN [Executor task launch worker for task 0.0 in stage 121.0 (TID 119)] org.apache.spark.sql.catalyst.expressions.RowBasedKeyValueBatch - Calling spill() on RowBasedKeyValueBatch. Will not spill but return 0.\n",
      "2024-11-26T00:38:06,951 WARN [Executor task launch worker for task 0.0 in stage 121.0 (TID 119)] org.apache.spark.sql.catalyst.expressions.RowBasedKeyValueBatch - Calling spill() on RowBasedKeyValueBatch. Will not spill but return 0.\n",
      "2024-11-26T00:38:08,253 WARN [Executor task launch worker for task 0.0 in stage 121.0 (TID 119)] org.apache.spark.sql.catalyst.expressions.RowBasedKeyValueBatch - Calling spill() on RowBasedKeyValueBatch. Will not spill but return 0.\n",
      "2024-11-26T00:38:08,266 WARN [Executor task launch worker for task 0.0 in stage 121.0 (TID 119)] org.apache.spark.sql.catalyst.expressions.RowBasedKeyValueBatch - Calling spill() on RowBasedKeyValueBatch. Will not spill but return 0.\n"
     ]
    },
    {
     "name": "stderr",
     "output_type": "stream",
     "text": [
      "[Stage 121:>                                                        (0 + 1) / 1]\r"
     ]
    },
    {
     "name": "stdout",
     "output_type": "stream",
     "text": [
      "2024-11-26T00:38:09,619 WARN [Executor task launch worker for task 0.0 in stage 121.0 (TID 119)] org.apache.spark.sql.catalyst.expressions.RowBasedKeyValueBatch - Calling spill() on RowBasedKeyValueBatch. Will not spill but return 0.\n",
      "2024-11-26T00:38:09,631 WARN [Executor task launch worker for task 0.0 in stage 121.0 (TID 119)] org.apache.spark.sql.catalyst.expressions.RowBasedKeyValueBatch - Calling spill() on RowBasedKeyValueBatch. Will not spill but return 0.\n",
      "2024-11-26T00:38:10,917 WARN [Executor task launch worker for task 0.0 in stage 121.0 (TID 119)] org.apache.spark.sql.catalyst.expressions.RowBasedKeyValueBatch - Calling spill() on RowBasedKeyValueBatch. Will not spill but return 0.\n",
      "2024-11-26T00:38:10,928 WARN [Executor task launch worker for task 0.0 in stage 121.0 (TID 119)] org.apache.spark.sql.catalyst.expressions.RowBasedKeyValueBatch - Calling spill() on RowBasedKeyValueBatch. Will not spill but return 0.\n",
      "2024-11-26T00:38:12,257 WARN [Executor task launch worker for task 0.0 in stage 121.0 (TID 119)] org.apache.spark.sql.catalyst.expressions.RowBasedKeyValueBatch - Calling spill() on RowBasedKeyValueBatch. Will not spill but return 0.\n",
      "2024-11-26T00:38:12,267 WARN [Executor task launch worker for task 0.0 in stage 121.0 (TID 119)] org.apache.spark.sql.catalyst.expressions.RowBasedKeyValueBatch - Calling spill() on RowBasedKeyValueBatch. Will not spill but return 0.\n",
      "2024-11-26T00:38:13,570 WARN [Executor task launch worker for task 0.0 in stage 121.0 (TID 119)] org.apache.spark.sql.catalyst.expressions.RowBasedKeyValueBatch - Calling spill() on RowBasedKeyValueBatch. Will not spill but return 0.\n",
      "2024-11-26T00:38:13,582 WARN [Executor task launch worker for task 0.0 in stage 121.0 (TID 119)] org.apache.spark.sql.catalyst.expressions.RowBasedKeyValueBatch - Calling spill() on RowBasedKeyValueBatch. Will not spill but return 0.\n",
      "2024-11-26T00:38:14,891 WARN [Executor task launch worker for task 0.0 in stage 121.0 (TID 119)] org.apache.spark.sql.catalyst.expressions.RowBasedKeyValueBatch - Calling spill() on RowBasedKeyValueBatch. Will not spill but return 0.\n",
      "2024-11-26T00:38:14,902 WARN [Executor task launch worker for task 0.0 in stage 121.0 (TID 119)] org.apache.spark.sql.catalyst.expressions.RowBasedKeyValueBatch - Calling spill() on RowBasedKeyValueBatch. Will not spill but return 0.\n",
      "2024-11-26T00:38:16,326 WARN [Executor task launch worker for task 0.0 in stage 121.0 (TID 119)] org.apache.spark.sql.catalyst.expressions.RowBasedKeyValueBatch - Calling spill() on RowBasedKeyValueBatch. Will not spill but return 0.\n",
      "2024-11-26T00:38:16,337 WARN [Executor task launch worker for task 0.0 in stage 121.0 (TID 119)] org.apache.spark.sql.catalyst.expressions.RowBasedKeyValueBatch - Calling spill() on RowBasedKeyValueBatch. Will not spill but return 0.\n",
      "2024-11-26T00:38:17,679 WARN [Executor task launch worker for task 0.0 in stage 121.0 (TID 119)] org.apache.spark.sql.catalyst.expressions.RowBasedKeyValueBatch - Calling spill() on RowBasedKeyValueBatch. Will not spill but return 0.\n",
      "2024-11-26T00:38:17,691 WARN [Executor task launch worker for task 0.0 in stage 121.0 (TID 119)] org.apache.spark.sql.catalyst.expressions.RowBasedKeyValueBatch - Calling spill() on RowBasedKeyValueBatch. Will not spill but return 0.\n",
      "2024-11-26T00:38:19,041 WARN [Executor task launch worker for task 0.0 in stage 121.0 (TID 119)] org.apache.spark.sql.catalyst.expressions.RowBasedKeyValueBatch - Calling spill() on RowBasedKeyValueBatch. Will not spill but return 0.\n",
      "2024-11-26T00:38:19,052 WARN [Executor task launch worker for task 0.0 in stage 121.0 (TID 119)] org.apache.spark.sql.catalyst.expressions.RowBasedKeyValueBatch - Calling spill() on RowBasedKeyValueBatch. Will not spill but return 0.\n",
      "2024-11-26T00:38:20,416 WARN [Executor task launch worker for task 0.0 in stage 121.0 (TID 119)] org.apache.spark.sql.catalyst.expressions.RowBasedKeyValueBatch - Calling spill() on RowBasedKeyValueBatch. Will not spill but return 0.\n",
      "2024-11-26T00:38:20,428 WARN [Executor task launch worker for task 0.0 in stage 121.0 (TID 119)] org.apache.spark.sql.catalyst.expressions.RowBasedKeyValueBatch - Calling spill() on RowBasedKeyValueBatch. Will not spill but return 0.\n",
      "2024-11-26T00:38:21,805 WARN [Executor task launch worker for task 0.0 in stage 121.0 (TID 119)] org.apache.spark.sql.catalyst.expressions.RowBasedKeyValueBatch - Calling spill() on RowBasedKeyValueBatch. Will not spill but return 0.\n",
      "2024-11-26T00:38:21,817 WARN [Executor task launch worker for task 0.0 in stage 121.0 (TID 119)] org.apache.spark.sql.catalyst.expressions.RowBasedKeyValueBatch - Calling spill() on RowBasedKeyValueBatch. Will not spill but return 0.\n",
      "2024-11-26T00:38:23,193 WARN [Executor task launch worker for task 0.0 in stage 121.0 (TID 119)] org.apache.spark.sql.catalyst.expressions.RowBasedKeyValueBatch - Calling spill() on RowBasedKeyValueBatch. Will not spill but return 0.\n",
      "2024-11-26T00:38:23,205 WARN [Executor task launch worker for task 0.0 in stage 121.0 (TID 119)] org.apache.spark.sql.catalyst.expressions.RowBasedKeyValueBatch - Calling spill() on RowBasedKeyValueBatch. Will not spill but return 0.\n",
      "2024-11-26T00:38:24,558 WARN [Executor task launch worker for task 0.0 in stage 121.0 (TID 119)] org.apache.spark.sql.catalyst.expressions.RowBasedKeyValueBatch - Calling spill() on RowBasedKeyValueBatch. Will not spill but return 0.\n",
      "2024-11-26T00:38:24,573 WARN [Executor task launch worker for task 0.0 in stage 121.0 (TID 119)] org.apache.spark.sql.catalyst.expressions.RowBasedKeyValueBatch - Calling spill() on RowBasedKeyValueBatch. Will not spill but return 0.\n",
      "2024-11-26T00:38:25,939 WARN [Executor task launch worker for task 0.0 in stage 121.0 (TID 119)] org.apache.spark.sql.catalyst.expressions.RowBasedKeyValueBatch - Calling spill() on RowBasedKeyValueBatch. Will not spill but return 0.\n",
      "2024-11-26T00:38:25,951 WARN [Executor task launch worker for task 0.0 in stage 121.0 (TID 119)] org.apache.spark.sql.catalyst.expressions.RowBasedKeyValueBatch - Calling spill() on RowBasedKeyValueBatch. Will not spill but return 0.\n",
      "2024-11-26T00:38:27,448 WARN [Executor task launch worker for task 0.0 in stage 121.0 (TID 119)] org.apache.spark.sql.catalyst.expressions.RowBasedKeyValueBatch - Calling spill() on RowBasedKeyValueBatch. Will not spill but return 0.\n",
      "2024-11-26T00:38:27,459 WARN [Executor task launch worker for task 0.0 in stage 121.0 (TID 119)] org.apache.spark.sql.catalyst.expressions.RowBasedKeyValueBatch - Calling spill() on RowBasedKeyValueBatch. Will not spill but return 0.\n",
      "2024-11-26T00:38:28,810 WARN [Executor task launch worker for task 0.0 in stage 121.0 (TID 119)] org.apache.spark.sql.catalyst.expressions.RowBasedKeyValueBatch - Calling spill() on RowBasedKeyValueBatch. Will not spill but return 0.\n",
      "2024-11-26T00:38:28,826 WARN [Executor task launch worker for task 0.0 in stage 121.0 (TID 119)] org.apache.spark.sql.catalyst.expressions.RowBasedKeyValueBatch - Calling spill() on RowBasedKeyValueBatch. Will not spill but return 0.\n",
      "2024-11-26T00:38:30,195 WARN [Executor task launch worker for task 0.0 in stage 121.0 (TID 119)] org.apache.spark.sql.catalyst.expressions.RowBasedKeyValueBatch - Calling spill() on RowBasedKeyValueBatch. Will not spill but return 0.\n",
      "2024-11-26T00:38:30,207 WARN [Executor task launch worker for task 0.0 in stage 121.0 (TID 119)] org.apache.spark.sql.catalyst.expressions.RowBasedKeyValueBatch - Calling spill() on RowBasedKeyValueBatch. Will not spill but return 0.\n",
      "2024-11-26T00:38:31,521 WARN [Executor task launch worker for task 0.0 in stage 121.0 (TID 119)] org.apache.spark.sql.catalyst.expressions.RowBasedKeyValueBatch - Calling spill() on RowBasedKeyValueBatch. Will not spill but return 0.\n",
      "2024-11-26T00:38:31,550 WARN [Executor task launch worker for task 0.0 in stage 121.0 (TID 119)] org.apache.spark.sql.catalyst.expressions.RowBasedKeyValueBatch - Calling spill() on RowBasedKeyValueBatch. Will not spill but return 0.\n",
      "2024-11-26T00:38:32,933 WARN [Executor task launch worker for task 0.0 in stage 121.0 (TID 119)] org.apache.spark.sql.catalyst.expressions.RowBasedKeyValueBatch - Calling spill() on RowBasedKeyValueBatch. Will not spill but return 0.\n",
      "2024-11-26T00:38:32,947 WARN [Executor task launch worker for task 0.0 in stage 121.0 (TID 119)] org.apache.spark.sql.catalyst.expressions.RowBasedKeyValueBatch - Calling spill() on RowBasedKeyValueBatch. Will not spill but return 0.\n",
      "2024-11-26T00:38:34,283 WARN [Executor task launch worker for task 0.0 in stage 121.0 (TID 119)] org.apache.spark.sql.catalyst.expressions.RowBasedKeyValueBatch - Calling spill() on RowBasedKeyValueBatch. Will not spill but return 0.\n",
      "2024-11-26T00:38:34,296 WARN [Executor task launch worker for task 0.0 in stage 121.0 (TID 119)] org.apache.spark.sql.catalyst.expressions.RowBasedKeyValueBatch - Calling spill() on RowBasedKeyValueBatch. Will not spill but return 0.\n",
      "2024-11-26T00:38:35,695 WARN [Executor task launch worker for task 0.0 in stage 121.0 (TID 119)] org.apache.spark.sql.catalyst.expressions.RowBasedKeyValueBatch - Calling spill() on RowBasedKeyValueBatch. Will not spill but return 0.\n",
      "2024-11-26T00:38:35,707 WARN [Executor task launch worker for task 0.0 in stage 121.0 (TID 119)] org.apache.spark.sql.catalyst.expressions.RowBasedKeyValueBatch - Calling spill() on RowBasedKeyValueBatch. Will not spill but return 0.\n",
      "2024-11-26T00:38:37,059 WARN [Executor task launch worker for task 0.0 in stage 121.0 (TID 119)] org.apache.spark.sql.catalyst.expressions.RowBasedKeyValueBatch - Calling spill() on RowBasedKeyValueBatch. Will not spill but return 0.\n",
      "2024-11-26T00:38:37,071 WARN [Executor task launch worker for task 0.0 in stage 121.0 (TID 119)] org.apache.spark.sql.catalyst.expressions.RowBasedKeyValueBatch - Calling spill() on RowBasedKeyValueBatch. Will not spill but return 0.\n",
      "2024-11-26T00:38:38,503 WARN [Executor task launch worker for task 0.0 in stage 121.0 (TID 119)] org.apache.spark.sql.catalyst.expressions.RowBasedKeyValueBatch - Calling spill() on RowBasedKeyValueBatch. Will not spill but return 0.\n",
      "2024-11-26T00:38:38,525 WARN [Executor task launch worker for task 0.0 in stage 121.0 (TID 119)] org.apache.spark.sql.catalyst.expressions.RowBasedKeyValueBatch - Calling spill() on RowBasedKeyValueBatch. Will not spill but return 0.\n",
      "2024-11-26T00:38:39,815 WARN [Executor task launch worker for task 0.0 in stage 121.0 (TID 119)] org.apache.spark.sql.catalyst.expressions.RowBasedKeyValueBatch - Calling spill() on RowBasedKeyValueBatch. Will not spill but return 0.\n",
      "2024-11-26T00:38:39,825 WARN [Executor task launch worker for task 0.0 in stage 121.0 (TID 119)] org.apache.spark.sql.catalyst.expressions.RowBasedKeyValueBatch - Calling spill() on RowBasedKeyValueBatch. Will not spill but return 0.\n",
      "2024-11-26T00:38:41,132 WARN [Executor task launch worker for task 0.0 in stage 121.0 (TID 119)] org.apache.spark.sql.catalyst.expressions.RowBasedKeyValueBatch - Calling spill() on RowBasedKeyValueBatch. Will not spill but return 0.\n",
      "2024-11-26T00:38:41,143 WARN [Executor task launch worker for task 0.0 in stage 121.0 (TID 119)] org.apache.spark.sql.catalyst.expressions.RowBasedKeyValueBatch - Calling spill() on RowBasedKeyValueBatch. Will not spill but return 0.\n",
      "2024-11-26T00:38:42,487 WARN [Executor task launch worker for task 0.0 in stage 121.0 (TID 119)] org.apache.spark.sql.catalyst.expressions.RowBasedKeyValueBatch - Calling spill() on RowBasedKeyValueBatch. Will not spill but return 0.\n",
      "2024-11-26T00:38:42,498 WARN [Executor task launch worker for task 0.0 in stage 121.0 (TID 119)] org.apache.spark.sql.catalyst.expressions.RowBasedKeyValueBatch - Calling spill() on RowBasedKeyValueBatch. Will not spill but return 0.\n",
      "2024-11-26T00:38:44,559 WARN [Executor task launch worker for task 0.0 in stage 121.0 (TID 119)] org.apache.spark.sql.catalyst.expressions.RowBasedKeyValueBatch - Calling spill() on RowBasedKeyValueBatch. Will not spill but return 0.\n",
      "2024-11-26T00:38:44,580 WARN [Executor task launch worker for task 0.0 in stage 121.0 (TID 119)] org.apache.spark.sql.catalyst.expressions.RowBasedKeyValueBatch - Calling spill() on RowBasedKeyValueBatch. Will not spill but return 0.\n",
      "2024-11-26T00:38:45,950 WARN [Executor task launch worker for task 0.0 in stage 121.0 (TID 119)] org.apache.spark.sql.catalyst.expressions.RowBasedKeyValueBatch - Calling spill() on RowBasedKeyValueBatch. Will not spill but return 0.\n",
      "2024-11-26T00:38:45,962 WARN [Executor task launch worker for task 0.0 in stage 121.0 (TID 119)] org.apache.spark.sql.catalyst.expressions.RowBasedKeyValueBatch - Calling spill() on RowBasedKeyValueBatch. Will not spill but return 0.\n",
      "2024-11-26T00:38:47,314 WARN [Executor task launch worker for task 0.0 in stage 121.0 (TID 119)] org.apache.spark.sql.catalyst.expressions.RowBasedKeyValueBatch - Calling spill() on RowBasedKeyValueBatch. Will not spill but return 0.\n",
      "2024-11-26T00:38:47,326 WARN [Executor task launch worker for task 0.0 in stage 121.0 (TID 119)] org.apache.spark.sql.catalyst.expressions.RowBasedKeyValueBatch - Calling spill() on RowBasedKeyValueBatch. Will not spill but return 0.\n",
      "2024-11-26T00:38:48,748 WARN [Executor task launch worker for task 0.0 in stage 121.0 (TID 119)] org.apache.spark.sql.catalyst.expressions.RowBasedKeyValueBatch - Calling spill() on RowBasedKeyValueBatch. Will not spill but return 0.\n",
      "2024-11-26T00:38:48,759 WARN [Executor task launch worker for task 0.0 in stage 121.0 (TID 119)] org.apache.spark.sql.catalyst.expressions.RowBasedKeyValueBatch - Calling spill() on RowBasedKeyValueBatch. Will not spill but return 0.\n",
      "2024-11-26T00:38:50,099 WARN [Executor task launch worker for task 0.0 in stage 121.0 (TID 119)] org.apache.spark.sql.catalyst.expressions.RowBasedKeyValueBatch - Calling spill() on RowBasedKeyValueBatch. Will not spill but return 0.\n",
      "2024-11-26T00:38:50,112 WARN [Executor task launch worker for task 0.0 in stage 121.0 (TID 119)] org.apache.spark.sql.catalyst.expressions.RowBasedKeyValueBatch - Calling spill() on RowBasedKeyValueBatch. Will not spill but return 0.\n",
      "2024-11-26T00:38:51,419 WARN [Executor task launch worker for task 0.0 in stage 121.0 (TID 119)] org.apache.spark.sql.catalyst.expressions.RowBasedKeyValueBatch - Calling spill() on RowBasedKeyValueBatch. Will not spill but return 0.\n",
      "2024-11-26T00:38:51,430 WARN [Executor task launch worker for task 0.0 in stage 121.0 (TID 119)] org.apache.spark.sql.catalyst.expressions.RowBasedKeyValueBatch - Calling spill() on RowBasedKeyValueBatch. Will not spill but return 0.\n",
      "2024-11-26T00:38:52,728 WARN [Executor task launch worker for task 0.0 in stage 121.0 (TID 119)] org.apache.spark.sql.catalyst.expressions.RowBasedKeyValueBatch - Calling spill() on RowBasedKeyValueBatch. Will not spill but return 0.\n",
      "2024-11-26T00:38:52,739 WARN [Executor task launch worker for task 0.0 in stage 121.0 (TID 119)] org.apache.spark.sql.catalyst.expressions.RowBasedKeyValueBatch - Calling spill() on RowBasedKeyValueBatch. Will not spill but return 0.\n",
      "2024-11-26T00:38:54,056 WARN [Executor task launch worker for task 0.0 in stage 121.0 (TID 119)] org.apache.spark.sql.catalyst.expressions.RowBasedKeyValueBatch - Calling spill() on RowBasedKeyValueBatch. Will not spill but return 0.\n",
      "2024-11-26T00:38:54,068 WARN [Executor task launch worker for task 0.0 in stage 121.0 (TID 119)] org.apache.spark.sql.catalyst.expressions.RowBasedKeyValueBatch - Calling spill() on RowBasedKeyValueBatch. Will not spill but return 0.\n",
      "2024-11-26T00:38:55,622 WARN [Executor task launch worker for task 0.0 in stage 121.0 (TID 119)] org.apache.spark.sql.catalyst.expressions.RowBasedKeyValueBatch - Calling spill() on RowBasedKeyValueBatch. Will not spill but return 0.\n",
      "2024-11-26T00:38:55,633 WARN [Executor task launch worker for task 0.0 in stage 121.0 (TID 119)] org.apache.spark.sql.catalyst.expressions.RowBasedKeyValueBatch - Calling spill() on RowBasedKeyValueBatch. Will not spill but return 0.\n",
      "2024-11-26T00:38:56,940 WARN [Executor task launch worker for task 0.0 in stage 121.0 (TID 119)] org.apache.spark.sql.catalyst.expressions.RowBasedKeyValueBatch - Calling spill() on RowBasedKeyValueBatch. Will not spill but return 0.\n",
      "2024-11-26T00:38:56,953 WARN [Executor task launch worker for task 0.0 in stage 121.0 (TID 119)] org.apache.spark.sql.catalyst.expressions.RowBasedKeyValueBatch - Calling spill() on RowBasedKeyValueBatch. Will not spill but return 0.\n",
      "2024-11-26T00:38:58,318 WARN [Executor task launch worker for task 0.0 in stage 121.0 (TID 119)] org.apache.spark.sql.catalyst.expressions.RowBasedKeyValueBatch - Calling spill() on RowBasedKeyValueBatch. Will not spill but return 0.\n",
      "2024-11-26T00:38:58,329 WARN [Executor task launch worker for task 0.0 in stage 121.0 (TID 119)] org.apache.spark.sql.catalyst.expressions.RowBasedKeyValueBatch - Calling spill() on RowBasedKeyValueBatch. Will not spill but return 0.\n",
      "2024-11-26T00:38:59,727 WARN [Executor task launch worker for task 0.0 in stage 121.0 (TID 119)] org.apache.spark.sql.catalyst.expressions.RowBasedKeyValueBatch - Calling spill() on RowBasedKeyValueBatch. Will not spill but return 0.\n",
      "2024-11-26T00:38:59,738 WARN [Executor task launch worker for task 0.0 in stage 121.0 (TID 119)] org.apache.spark.sql.catalyst.expressions.RowBasedKeyValueBatch - Calling spill() on RowBasedKeyValueBatch. Will not spill but return 0.\n",
      "2024-11-26T00:39:01,219 WARN [Executor task launch worker for task 0.0 in stage 121.0 (TID 119)] org.apache.spark.sql.catalyst.expressions.RowBasedKeyValueBatch - Calling spill() on RowBasedKeyValueBatch. Will not spill but return 0.\n",
      "2024-11-26T00:39:01,235 WARN [Executor task launch worker for task 0.0 in stage 121.0 (TID 119)] org.apache.spark.sql.catalyst.expressions.RowBasedKeyValueBatch - Calling spill() on RowBasedKeyValueBatch. Will not spill but return 0.\n",
      "2024-11-26T00:39:02,914 WARN [Executor task launch worker for task 0.0 in stage 121.0 (TID 119)] org.apache.spark.sql.catalyst.expressions.RowBasedKeyValueBatch - Calling spill() on RowBasedKeyValueBatch. Will not spill but return 0.\n",
      "2024-11-26T00:39:02,925 WARN [Executor task launch worker for task 0.0 in stage 121.0 (TID 119)] org.apache.spark.sql.catalyst.expressions.RowBasedKeyValueBatch - Calling spill() on RowBasedKeyValueBatch. Will not spill but return 0.\n",
      "2024-11-26T00:39:04,221 WARN [Executor task launch worker for task 0.0 in stage 121.0 (TID 119)] org.apache.spark.sql.catalyst.expressions.RowBasedKeyValueBatch - Calling spill() on RowBasedKeyValueBatch. Will not spill but return 0.\n",
      "2024-11-26T00:39:04,232 WARN [Executor task launch worker for task 0.0 in stage 121.0 (TID 119)] org.apache.spark.sql.catalyst.expressions.RowBasedKeyValueBatch - Calling spill() on RowBasedKeyValueBatch. Will not spill but return 0.\n",
      "2024-11-26T00:39:05,833 WARN [Executor task launch worker for task 0.0 in stage 121.0 (TID 119)] org.apache.spark.sql.catalyst.expressions.RowBasedKeyValueBatch - Calling spill() on RowBasedKeyValueBatch. Will not spill but return 0.\n",
      "2024-11-26T00:39:05,844 WARN [Executor task launch worker for task 0.0 in stage 121.0 (TID 119)] org.apache.spark.sql.catalyst.expressions.RowBasedKeyValueBatch - Calling spill() on RowBasedKeyValueBatch. Will not spill but return 0.\n",
      "2024-11-26T00:39:07,156 WARN [Executor task launch worker for task 0.0 in stage 121.0 (TID 119)] org.apache.spark.sql.catalyst.expressions.RowBasedKeyValueBatch - Calling spill() on RowBasedKeyValueBatch. Will not spill but return 0.\n",
      "2024-11-26T00:39:07,179 WARN [Executor task launch worker for task 0.0 in stage 121.0 (TID 119)] org.apache.spark.sql.catalyst.expressions.RowBasedKeyValueBatch - Calling spill() on RowBasedKeyValueBatch. Will not spill but return 0.\n"
     ]
    },
    {
     "name": "stderr",
     "output_type": "stream",
     "text": [
      "[Stage 121:>                                                        (0 + 1) / 1]\r"
     ]
    },
    {
     "name": "stdout",
     "output_type": "stream",
     "text": [
      "2024-11-26T00:39:09,315 WARN [Executor task launch worker for task 0.0 in stage 121.0 (TID 119)] org.apache.spark.sql.catalyst.expressions.RowBasedKeyValueBatch - Calling spill() on RowBasedKeyValueBatch. Will not spill but return 0.\n",
      "2024-11-26T00:39:09,336 WARN [Executor task launch worker for task 0.0 in stage 121.0 (TID 119)] org.apache.spark.sql.catalyst.expressions.RowBasedKeyValueBatch - Calling spill() on RowBasedKeyValueBatch. Will not spill but return 0.\n",
      "2024-11-26T00:39:11,250 WARN [Executor task launch worker for task 0.0 in stage 121.0 (TID 119)] org.apache.spark.sql.catalyst.expressions.RowBasedKeyValueBatch - Calling spill() on RowBasedKeyValueBatch. Will not spill but return 0.\n",
      "2024-11-26T00:39:11,261 WARN [Executor task launch worker for task 0.0 in stage 121.0 (TID 119)] org.apache.spark.sql.catalyst.expressions.RowBasedKeyValueBatch - Calling spill() on RowBasedKeyValueBatch. Will not spill but return 0.\n",
      "2024-11-26T00:39:12,554 WARN [Executor task launch worker for task 0.0 in stage 121.0 (TID 119)] org.apache.spark.sql.catalyst.expressions.RowBasedKeyValueBatch - Calling spill() on RowBasedKeyValueBatch. Will not spill but return 0.\n",
      "2024-11-26T00:39:12,566 WARN [Executor task launch worker for task 0.0 in stage 121.0 (TID 119)] org.apache.spark.sql.catalyst.expressions.RowBasedKeyValueBatch - Calling spill() on RowBasedKeyValueBatch. Will not spill but return 0.\n",
      "2024-11-26T00:39:13,878 WARN [Executor task launch worker for task 0.0 in stage 121.0 (TID 119)] org.apache.spark.sql.catalyst.expressions.RowBasedKeyValueBatch - Calling spill() on RowBasedKeyValueBatch. Will not spill but return 0.\n",
      "2024-11-26T00:39:13,889 WARN [Executor task launch worker for task 0.0 in stage 121.0 (TID 119)] org.apache.spark.sql.catalyst.expressions.RowBasedKeyValueBatch - Calling spill() on RowBasedKeyValueBatch. Will not spill but return 0.\n",
      "2024-11-26T00:39:15,280 WARN [Executor task launch worker for task 0.0 in stage 121.0 (TID 119)] org.apache.spark.sql.catalyst.expressions.RowBasedKeyValueBatch - Calling spill() on RowBasedKeyValueBatch. Will not spill but return 0.\n",
      "2024-11-26T00:39:15,352 WARN [Executor task launch worker for task 0.0 in stage 121.0 (TID 119)] org.apache.spark.sql.catalyst.expressions.RowBasedKeyValueBatch - Calling spill() on RowBasedKeyValueBatch. Will not spill but return 0.\n",
      "2024-11-26T00:39:16,796 WARN [Executor task launch worker for task 0.0 in stage 121.0 (TID 119)] org.apache.spark.sql.catalyst.expressions.RowBasedKeyValueBatch - Calling spill() on RowBasedKeyValueBatch. Will not spill but return 0.\n",
      "2024-11-26T00:39:16,807 WARN [Executor task launch worker for task 0.0 in stage 121.0 (TID 119)] org.apache.spark.sql.catalyst.expressions.RowBasedKeyValueBatch - Calling spill() on RowBasedKeyValueBatch. Will not spill but return 0.\n",
      "2024-11-26T00:39:18,164 WARN [Executor task launch worker for task 0.0 in stage 121.0 (TID 119)] org.apache.spark.sql.catalyst.expressions.RowBasedKeyValueBatch - Calling spill() on RowBasedKeyValueBatch. Will not spill but return 0.\n",
      "2024-11-26T00:39:18,175 WARN [Executor task launch worker for task 0.0 in stage 121.0 (TID 119)] org.apache.spark.sql.catalyst.expressions.RowBasedKeyValueBatch - Calling spill() on RowBasedKeyValueBatch. Will not spill but return 0.\n",
      "2024-11-26T00:39:19,459 WARN [Executor task launch worker for task 0.0 in stage 121.0 (TID 119)] org.apache.spark.sql.catalyst.expressions.RowBasedKeyValueBatch - Calling spill() on RowBasedKeyValueBatch. Will not spill but return 0.\n",
      "2024-11-26T00:39:19,471 WARN [Executor task launch worker for task 0.0 in stage 121.0 (TID 119)] org.apache.spark.sql.catalyst.expressions.RowBasedKeyValueBatch - Calling spill() on RowBasedKeyValueBatch. Will not spill but return 0.\n",
      "2024-11-26T00:39:20,825 WARN [Executor task launch worker for task 0.0 in stage 121.0 (TID 119)] org.apache.spark.sql.catalyst.expressions.RowBasedKeyValueBatch - Calling spill() on RowBasedKeyValueBatch. Will not spill but return 0.\n",
      "2024-11-26T00:39:20,836 WARN [Executor task launch worker for task 0.0 in stage 121.0 (TID 119)] org.apache.spark.sql.catalyst.expressions.RowBasedKeyValueBatch - Calling spill() on RowBasedKeyValueBatch. Will not spill but return 0.\n",
      "2024-11-26T00:39:22,424 WARN [Executor task launch worker for task 0.0 in stage 121.0 (TID 119)] org.apache.spark.sql.catalyst.expressions.RowBasedKeyValueBatch - Calling spill() on RowBasedKeyValueBatch. Will not spill but return 0.\n",
      "2024-11-26T00:39:22,445 WARN [Executor task launch worker for task 0.0 in stage 121.0 (TID 119)] org.apache.spark.sql.catalyst.expressions.RowBasedKeyValueBatch - Calling spill() on RowBasedKeyValueBatch. Will not spill but return 0.\n",
      "2024-11-26T00:39:23,766 WARN [Executor task launch worker for task 0.0 in stage 121.0 (TID 119)] org.apache.spark.sql.catalyst.expressions.RowBasedKeyValueBatch - Calling spill() on RowBasedKeyValueBatch. Will not spill but return 0.\n",
      "2024-11-26T00:39:23,778 WARN [Executor task launch worker for task 0.0 in stage 121.0 (TID 119)] org.apache.spark.sql.catalyst.expressions.RowBasedKeyValueBatch - Calling spill() on RowBasedKeyValueBatch. Will not spill but return 0.\n"
     ]
    }
   ],
   "source": [
    "fact_orders.show(1)"
   ]
  },
  {
   "cell_type": "code",
   "execution_count": null,
   "id": "538693e0-c6d8-457a-bdf6-d769dabd3769",
   "metadata": {},
   "outputs": [],
   "source": [
    "fff = fact_orders.head(1)\n",
    "fff"
   ]
  },
  {
   "cell_type": "code",
   "execution_count": null,
   "id": "d68b9671-a625-4ac2-b9de-b399de73dc39",
   "metadata": {},
   "outputs": [],
   "source": []
  }
 ],
 "metadata": {
  "kernelspec": {
   "display_name": "Python 3 (ipykernel)",
   "language": "python",
   "name": "python3"
  },
  "language_info": {
   "codemirror_mode": {
    "name": "ipython",
    "version": 3
   },
   "file_extension": ".py",
   "mimetype": "text/x-python",
   "name": "python",
   "nbconvert_exporter": "python",
   "pygments_lexer": "ipython3",
   "version": "3.8.8"
  }
 },
 "nbformat": 4,
 "nbformat_minor": 5
}
