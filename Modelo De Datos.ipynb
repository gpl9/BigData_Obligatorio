{
 "cells": [
  {
   "cell_type": "code",
   "execution_count": 2,
   "id": "cee1f910-a640-4811-ab77-fdbdcb39c985",
   "metadata": {},
   "outputs": [
    {
     "name": "stderr",
     "output_type": "stream",
     "text": [
      "Setting default log level to \"WARN\".\n",
      "To adjust logging level use sc.setLogLevel(newLevel). For SparkR, use setLogLevel(newLevel).\n"
     ]
    },
    {
     "name": "stdout",
     "output_type": "stream",
     "text": [
      "2024-11-22T23:05:44,640 WARN [Thread-4] org.apache.hadoop.util.NativeCodeLoader - Unable to load native-hadoop library for your platform... using builtin-java classes where applicable\n",
      "2024-11-22T23:05:45,996 WARN [Thread-4] org.apache.spark.util.Utils - Service 'SparkUI' could not bind on port 4040. Attempting port 4041.\n"
     ]
    }
   ],
   "source": [
    "import pyspark\n",
    "from pyspark.sql.functions import *\n",
    "sc = pyspark.SparkContext('local[*]')"
   ]
  },
  {
   "cell_type": "code",
   "execution_count": 3,
   "id": "e0bd032d-959f-4e21-849f-6b97197d0539",
   "metadata": {},
   "outputs": [],
   "source": [
    "from pyspark.sql.functions import *"
   ]
  },
  {
   "cell_type": "code",
   "execution_count": 4,
   "id": "fd439ca8-6a5d-46aa-8de5-eaddf08a05c7",
   "metadata": {},
   "outputs": [],
   "source": [
    "# import findspark\n",
    "# findspark.init()\n",
    "import pyspark\n",
    "from pyspark.sql import SparkSession\n",
    "spark = SparkSession.builder.getOrCreate()"
   ]
  },
  {
   "cell_type": "code",
   "execution_count": 8,
   "id": "0aa2720c-6945-4b8f-a87e-cbbbca70cd58",
   "metadata": {},
   "outputs": [
    {
     "name": "stderr",
     "output_type": "stream",
     "text": [
      "                                                                                \r"
     ]
    }
   ],
   "source": [
    "# 1\n",
    "cleaned_olist_customers_dataset = spark.read.csv(\"/obligatorio/data/cleaned/cleaned_olist_geolocation_dataset.csv\", header=True, inferSchema=True)\n",
    "# 2\n",
    "cleaned_olist_geolocation_dataset = spark.read.csv(\"/obligatorio/data/cleaned/cleaned_olist_geolocation_dataset.csv\", header=True, inferSchema=True)\n",
    "# 3\n",
    "cleaned_olist_order_items_dataset = spark.read.csv(\"/obligatorio/data/cleaned/cleaned_olist_order_items_dataset.csv\", header=True, inferSchema=True)\n",
    "# 4\n",
    "cleaned_olist_order_payments_dataset = spark.read.csv(\"/obligatorio/data/cleaned/cleaned_olist_order_payments_dataset.csv\", header=True, inferSchema=True)\n",
    "# 5\n",
    "cleaned_olist_order_reviews_dataset = spark.read.csv(\"/obligatorio/data/cleaned/cleaned_olist_order_reviews_dataset.csv\", header=True, inferSchema=True)\n",
    "# 6\n",
    "cleaned_olist_orders_dataset = spark.read.csv(\"/obligatorio/data/cleaned/cleaned_olist_orders_dataset.csv\", header=True, inferSchema=True)\n",
    "# 7\n",
    "cleaned_olist_products_dataset = spark.read.csv(\"/obligatorio/data/cleaned/cleaned_olist_products_dataset.csv\", header=True, inferSchema=True)\n",
    "# 8\n",
    "cleaned_olist_sellers_dataset = spark.read.csv(\"/obligatorio/data/cleaned/olist_sellers_dataset.csv\", header=True, inferSchema=True)\n",
    "# 9\n",
    "cleaned_product_category_name_translation_dataset = spark.read.csv(\"/obligatorio/data/cleaned/cleaned_product_category_name_translation.csv\", header=True, inferSchema=True)"
   ]
  },
  {
   "cell_type": "markdown",
   "id": "85deee77-0f92-4434-8a84-e1d51f48d023",
   "metadata": {},
   "source": [
    "Es también conocido como diagrama estrella o diagrama de copo de nieve. Tenemos dos tipos de tablas, las de hechos, y las de dimensiones.\n",
    "\n",
    "- Tablas de hechos: Contienen las medidas o los valores numéricos que se quieren analizar. Por lo general, los datos numéricos son agregados y analizados en diferentes niveles de granularidad, como por ejemplo, por día, semana, mes o trimestre. Estas tablas suelen tener muchas filas y relativamente pocas columnas, con cada fila representando una transacción u otra actividad registrada en el sistema.\n",
    "\n",
    "- Tablas de dimensiones: Contienen información descriptiva que se utiliza para filtrar o segmentar los datos de la tabla de hechos. Estas tablas contienen atributos que describen las características de las transacciones, como la fecha, el lugar, el producto, el cliente, entre otros. Las tablas de dimensiones suelen tener menos filas y más columnas que las tablas de hechos.\n",
    "\n",
    "Las tablas de hechos y las tablas de dimensiones están relacionadas entre sí a través de claves. Cada fila de la tabla de hechos se relaciona con una o más filas de la tabla de dimensiones a través de claves. Esta relación permite combinar los datos de las tablas de hechos y de dimensiones para realizar análisis detallados.\n",
    "\n",
    "Damos forma a un esquema de estrella. Nuestras tablas de hechos van a ser el libro que es prestado y la ubicación del Libro. Nuestras dimensiones van a ser una de libros, una de librerías, otra de quienes piden prestados los libros y otra de publicadores.\n",
    "\n",
    "Usamos claves surrogadas porque no tenemos control sobre los identificadores primarios de la fuente original. Así nos protegemos ante eventuales cambios.\n",
    "\n",
    "Las tablas de dimensiones están hechas de tipo 1. Si queremos pasar a tipo 2 debemos agregar una columna flag que indique que estado de la fila es, o usar columnas con fechas para guardar el período de tiempo en el que estuvo el registro en ese estado, antes de pasar al siguiente."
   ]
  },
  {
   "cell_type": "markdown",
   "id": "e8df1e26-db19-4792-bb4d-88c1033cee1d",
   "metadata": {},
   "source": [
    "Preguntas:"
   ]
  },
  {
   "cell_type": "markdown",
   "id": "3baded08-01c8-4fb3-9a2c-169484ec6d3d",
   "metadata": {},
   "source": [
    "- ¿Conjunto de productos que más se venden juntos?\n",
    "- Top 5 productos más vendidos por ciudad.\n",
    "- ¿Qué días del mes se vende más?\n",
    "- ¿Qué proporción de pedidos recibe cada calificación en las reseñas (de 1 a 5)? \n",
    "- ¿Cuál es el tiempo promedio entre la aprobación de un pedido y la entrega al cliente?"
   ]
  },
  {
   "cell_type": "code",
   "execution_count": 9,
   "id": "6e3d1787-e42b-4326-85c6-949769abc33c",
   "metadata": {},
   "outputs": [],
   "source": [
    "########################################################################################################################################"
   ]
  },
  {
   "cell_type": "markdown",
   "id": "3464af43-a5b2-49ce-afad-374729ddf041",
   "metadata": {},
   "source": [
    "Database Schema"
   ]
  },
  {
   "cell_type": "code",
   "execution_count": 11,
   "id": "3fee6a32-4796-4c88-80bd-ac0dcddaefce",
   "metadata": {},
   "outputs": [
    {
     "name": "stdout",
     "output_type": "stream",
     "text": [
      "/bin/bash: -c: line 0: syntax error near unexpected token `attachment:obligatorio/database_schema.png'\n",
      "/bin/bash: -c: line 0: `[obligatorio/database_schema.png](attachment:obligatorio/database_schema.png)'\n"
     ]
    }
   ],
   "source": []
  },
  {
   "cell_type": "code",
   "execution_count": null,
   "id": "dbae14a2-650c-48b2-8cc6-96343cc81c1e",
   "metadata": {},
   "outputs": [],
   "source": []
  }
 ],
 "metadata": {
  "kernelspec": {
   "display_name": "Python 3 (ipykernel)",
   "language": "python",
   "name": "python3"
  },
  "language_info": {
   "codemirror_mode": {
    "name": "ipython",
    "version": 3
   },
   "file_extension": ".py",
   "mimetype": "text/x-python",
   "name": "python",
   "nbconvert_exporter": "python",
   "pygments_lexer": "ipython3",
   "version": "3.8.8"
  }
 },
 "nbformat": 4,
 "nbformat_minor": 5
}
