{
 "cells": [
  {
   "cell_type": "code",
   "execution_count": 1,
   "id": "cee1f910-a640-4811-ab77-fdbdcb39c985",
   "metadata": {},
   "outputs": [
    {
     "name": "stderr",
     "output_type": "stream",
     "text": [
      "Setting default log level to \"WARN\".\n",
      "To adjust logging level use sc.setLogLevel(newLevel). For SparkR, use setLogLevel(newLevel).\n"
     ]
    },
    {
     "name": "stdout",
     "output_type": "stream",
     "text": [
      "2024-11-26T02:04:45,215 WARN [Thread-4] org.apache.hadoop.util.NativeCodeLoader - Unable to load native-hadoop library for your platform... using builtin-java classes where applicable\n"
     ]
    }
   ],
   "source": [
    "import pyspark\n",
    "from pyspark.sql.functions import *\n",
    "sc = pyspark.SparkContext('local[*]')"
   ]
  },
  {
   "cell_type": "code",
   "execution_count": 2,
   "id": "e0bd032d-959f-4e21-849f-6b97197d0539",
   "metadata": {},
   "outputs": [],
   "source": [
    "from pyspark.sql.functions import *"
   ]
  },
  {
   "cell_type": "code",
   "execution_count": 3,
   "id": "fd439ca8-6a5d-46aa-8de5-eaddf08a05c7",
   "metadata": {},
   "outputs": [],
   "source": [
    "# import findspark\n",
    "# findspark.init()\n",
    "import pyspark\n",
    "from pyspark.sql import SparkSession\n",
    "spark = SparkSession.builder.getOrCreate()"
   ]
  },
  {
   "cell_type": "code",
   "execution_count": 4,
   "id": "0aa2720c-6945-4b8f-a87e-cbbbca70cd58",
   "metadata": {},
   "outputs": [
    {
     "name": "stderr",
     "output_type": "stream",
     "text": [
      "                                                                                \r"
     ]
    }
   ],
   "source": [
    "# 1\n",
    "cleaned_olist_customers_dataset = spark.read.csv(\"/obligatorio/data/cleaned/cleaned_olist_customers_dataset.csv\", header=True, inferSchema=True)\n",
    "# 2\n",
    "cleaned_olist_geolocation_dataset = spark.read.csv(\"/obligatorio/data/cleaned/cleaned_olist_geolocation_dataset.csv\", header=True, inferSchema=True)\n",
    "# 3\n",
    "cleaned_olist_order_items_dataset = spark.read.csv(\"/obligatorio/data/cleaned/cleaned_olist_order_items_dataset.csv\", header=True, inferSchema=True)\n",
    "# 4\n",
    "cleaned_olist_order_payments_dataset = spark.read.csv(\"/obligatorio/data/cleaned/cleaned_olist_order_payments_dataset.csv\", header=True, inferSchema=True)\n",
    "# 5\n",
    "cleaned_olist_order_reviews_dataset = spark.read.csv(\"/obligatorio/data/cleaned/cleaned_olist_order_reviews_dataset.csv\", header=True, inferSchema=True)\n",
    "# 6\n",
    "cleaned_olist_orders_dataset = spark.read.csv(\"/obligatorio/data/cleaned/cleaned_olist_orders_dataset.csv\", header=True, inferSchema=True)\n",
    "# 7\n",
    "cleaned_olist_products_dataset = spark.read.csv(\"/obligatorio/data/cleaned/cleaned_olist_products_dataset.csv\", header=True, inferSchema=True)\n",
    "# 8\n",
    "cleaned_olist_sellers_dataset = spark.read.csv(\"/obligatorio/data/cleaned/olist_sellers_dataset.csv\", header=True, inferSchema=True)\n",
    "# 9\n",
    "cleaned_product_category_name_translation_dataset = spark.read.csv(\"/obligatorio/data/cleaned/cleaned_product_category_name_translation.csv\", header=True, inferSchema=True)"
   ]
  },
  {
   "cell_type": "code",
   "execution_count": 5,
   "id": "1f6fff63-9ada-42b0-b577-772f8a1d4f02",
   "metadata": {},
   "outputs": [],
   "source": [
    "cleaned_olist_customers_dataset = spark.read.csv(\"/obligatorio/data/cleaned/cleaned_olist_customers_dataset.csv\", header=True, inferSchema=True)"
   ]
  },
  {
   "cell_type": "markdown",
   "id": "85deee77-0f92-4434-8a84-e1d51f48d023",
   "metadata": {},
   "source": [
    "Es también conocido como diagrama estrella o diagrama de copo de nieve. Tenemos dos tipos de tablas, las de hechos, y las de dimensiones.\n",
    "\n",
    "- Tablas de hechos: Contienen las medidas o los valores numéricos que se quieren analizar. Por lo general, los datos numéricos son agregados y analizados en diferentes niveles de granularidad, como por ejemplo, por día, semana, mes o trimestre. Estas tablas suelen tener muchas filas y relativamente pocas columnas, con cada fila representando una transacción u otra actividad registrada en el sistema.\n",
    "\n",
    "- Tablas de dimensiones: Contienen información descriptiva que se utiliza para filtrar o segmentar los datos de la tabla de hechos. Estas tablas contienen atributos que describen las características de las transacciones, como la fecha, el lugar, el producto, el cliente, entre otros. Las tablas de dimensiones suelen tener menos filas y más columnas que las tablas de hechos.\n",
    "\n",
    "Las tablas de hechos y las tablas de dimensiones están relacionadas entre sí a través de claves. Cada fila de la tabla de hechos se relaciona con una o más filas de la tabla de dimensiones a través de claves. Esta relación permite combinar los datos de las tablas de hechos y de dimensiones para realizar análisis detallados.\n",
    "\n",
    "Damos forma a un esquema de estrella. Nuestras tablas de hechos van a ser el libro que es prestado y la ubicación del Libro. Nuestras dimensiones van a ser una de libros, una de librerías, otra de quienes piden prestados los libros y otra de publicadores.\n",
    "\n",
    "Usamos claves surrogadas porque no tenemos control sobre los identificadores primarios de la fuente original. Así nos protegemos ante eventuales cambios.\n",
    "\n",
    "Las tablas de dimensiones están hechas de tipo 1. Si queremos pasar a tipo 2 debemos agregar una columna flag que indique que estado de la fila es, o usar columnas con fechas para guardar el período de tiempo en el que estuvo el registro en ese estado, antes de pasar al siguiente."
   ]
  },
  {
   "cell_type": "markdown",
   "id": "e8df1e26-db19-4792-bb4d-88c1033cee1d",
   "metadata": {},
   "source": [
    "Preguntas:"
   ]
  },
  {
   "cell_type": "markdown",
   "id": "3baded08-01c8-4fb3-9a2c-169484ec6d3d",
   "metadata": {},
   "source": [
    "- ¿Conjunto de productos que más se venden juntos?\n",
    "- Top 5 productos más vendidos por ciudad.\n",
    "- ¿Qué días del mes se vende más?\n",
    "- ¿Qué proporción de pedidos recibe cada calificación en las reseñas (de 1 a 5)? \n",
    "- ¿Cuál es el tiempo promedio entre la aprobación de un pedido y la entrega al cliente?"
   ]
  },
  {
   "cell_type": "code",
   "execution_count": 6,
   "id": "6e3d1787-e42b-4326-85c6-949769abc33c",
   "metadata": {},
   "outputs": [],
   "source": [
    "########################################################################################################################################"
   ]
  },
  {
   "cell_type": "markdown",
   "id": "3464af43-a5b2-49ce-afad-374729ddf041",
   "metadata": {},
   "source": [
    "Database Schema"
   ]
  },
  {
   "cell_type": "code",
   "execution_count": 7,
   "id": "68f6c62b-67af-4007-b238-234cef45c156",
   "metadata": {},
   "outputs": [],
   "source": [
    "# Geolocalización"
   ]
  },
  {
   "cell_type": "code",
   "execution_count": 8,
   "id": "7299727c-0b80-4936-93f6-7b8e884076d7",
   "metadata": {},
   "outputs": [
    {
     "name": "stdout",
     "output_type": "stream",
     "text": [
      "root\n",
      " |-- geolocation_zip_code_prefix: integer (nullable = true)\n",
      " |-- geolocation_lat: double (nullable = true)\n",
      " |-- geolocation_lng: double (nullable = true)\n",
      " |-- geolocation_city: string (nullable = true)\n",
      " |-- geolocation_state: string (nullable = true)\n",
      "\n"
     ]
    }
   ],
   "source": [
    "cleaned_olist_geolocation_dataset.printSchema()"
   ]
  },
  {
   "cell_type": "code",
   "execution_count": 9,
   "id": "3fee6a32-4796-4c88-80bd-ac0dcddaefce",
   "metadata": {},
   "outputs": [],
   "source": [
    "dim_geolocation = cleaned_olist_geolocation_dataset.select(\n",
    "    col(\"geolocation_zip_code_prefix\").alias(\"zip_code_prefix\"),\n",
    "    col(\"geolocation_city\").alias(\"city\"),\n",
    "    col(\"geolocation_state\").alias(\"state\"),\n",
    "    col(\"geolocation_lat\").alias(\"latitude\"),\n",
    "    col(\"geolocation_lng\").alias(\"longitude\")\n",
    ").distinct().withColumn(\"geo_id\", monotonically_increasing_id())"
   ]
  },
  {
   "cell_type": "code",
   "execution_count": 10,
   "id": "dbae14a2-650c-48b2-8cc6-96343cc81c1e",
   "metadata": {},
   "outputs": [],
   "source": [
    "# Customer"
   ]
  },
  {
   "cell_type": "code",
   "execution_count": 11,
   "id": "b5c57669-2193-4e03-a674-814076dcece8",
   "metadata": {},
   "outputs": [
    {
     "name": "stdout",
     "output_type": "stream",
     "text": [
      "root\n",
      " |-- customer_id: string (nullable = true)\n",
      " |-- customer_unique_id: string (nullable = true)\n",
      " |-- customer_zip_code_prefix: integer (nullable = true)\n",
      " |-- customer_city: string (nullable = true)\n",
      " |-- customer_state: string (nullable = true)\n",
      "\n"
     ]
    }
   ],
   "source": [
    "cleaned_olist_customers_dataset.printSchema()"
   ]
  },
  {
   "cell_type": "code",
   "execution_count": 12,
   "id": "bdaf1987-aebd-4052-b311-296ce684b5ad",
   "metadata": {},
   "outputs": [],
   "source": [
    "dim_customers = cleaned_olist_customers_dataset.join(\n",
    "    dim_geolocation,\n",
    "    cleaned_olist_customers_dataset.customer_zip_code_prefix == dim_geolocation.zip_code_prefix,\n",
    "    \"left\"\n",
    ").select(\n",
    "    col(\"customer_id\"),\n",
    "    col(\"customer_unique_id\"),\n",
    "    col(\"geo_id\").alias(\"customer_geo_id\")\n",
    ")"
   ]
  },
  {
   "cell_type": "code",
   "execution_count": 13,
   "id": "e5559b12-bb5f-418a-877c-540a3a338eef",
   "metadata": {},
   "outputs": [
    {
     "name": "stderr",
     "output_type": "stream",
     "text": [
      "[Stage 23:>                                                         (0 + 2) / 2]\r"
     ]
    },
    {
     "name": "stdout",
     "output_type": "stream",
     "text": [
      "+--------------------+--------------------+---------------+\n",
      "|         customer_id|  customer_unique_id|customer_geo_id|\n",
      "+--------------------+--------------------+---------------+\n",
      "|369708cabd9831ea6...|94b731a41867b47c3...|          17071|\n",
      "|369708cabd9831ea6...|94b731a41867b47c3...|          83611|\n",
      "|369708cabd9831ea6...|94b731a41867b47c3...|         199901|\n",
      "|369708cabd9831ea6...|94b731a41867b47c3...|         247945|\n",
      "|369708cabd9831ea6...|94b731a41867b47c3...|         286101|\n",
      "|369708cabd9831ea6...|94b731a41867b47c3...|         308830|\n",
      "|369708cabd9831ea6...|94b731a41867b47c3...|         321192|\n",
      "|369708cabd9831ea6...|94b731a41867b47c3...|         336608|\n",
      "|369708cabd9831ea6...|94b731a41867b47c3...|         337947|\n",
      "|369708cabd9831ea6...|94b731a41867b47c3...|     8589957421|\n",
      "+--------------------+--------------------+---------------+\n",
      "only showing top 10 rows\n",
      "\n"
     ]
    },
    {
     "name": "stderr",
     "output_type": "stream",
     "text": [
      "                                                                                \r"
     ]
    }
   ],
   "source": [
    "dim_customers.show(10)"
   ]
  },
  {
   "cell_type": "code",
   "execution_count": 14,
   "id": "c5b9d85f-d95f-44f0-be54-126369168d46",
   "metadata": {},
   "outputs": [],
   "source": [
    "# Seller"
   ]
  },
  {
   "cell_type": "code",
   "execution_count": 15,
   "id": "8f1607ea-d0c6-4ac2-be32-1d73d3e64ed2",
   "metadata": {},
   "outputs": [
    {
     "name": "stdout",
     "output_type": "stream",
     "text": [
      "root\n",
      " |-- seller_id: string (nullable = true)\n",
      " |-- seller_zip_code_prefix: integer (nullable = true)\n",
      " |-- seller_city: string (nullable = true)\n",
      " |-- seller_state: string (nullable = true)\n",
      "\n"
     ]
    }
   ],
   "source": [
    "cleaned_olist_sellers_dataset.printSchema()"
   ]
  },
  {
   "cell_type": "code",
   "execution_count": 16,
   "id": "b1dc6b5e-96d5-4383-9977-22f08f57aee7",
   "metadata": {},
   "outputs": [],
   "source": [
    "dim_sellers = cleaned_olist_sellers_dataset.join(\n",
    "    dim_geolocation,\n",
    "    cleaned_olist_sellers_dataset.seller_zip_code_prefix == dim_geolocation.zip_code_prefix,\n",
    "    \"left\"\n",
    ").select(\n",
    "    col(\"seller_id\"),\n",
    "    col(\"geo_id\").alias(\"seller_geo_id\")\n",
    ")"
   ]
  },
  {
   "cell_type": "code",
   "execution_count": 17,
   "id": "8187a2ee-5833-4006-b0e6-3f44287a4f6d",
   "metadata": {},
   "outputs": [
    {
     "name": "stderr",
     "output_type": "stream",
     "text": [
      "[Stage 31:>                                                         (0 + 2) / 2]\r"
     ]
    },
    {
     "name": "stdout",
     "output_type": "stream",
     "text": [
      "+--------------------+-------------+\n",
      "|           seller_id|seller_geo_id|\n",
      "+--------------------+-------------+\n",
      "|67883baaae6134ee8...|        17597|\n",
      "|67883baaae6134ee8...|        35437|\n",
      "|67883baaae6134ee8...|        48345|\n",
      "|67883baaae6134ee8...|        53837|\n",
      "|67883baaae6134ee8...|        55425|\n",
      "|67883baaae6134ee8...|       105282|\n",
      "|67883baaae6134ee8...|       120560|\n",
      "|67883baaae6134ee8...|       157312|\n",
      "|67883baaae6134ee8...|       160905|\n",
      "|67883baaae6134ee8...|       170686|\n",
      "+--------------------+-------------+\n",
      "only showing top 10 rows\n",
      "\n"
     ]
    },
    {
     "name": "stderr",
     "output_type": "stream",
     "text": [
      "                                                                                \r"
     ]
    }
   ],
   "source": [
    "dim_sellers.show(10)"
   ]
  },
  {
   "cell_type": "code",
   "execution_count": 18,
   "id": "54be7c3a-98ba-49c1-ba96-fefc217e062e",
   "metadata": {},
   "outputs": [],
   "source": [
    "# Products"
   ]
  },
  {
   "cell_type": "code",
   "execution_count": 19,
   "id": "fe21e138-8848-43b5-b6a4-5de2efcd8ec3",
   "metadata": {},
   "outputs": [
    {
     "name": "stdout",
     "output_type": "stream",
     "text": [
      "root\n",
      " |-- product_id: string (nullable = true)\n",
      " |-- product_category_name: string (nullable = true)\n",
      " |-- product_name_lenght: integer (nullable = true)\n",
      " |-- product_description_lenght: integer (nullable = true)\n",
      " |-- product_photos_qty: integer (nullable = true)\n",
      " |-- product_weight_g: integer (nullable = true)\n",
      " |-- product_length_cm: integer (nullable = true)\n",
      " |-- product_height_cm: integer (nullable = true)\n",
      " |-- product_width_cm: integer (nullable = true)\n",
      "\n"
     ]
    }
   ],
   "source": [
    "cleaned_olist_products_dataset.printSchema()"
   ]
  },
  {
   "cell_type": "code",
   "execution_count": 20,
   "id": "f8f49874-2827-48e4-9305-54e28ed0ad7f",
   "metadata": {},
   "outputs": [
    {
     "name": "stdout",
     "output_type": "stream",
     "text": [
      "root\n",
      " |-- product_category_name: string (nullable = true)\n",
      " |-- product_category_name_english: string (nullable = true)\n",
      "\n"
     ]
    }
   ],
   "source": [
    "cleaned_product_category_name_translation_dataset.printSchema()"
   ]
  },
  {
   "cell_type": "code",
   "execution_count": 21,
   "id": "5bca0a65-ad17-4e86-8a74-fec9f2559e10",
   "metadata": {},
   "outputs": [],
   "source": [
    "dim_products = cleaned_olist_products_dataset.join(\n",
    "    cleaned_product_category_name_translation_dataset,\n",
    "    \"product_category_name\",\n",
    "    \"left\"\n",
    ").select(\n",
    "    col(\"product_id\"),\n",
    "    col(\"product_category_name\"),\n",
    "    col(\"product_category_name_english\"),\n",
    "    col(\"product_name_lenght\"),\n",
    "    col(\"product_description_lenght\"),\n",
    "    col(\"product_photos_qty\"),\n",
    "    col(\"product_weight_g\"),\n",
    "    col(\"product_length_cm\"),\n",
    "    col(\"product_height_cm\"),\n",
    "    col(\"product_width_cm\")\n",
    ")"
   ]
  },
  {
   "cell_type": "code",
   "execution_count": 22,
   "id": "c5ec052e-c68e-4070-aadd-7b7f62ed3334",
   "metadata": {},
   "outputs": [
    {
     "name": "stderr",
     "output_type": "stream",
     "text": [
      "[Stage 39:=============================>                            (1 + 1) / 2]\r"
     ]
    },
    {
     "name": "stdout",
     "output_type": "stream",
     "text": [
      "+--------------------+-------------+\n",
      "|           seller_id|seller_geo_id|\n",
      "+--------------------+-------------+\n",
      "|67883baaae6134ee8...|        17597|\n",
      "|67883baaae6134ee8...|        35437|\n",
      "|67883baaae6134ee8...|        48345|\n",
      "|67883baaae6134ee8...|        53837|\n",
      "|67883baaae6134ee8...|        55425|\n",
      "|67883baaae6134ee8...|       105282|\n",
      "|67883baaae6134ee8...|       120560|\n",
      "|67883baaae6134ee8...|       157312|\n",
      "|67883baaae6134ee8...|       160905|\n",
      "|67883baaae6134ee8...|       170686|\n",
      "+--------------------+-------------+\n",
      "only showing top 10 rows\n",
      "\n"
     ]
    },
    {
     "name": "stderr",
     "output_type": "stream",
     "text": [
      "                                                                                \r"
     ]
    }
   ],
   "source": [
    "dim_sellers.show(10)"
   ]
  },
  {
   "cell_type": "code",
   "execution_count": 23,
   "id": "80271274-79ea-456b-9fe5-edf3d56db535",
   "metadata": {},
   "outputs": [],
   "source": [
    "# Payments"
   ]
  },
  {
   "cell_type": "code",
   "execution_count": 24,
   "id": "bb305000-21b6-4397-b91a-7550bb278567",
   "metadata": {},
   "outputs": [
    {
     "name": "stdout",
     "output_type": "stream",
     "text": [
      "root\n",
      " |-- order_id: string (nullable = true)\n",
      " |-- payment_sequential: integer (nullable = true)\n",
      " |-- payment_type: string (nullable = true)\n",
      " |-- payment_installments: integer (nullable = true)\n",
      " |-- payment_value: double (nullable = true)\n",
      "\n"
     ]
    }
   ],
   "source": [
    "cleaned_olist_order_payments_dataset.printSchema()"
   ]
  },
  {
   "cell_type": "code",
   "execution_count": 25,
   "id": "555d2b23-5854-4eec-9a2b-c4256df8b3c0",
   "metadata": {},
   "outputs": [
    {
     "name": "stdout",
     "output_type": "stream",
     "text": [
      "+--------------------+------------------+------------+--------------------+-------------+\n",
      "|            order_id|payment_sequential|payment_type|payment_installments|payment_value|\n",
      "+--------------------+------------------+------------+--------------------+-------------+\n",
      "|9389b64e7d922e3b0...|                 1| credit_card|                   4|       125.43|\n",
      "|91e725244b1ed7224...|                 1| credit_card|                   3|       113.33|\n",
      "|ad9447ca1bb7d23ed...|                 1|      boleto|                   1|       224.45|\n",
      "|41b03a6bad9f1feda...|                 1| credit_card|                   1|       220.66|\n",
      "|9378f7fb4dad9527f...|                 1| credit_card|                   1|       117.01|\n",
      "|dd2abc99a0eb03ae7...|                 1| credit_card|                   3|        71.36|\n",
      "|de806f0367f37cd3f...|                 1| credit_card|                   7|       157.13|\n",
      "|4a49f0eb11c5d69be...|                 1| credit_card|                   1|        73.72|\n",
      "|e5606996314126e70...|                 1| credit_card|                   1|       116.95|\n",
      "|86a0962f08397e952...|                 1| credit_card|                   1|        40.13|\n",
      "+--------------------+------------------+------------+--------------------+-------------+\n",
      "only showing top 10 rows\n",
      "\n"
     ]
    }
   ],
   "source": [
    "cleaned_olist_order_payments_dataset.show(10)"
   ]
  },
  {
   "cell_type": "code",
   "execution_count": 26,
   "id": "3f81a64e-85dd-4c4c-a64c-e8a9adcee85a",
   "metadata": {},
   "outputs": [],
   "source": [
    "dim_payments = cleaned_olist_order_payments_dataset.select(\"payment_type\").distinct() \\\n",
    "    .withColumn(\"payment_type_id\", monotonically_increasing_id())"
   ]
  },
  {
   "cell_type": "code",
   "execution_count": 27,
   "id": "0def0ba1-70ee-46a2-b12c-a4ea498a9252",
   "metadata": {},
   "outputs": [
    {
     "name": "stdout",
     "output_type": "stream",
     "text": [
      "+------------+---------------+\n",
      "|payment_type|payment_type_id|\n",
      "+------------+---------------+\n",
      "|      boleto|              0|\n",
      "| not_defined|              1|\n",
      "| credit_card|              2|\n",
      "|     voucher|              3|\n",
      "|  debit_card|              4|\n",
      "+------------+---------------+\n",
      "\n"
     ]
    }
   ],
   "source": [
    "dim_payments.show(10)"
   ]
  },
  {
   "cell_type": "code",
   "execution_count": 28,
   "id": "09c73d4d-64b8-4349-8531-7f06f4b96861",
   "metadata": {},
   "outputs": [],
   "source": [
    "# Reviews"
   ]
  },
  {
   "cell_type": "code",
   "execution_count": 29,
   "id": "85fff4de-d6dc-4657-96b6-f7eca816ec0e",
   "metadata": {},
   "outputs": [
    {
     "name": "stdout",
     "output_type": "stream",
     "text": [
      "root\n",
      " |-- review_id: string (nullable = true)\n",
      " |-- order_id: string (nullable = true)\n",
      " |-- review_score: string (nullable = true)\n",
      " |-- review_comment_title: string (nullable = true)\n",
      " |-- review_comment_message: string (nullable = true)\n",
      " |-- review_creation_date: string (nullable = true)\n",
      " |-- review_answer_timestamp: string (nullable = true)\n",
      "\n"
     ]
    }
   ],
   "source": [
    "cleaned_olist_order_reviews_dataset.printSchema()"
   ]
  },
  {
   "cell_type": "code",
   "execution_count": 30,
   "id": "0a114142-0e59-40bd-b31e-ec2856becb1c",
   "metadata": {},
   "outputs": [],
   "source": [
    "dim_reviews = cleaned_olist_order_reviews_dataset.select(\"*\")"
   ]
  },
  {
   "cell_type": "code",
   "execution_count": 31,
   "id": "f1e83081-bab8-482b-bcc6-35e70aac1df6",
   "metadata": {},
   "outputs": [
    {
     "name": "stdout",
     "output_type": "stream",
     "text": [
      "+--------------------+--------------------+------------+--------------------+----------------------+--------------------+-----------------------+\n",
      "|           review_id|            order_id|review_score|review_comment_title|review_comment_message|review_creation_date|review_answer_timestamp|\n",
      "+--------------------+--------------------+------------+--------------------+----------------------+--------------------+-----------------------+\n",
      "|8f9aa50ee40780ba3...|729c445f5f350f88d...|           5|           Muito bom|  Creme maravilhoso...| 2018-05-10 00:00:00|    2018-05-10 16:21:17|\n",
      "|38bcaf95057f842c3...|ca36cc19c0a413c8f...|           3|                null|  Só recebi um prod...| 2018-04-28 00:00:00|    2018-04-29 01:11:49|\n",
      "|08ee947fb131a0a99...|0666806082c797ed8...|           5|                null|  Produto lindo, ótimo| 2017-07-08 00:00:00|    2017-07-09 09:59:54|\n",
      "|1f0c5d31b49a18cc2...|f810273bc84ceae52...|           4|                null|  Entrega uma dia a...| 2018-03-11 00:00:00|    2018-03-14 16:54:17|\n",
      "|a0a4f80c0cae188dd...|fadc814c107804fcb...|           5|                null|                  null| 2017-09-05 00:00:00|    2017-09-06 00:23:45|\n",
      "+--------------------+--------------------+------------+--------------------+----------------------+--------------------+-----------------------+\n",
      "only showing top 5 rows\n",
      "\n"
     ]
    }
   ],
   "source": [
    "dim_reviews.show(5)"
   ]
  },
  {
   "cell_type": "code",
   "execution_count": 32,
   "id": "24a8f20e-6b82-4781-8b76-79ba284f0f4a",
   "metadata": {},
   "outputs": [
    {
     "name": "stdout",
     "output_type": "stream",
     "text": [
      "+--------------------+--------------------+------------+--------------------+----------------------+--------------------+-----------------------+\n",
      "|           review_id|            order_id|review_score|review_comment_title|review_comment_message|review_creation_date|review_answer_timestamp|\n",
      "+--------------------+--------------------+------------+--------------------+----------------------+--------------------+-----------------------+\n",
      "|8f9aa50ee40780ba3...|729c445f5f350f88d...|           5|           Muito bom|  Creme maravilhoso...| 2018-05-10 00:00:00|    2018-05-10 16:21:17|\n",
      "|38bcaf95057f842c3...|ca36cc19c0a413c8f...|           3|                null|  Só recebi um prod...| 2018-04-28 00:00:00|    2018-04-29 01:11:49|\n",
      "|08ee947fb131a0a99...|0666806082c797ed8...|           5|                null|  Produto lindo, ótimo| 2017-07-08 00:00:00|    2017-07-09 09:59:54|\n",
      "|1f0c5d31b49a18cc2...|f810273bc84ceae52...|           4|                null|  Entrega uma dia a...| 2018-03-11 00:00:00|    2018-03-14 16:54:17|\n",
      "|a0a4f80c0cae188dd...|fadc814c107804fcb...|           5|                null|                  null| 2017-09-05 00:00:00|    2017-09-06 00:23:45|\n",
      "+--------------------+--------------------+------------+--------------------+----------------------+--------------------+-----------------------+\n",
      "only showing top 5 rows\n",
      "\n"
     ]
    }
   ],
   "source": [
    "cleaned_olist_order_reviews_dataset.show(5)"
   ]
  },
  {
   "cell_type": "code",
   "execution_count": 33,
   "id": "ba1dd19c-b0b5-4a61-836b-f397d0e82009",
   "metadata": {},
   "outputs": [],
   "source": [
    "# Order"
   ]
  },
  {
   "cell_type": "code",
   "execution_count": 34,
   "id": "4541f842-4d8f-48c3-ab0a-ee88b270458b",
   "metadata": {},
   "outputs": [
    {
     "name": "stderr",
     "output_type": "stream",
     "text": [
      "[Stage 53:>                                                         (0 + 2) / 2]\r"
     ]
    },
    {
     "name": "stdout",
     "output_type": "stream",
     "text": [
      "+--------------------+--------------------+---------------+\n",
      "|         customer_id|  customer_unique_id|customer_geo_id|\n",
      "+--------------------+--------------------+---------------+\n",
      "|369708cabd9831ea6...|94b731a41867b47c3...|          17071|\n",
      "|369708cabd9831ea6...|94b731a41867b47c3...|          83611|\n",
      "|369708cabd9831ea6...|94b731a41867b47c3...|         199901|\n",
      "|369708cabd9831ea6...|94b731a41867b47c3...|         247945|\n",
      "+--------------------+--------------------+---------------+\n",
      "only showing top 4 rows\n",
      "\n"
     ]
    },
    {
     "name": "stderr",
     "output_type": "stream",
     "text": [
      "                                                                                \r"
     ]
    }
   ],
   "source": [
    "dim_customers.show(4)"
   ]
  },
  {
   "cell_type": "code",
   "execution_count": 41,
   "id": "ea51e145-49be-4bfe-accd-5799e1bfd3a3",
   "metadata": {},
   "outputs": [],
   "source": [
    "# Unir las tablas necesarias\n",
    "fact_orders = cleaned_olist_orders_dataset.join(cleaned_olist_order_items_dataset, \"order_id\") \\\n",
    "    .join(cleaned_olist_order_payments_dataset, \"order_id\", \"left\") \\\n",
    "    .join(cleaned_olist_order_reviews_dataset, \"order_id\", \"left\") \\\n",
    "    .join(dim_sellers, \"seller_id\", \"left\") \\\n",
    "    .join(dim_customers, \"customer_id\", \"left\") \\\n",
    "    .groupBy(\n",
    "        \"order_id\", \n",
    "        \"customer_id\", \n",
    "        \"seller_id\",\n",
    "        \"review_id\",\n",
    "        \"order_status\",\n",
    "        \"customer_geo_id\",\n",
    "        \"seller_geo_id\",\n",
    "        \"product_id\",\n",
    "        \"order_purchase_timestamp\", \n",
    "        \"order_approved_at\", \n",
    "        \"order_delivered_customer_date\"\n",
    "    ).agg(\n",
    "        sum(\"price\").alias(\"total_price\"),\n",
    "        sum(\"freight_value\").alias(\"freight_value\"),\n",
    "        sum(\"payment_value\").alias(\"total_payment_value\"),  \n",
    "        avg(\"review_score\").alias(\"review_score\")\n",
    "    )"
   ]
  },
  {
   "cell_type": "code",
   "execution_count": 42,
   "id": "368b511a-89bc-4cac-8792-0da9f03b944d",
   "metadata": {},
   "outputs": [
    {
     "name": "stdout",
     "output_type": "stream",
     "text": [
      "root\n",
      " |-- order_id: string (nullable = true)\n",
      " |-- customer_id: string (nullable = true)\n",
      " |-- seller_id: string (nullable = true)\n",
      " |-- review_id: string (nullable = true)\n",
      " |-- order_status: string (nullable = true)\n",
      " |-- customer_geo_id: long (nullable = true)\n",
      " |-- seller_geo_id: long (nullable = true)\n",
      " |-- product_id: string (nullable = true)\n",
      " |-- order_purchase_timestamp: timestamp (nullable = true)\n",
      " |-- order_approved_at: timestamp (nullable = true)\n",
      " |-- order_delivered_customer_date: timestamp (nullable = true)\n",
      " |-- total_price: double (nullable = true)\n",
      " |-- freight_value: double (nullable = true)\n",
      " |-- total_payment_value: double (nullable = true)\n",
      " |-- review_score: double (nullable = true)\n",
      "\n"
     ]
    }
   ],
   "source": [
    "fact_orders.printSchema()"
   ]
  },
  {
   "cell_type": "code",
   "execution_count": 43,
   "id": "ef405128-8cd1-49d1-b9e6-028b4d6463c8",
   "metadata": {},
   "outputs": [],
   "source": [
    "directory_results = \"obligatorio/data/processed\""
   ]
  },
  {
   "cell_type": "code",
   "execution_count": 44,
   "id": "44da8bb6-619c-428f-91f0-4334ebb102a6",
   "metadata": {},
   "outputs": [
    {
     "data": {
      "text/plain": [
       "'hdfs://localhost:9000/obligatorio/data/processed/'"
      ]
     },
     "execution_count": 44,
     "metadata": {},
     "output_type": "execute_result"
    }
   ],
   "source": [
    "_path = f\"hdfs://localhost:9000/{directory_results}/\"\n",
    "_path"
   ]
  },
  {
   "cell_type": "code",
   "execution_count": 46,
   "id": "2b35d4d3-9447-47d0-b647-71dd936b842e",
   "metadata": {},
   "outputs": [
    {
     "name": "stderr",
     "output_type": "stream",
     "text": [
      "                                                                                \r"
     ]
    }
   ],
   "source": [
    "cleaned_olist_customers_dataset.write.csv(_path+\"/fact_orders.csv\", header=True, mode=\"overwrite\")"
   ]
  },
  {
   "cell_type": "code",
   "execution_count": 48,
   "id": "d34d8c25-5c4c-46ed-ad3a-d5b46f6d4cfb",
   "metadata": {},
   "outputs": [
    {
     "data": {
      "text/plain": [
       "99441"
      ]
     },
     "execution_count": 48,
     "metadata": {},
     "output_type": "execute_result"
    }
   ],
   "source": [
    "cleaned_olist_customers_dataset.count()"
   ]
  },
  {
   "cell_type": "code",
   "execution_count": null,
   "id": "d68b9671-a625-4ac2-b9de-b399de73dc39",
   "metadata": {},
   "outputs": [],
   "source": []
  }
 ],
 "metadata": {
  "kernelspec": {
   "display_name": "Python 3 (ipykernel)",
   "language": "python",
   "name": "python3"
  },
  "language_info": {
   "codemirror_mode": {
    "name": "ipython",
    "version": 3
   },
   "file_extension": ".py",
   "mimetype": "text/x-python",
   "name": "python",
   "nbconvert_exporter": "python",
   "pygments_lexer": "ipython3",
   "version": "3.8.8"
  }
 },
 "nbformat": 4,
 "nbformat_minor": 5
}
